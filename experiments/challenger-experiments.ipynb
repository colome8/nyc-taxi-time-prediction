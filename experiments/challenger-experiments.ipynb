{
 "cells": [
  {
   "metadata": {
    "ExecuteTime": {
     "end_time": "2024-10-25T02:49:20.379678Z",
     "start_time": "2024-10-25T02:49:20.375031Z"
    }
   },
   "cell_type": "code",
   "source": [
    "import dagshub\n",
    "import os\n",
    "import mlflow\n",
    "import mlflow.sklearn\n",
    "from sklearn.ensemble import GradientBoostingRegressor, RandomForestRegressor\n",
    "from sklearn.model_selection import train_test_split\n",
    "from sklearn.metrics import mean_squared_error, root_mean_squared_error\n",
    "import numpy as np\n",
    "import pandas as pd\n",
    "from sklearn.feature_extraction import DictVectorizer\n",
    "from hyperopt import fmin, tpe, hp, STATUS_OK, Trials\n",
    "from hyperopt.pyll import scope\n",
    "from dagshub import get_repo_bucket_client\n"
   ],
   "id": "9224edbfa806b342",
   "outputs": [],
   "execution_count": 7
  },
  {
   "metadata": {
    "ExecuteTime": {
     "end_time": "2024-10-25T02:51:10.076372Z",
     "start_time": "2024-10-25T02:51:09.631970Z"
    }
   },
   "cell_type": "code",
   "source": [
    "dagshub.init(url=\"https://dagshub.com/JuanPab2009/nyc-taxi-time-prediction\", mlflow=True)\n",
    "\n",
    "MLFLOW_TRACKING_URI = mlflow.get_tracking_uri()\n",
    "\n",
    "print(MLFLOW_TRACKING_URI)\n",
    "\n",
    "mlflow.set_tracking_uri(MLFLOW_TRACKING_URI)\n",
    "mlflow.set_experiment(experiment_name=\"nyc-taxi-experiment\")"
   ],
   "id": "78700d0703ca9e37",
   "outputs": [
    {
     "data": {
      "text/plain": [
       "Initialized MLflow to track repo \u001B[32m\"JuanPab2009/nyc-taxi-time-prediction\"\u001B[0m\n"
      ],
      "text/html": [
       "<pre style=\"white-space:pre;overflow-x:auto;line-height:normal;font-family:Menlo,'DejaVu Sans Mono',consolas,'Courier New',monospace\">Initialized MLflow to track repo <span style=\"color: #008000; text-decoration-color: #008000\">\"JuanPab2009/nyc-taxi-time-prediction\"</span>\n",
       "</pre>\n"
      ]
     },
     "metadata": {},
     "output_type": "display_data"
    },
    {
     "data": {
      "text/plain": [
       "Repository JuanPab2009/nyc-taxi-time-prediction initialized!\n"
      ],
      "text/html": [
       "<pre style=\"white-space:pre;overflow-x:auto;line-height:normal;font-family:Menlo,'DejaVu Sans Mono',consolas,'Courier New',monospace\">Repository JuanPab2009/nyc-taxi-time-prediction initialized!\n",
       "</pre>\n"
      ]
     },
     "metadata": {},
     "output_type": "display_data"
    },
    {
     "name": "stdout",
     "output_type": "stream",
     "text": [
      "https://dagshub.com/JuanPab2009/nys-taxi-time-prediction.mlflow\n"
     ]
    },
    {
     "data": {
      "text/plain": [
       "<Experiment: artifact_location='mlflow-artifacts:/d91b7466c0d34a77b797272f7616c7a9', creation_time=1729824562295, experiment_id='1', last_update_time=1729824562295, lifecycle_stage='active', name='nyc-taxi-experiment', tags={}>"
      ]
     },
     "execution_count": 9,
     "metadata": {},
     "output_type": "execute_result"
    }
   ],
   "execution_count": 9
  },
  {
   "metadata": {
    "ExecuteTime": {
     "end_time": "2024-10-25T02:54:13.786923Z",
     "start_time": "2024-10-25T02:54:13.783665Z"
    }
   },
   "cell_type": "code",
   "source": [
    "def read_dataframe(filename):\n",
    "    df = pd.read_parquet(filename)\n",
    "    df['duration'] = df.lpep_dropoff_datetime - df.lpep_pickup_datetime\n",
    "    df.duration = df.duration.apply(lambda td: td.total_seconds() / 60)\n",
    "    df = df[(df.duration >= 1) & (df.duration <= 60)]\n",
    "    categorical = ['PULocationID', 'DOLocationID']\n",
    "    df[categorical] = df[categorical].astype(str)\n",
    "    df['PU_DO'] = df['PULocationID'] + '_' + df['DOLocationID']\n",
    "    return df"
   ],
   "id": "2db33a2071652ef7",
   "outputs": [],
   "execution_count": 11
  },
  {
   "metadata": {
    "ExecuteTime": {
     "end_time": "2024-10-25T02:54:25.672708Z",
     "start_time": "2024-10-25T02:54:25.489699Z"
    }
   },
   "cell_type": "code",
   "source": [
    "df_train = read_dataframe('../data/green_tripdata_2024-01.parquet')\n",
    "df_val = read_dataframe('../data/green_tripdata_2024-02.parquet')"
   ],
   "id": "61cca856474138af",
   "outputs": [],
   "execution_count": 12
  },
  {
   "metadata": {
    "ExecuteTime": {
     "end_time": "2024-10-25T02:54:59.593883Z",
     "start_time": "2024-10-25T02:54:59.584489Z"
    }
   },
   "cell_type": "code",
   "source": [
    "df_train['PU_DO'] = df_train['PULocationID'] + '_' + df_train['DOLocationID']\n",
    "df_val['PU_DO'] = df_val['PULocationID'] + '_' + df_val['DOLocationID']"
   ],
   "id": "d4c5c27aced46fdb",
   "outputs": [],
   "execution_count": 13
  },
  {
   "metadata": {
    "ExecuteTime": {
     "end_time": "2024-10-25T02:55:04.426324Z",
     "start_time": "2024-10-25T02:55:04.423592Z"
    }
   },
   "cell_type": "code",
   "source": [
    "categorical = ['PU_DO']\n",
    "numerical = ['trip_distance']\n",
    "target = 'duration'\n"
   ],
   "id": "964b266e059866dc",
   "outputs": [],
   "execution_count": 14
  },
  {
   "metadata": {
    "ExecuteTime": {
     "end_time": "2024-10-25T02:55:47.502080Z",
     "start_time": "2024-10-25T02:55:47.387935Z"
    }
   },
   "cell_type": "code",
   "source": [
    "dv = DictVectorizer()\n",
    "\n",
    "train_dicts = df_train[categorical + numerical].to_dict(orient='records')\n",
    "X_train = dv.fit_transform(train_dicts)\n",
    "\n",
    "val_dicts = df_val[categorical + numerical].to_dict(orient='records')\n",
    "X_val = dv.transform(val_dicts)"
   ],
   "id": "7fc04624958ae8ed",
   "outputs": [],
   "execution_count": 15
  },
  {
   "metadata": {
    "ExecuteTime": {
     "end_time": "2024-10-25T02:56:04.084974Z",
     "start_time": "2024-10-25T02:56:04.083115Z"
    }
   },
   "cell_type": "code",
   "source": [
    "target = 'duration'\n",
    "y_train = df_train[target].values\n",
    "y_val = df_val[target].values"
   ],
   "id": "841f85f343c49d12",
   "outputs": [],
   "execution_count": 16
  },
  {
   "metadata": {
    "ExecuteTime": {
     "end_time": "2024-10-25T02:56:16.395190Z",
     "start_time": "2024-10-25T02:56:16.284922Z"
    }
   },
   "cell_type": "code",
   "source": [
    "training_dataset = mlflow.data.from_numpy(X_train.data, targets=y_train, name=\"green_tripdata_2024-01\")\n",
    "validation_dataset = mlflow.data.from_numpy(X_val.data, targets=y_val, name=\"green_tripdata_2024-02\")"
   ],
   "id": "e3ae717befe1edbd",
   "outputs": [],
   "execution_count": 17
  },
  {
   "metadata": {
    "ExecuteTime": {
     "end_time": "2024-10-25T02:56:29.027794Z",
     "start_time": "2024-10-25T02:56:28.618914Z"
    }
   },
   "cell_type": "code",
   "source": "mlflow.sklearn.autolog()",
   "id": "12e0cc2e9355339b",
   "outputs": [
    {
     "name": "stderr",
     "output_type": "stream",
     "text": [
      "2024/10/24 20:56:28 WARNING mlflow.utils.autologging_utils: MLflow sklearn autologging is known to be compatible with 0.24.1 <= scikit-learn <= 1.5.1, but the installed version is 1.5.2. If you encounter errors during autologging, try upgrading / downgrading scikit-learn to a compatible version, or try upgrading MLflow.\n"
     ]
    }
   ],
   "execution_count": 18
  },
  {
   "metadata": {},
   "cell_type": "markdown",
   "source": "### Gradient Boosting",
   "id": "7ee159ff92282e74"
  },
  {
   "metadata": {},
   "cell_type": "code",
   "outputs": [],
   "execution_count": null,
   "source": "",
   "id": "6aab0e07b73a2ed0"
  },
  {
   "metadata": {},
   "cell_type": "code",
   "outputs": [],
   "execution_count": null,
   "source": "",
   "id": "6e61216f1b17b956"
  },
  {
   "metadata": {},
   "cell_type": "code",
   "outputs": [],
   "execution_count": null,
   "source": "",
   "id": "da143b4f337232e4"
  },
  {
   "metadata": {},
   "cell_type": "code",
   "outputs": [],
   "execution_count": null,
   "source": "",
   "id": "6037d2fdff8d82f7"
  },
  {
   "metadata": {},
   "cell_type": "code",
   "outputs": [],
   "execution_count": null,
   "source": "",
   "id": "b2caba3f35acda90"
  },
  {
   "metadata": {},
   "cell_type": "code",
   "outputs": [],
   "execution_count": null,
   "source": "",
   "id": "224089150582b2b9"
  },
  {
   "metadata": {},
   "cell_type": "code",
   "outputs": [],
   "execution_count": null,
   "source": "",
   "id": "df7cedf4cad0ed35"
  },
  {
   "metadata": {},
   "cell_type": "code",
   "outputs": [],
   "execution_count": null,
   "source": "",
   "id": "ed420570b54f751e"
  },
  {
   "metadata": {},
   "cell_type": "code",
   "outputs": [],
   "execution_count": null,
   "source": "",
   "id": "f07867456b4dfd04"
  },
  {
   "metadata": {
    "ExecuteTime": {
     "end_time": "2024-10-25T02:43:51.977882Z",
     "start_time": "2024-10-25T02:43:51.325266Z"
    }
   },
   "cell_type": "code",
   "source": [
    "import os\n",
    "import mlflow\n",
    "import dagshub\n",
    "from mlflow.tracking import MlflowClient\n",
    "\n",
    "# Configurar DagsHub y MLflow\n",
    "dagshub.init(repo_owner=\"JuanPab2009\", repo_name=\"nys-taxi-time-prediction\", mlflow=True)\n",
    "\n",
    "# Obtener la URI de seguimiento de MLflow\n",
    "mlflow_tracking_uri = mlflow.get_tracking_uri()\n",
    "print(f\"MLflow Tracking URI: {mlflow_tracking_uri}\")\n",
    "\n",
    "# Configurar MLflow para usar la URI de DagsHub\n",
    "mlflow.set_tracking_uri(mlflow_tracking_uri)\n",
    "\n",
    "# Nombre del experimento\n",
    "experiment_name = \"nys-taxi-experiment\"\n",
    "\n",
    "# Crear o obtener el experimento\n",
    "client = MlflowClient()\n",
    "try:\n",
    "    experiment = client.create_experiment(experiment_name)\n",
    "except mlflow.exceptions.MlflowException:\n",
    "    experiment = client.get_experiment_by_name(experiment_name)\n",
    "\n",
    "if experiment:\n",
    "    print(f\"Experiment ID: {experiment.experiment_id}\")\n",
    "    print(f\"Artifact Location: {experiment.artifact_location}\")\n",
    "    \n",
    "    # Configurar el experimento activo\n",
    "    mlflow.set_experiment(experiment_name)\n",
    "else:\n",
    "    print(\"Failed to create or retrieve the experiment.\")"
   ],
   "id": "35ba661c8c80222c",
   "outputs": [
    {
     "data": {
      "text/plain": [
       "Accessing as JuanPab2009\n"
      ],
      "text/html": [
       "<pre style=\"white-space:pre;overflow-x:auto;line-height:normal;font-family:Menlo,'DejaVu Sans Mono',consolas,'Courier New',monospace\">Accessing as JuanPab2009\n",
       "</pre>\n"
      ]
     },
     "metadata": {},
     "output_type": "display_data"
    },
    {
     "data": {
      "text/plain": [
       "Initialized MLflow to track repo \u001B[32m\"JuanPab2009/nys-taxi-time-prediction\"\u001B[0m\n"
      ],
      "text/html": [
       "<pre style=\"white-space:pre;overflow-x:auto;line-height:normal;font-family:Menlo,'DejaVu Sans Mono',consolas,'Courier New',monospace\">Initialized MLflow to track repo <span style=\"color: #008000; text-decoration-color: #008000\">\"JuanPab2009/nys-taxi-time-prediction\"</span>\n",
       "</pre>\n"
      ]
     },
     "metadata": {},
     "output_type": "display_data"
    },
    {
     "data": {
      "text/plain": [
       "Repository JuanPab2009/nys-taxi-time-prediction initialized!\n"
      ],
      "text/html": [
       "<pre style=\"white-space:pre;overflow-x:auto;line-height:normal;font-family:Menlo,'DejaVu Sans Mono',consolas,'Courier New',monospace\">Repository JuanPab2009/nys-taxi-time-prediction initialized!\n",
       "</pre>\n"
      ]
     },
     "metadata": {},
     "output_type": "display_data"
    },
    {
     "name": "stdout",
     "output_type": "stream",
     "text": [
      "MLflow Tracking URI: https://dagshub.com/JuanPab2009/nys-taxi-time-prediction.mlflow\n"
     ]
    },
    {
     "ename": "AttributeError",
     "evalue": "'str' object has no attribute 'experiment_id'",
     "output_type": "error",
     "traceback": [
      "\u001B[0;31m---------------------------------------------------------------------------\u001B[0m",
      "\u001B[0;31mAttributeError\u001B[0m                            Traceback (most recent call last)",
      "Cell \u001B[0;32mIn[6], line 27\u001B[0m\n\u001B[1;32m     24\u001B[0m     experiment \u001B[38;5;241m=\u001B[39m client\u001B[38;5;241m.\u001B[39mget_experiment_by_name(experiment_name)\n\u001B[1;32m     26\u001B[0m \u001B[38;5;28;01mif\u001B[39;00m experiment:\n\u001B[0;32m---> 27\u001B[0m     \u001B[38;5;28mprint\u001B[39m(\u001B[38;5;124mf\u001B[39m\u001B[38;5;124m\"\u001B[39m\u001B[38;5;124mExperiment ID: \u001B[39m\u001B[38;5;132;01m{\u001B[39;00m\u001B[43mexperiment\u001B[49m\u001B[38;5;241;43m.\u001B[39;49m\u001B[43mexperiment_id\u001B[49m\u001B[38;5;132;01m}\u001B[39;00m\u001B[38;5;124m\"\u001B[39m)\n\u001B[1;32m     28\u001B[0m     \u001B[38;5;28mprint\u001B[39m(\u001B[38;5;124mf\u001B[39m\u001B[38;5;124m\"\u001B[39m\u001B[38;5;124mArtifact Location: \u001B[39m\u001B[38;5;132;01m{\u001B[39;00mexperiment\u001B[38;5;241m.\u001B[39martifact_location\u001B[38;5;132;01m}\u001B[39;00m\u001B[38;5;124m\"\u001B[39m)\n\u001B[1;32m     30\u001B[0m     \u001B[38;5;66;03m# Configurar el experimento activo\u001B[39;00m\n",
      "\u001B[0;31mAttributeError\u001B[0m: 'str' object has no attribute 'experiment_id'"
     ]
    }
   ],
   "execution_count": 6
  },
  {
   "metadata": {},
   "cell_type": "code",
   "source": [
    "# Función para ejecutar experimentos\n",
    "def objective(params, model_class, X_train, y_train, X_val, y_val):\n",
    "    with mlflow.start_run(nested=True):\n",
    "        model = model_class(**params)\n",
    "        model.fit(X_train, y_train)\n",
    "        y_pred = model.predict(X_val)\n",
    "        rmse = root_mean_squared_error(y_val, y_pred)\n",
    "        mlflow.log_params(params)\n",
    "        mlflow.log_metric(\"rmse\", rmse)\n",
    "        return {'loss': rmse, 'status': STATUS_OK}"
   ],
   "id": "4394755693690a80",
   "outputs": [],
   "execution_count": null
  },
  {
   "metadata": {},
   "cell_type": "code",
   "source": [
    "# Espacios de búsqueda para hiperparámetros\n",
    "gb_space = {\n",
    "    'n_estimators': scope.int(hp.quniform('n_estimators', 100, 500, 50)),\n",
    "    'learning_rate': hp.loguniform('learning_rate', np.log(0.01), np.log(0.2)),\n",
    "    'max_depth': scope.int(hp.quniform('max_depth', 3, 10, 1))\n",
    "}\n",
    "\n",
    "rf_space = {\n",
    "    'n_estimators': scope.int(hp.quniform('n_estimators', 100, 500, 50)),\n",
    "    'max_depth': scope.int(hp.quniform('max_depth', 3, 20, 1)),\n",
    "    'min_samples_split': scope.int(hp.quniform('min_samples_split', 2, 10, 1))\n",
    "}\n"
   ],
   "id": "b3816559d454a7a6",
   "outputs": [],
   "execution_count": null
  },
  {
   "metadata": {},
   "cell_type": "code",
   "source": [
    "# Experimentos\n",
    "with mlflow.start_run(run_name=\"Parent Experiment\"):\n",
    "    # Gradient Boost\n",
    "    gb_trials = Trials()\n",
    "    best_gb = fmin(\n",
    "        fn=lambda params: objective(params, GradientBoostingRegressor, X_train, y_train, X_val, y_val),\n",
    "        space=gb_space,\n",
    "        algo=tpe.suggest,\n",
    "        max_evals=20,\n",
    "        trials=gb_trials\n",
    "    )\n",
    "    \n",
    "    # Random Forest\n",
    "    rf_trials = Trials()\n",
    "    best_rf = fmin(\n",
    "        fn=lambda params: objective(params, RandomForestRegressor, X_train, y_train, X_val, y_val),\n",
    "        space=rf_space,\n",
    "        algo=tpe.suggest,\n",
    "        max_evals=20,\n",
    "        trials=rf_trials\n",
    "    )\n",
    "\n",
    "    # Seleccionar el mejor modelo\n",
    "    gb_rmse = min(trial['result']['loss'] for trial in gb_trials.trials)\n",
    "    rf_rmse = min(trial['result']['loss'] for trial in rf_trials.trials)\n",
    "\n",
    "    if gb_rmse < rf_rmse:\n",
    "        best_model = GradientBoostingRegressor(**best_gb)\n",
    "        best_model_name = \"GradientBoost\"\n",
    "    else:\n",
    "        best_model = RandomForestRegressor(**best_rf)\n",
    "        best_model_name = \"RandomForest\"\n",
    "\n",
    "    # Entrenar el mejor modelo con todos los datos\n",
    "    best_model.fit(X_train, y_train)\n",
    "\n",
    "    # Registrar el mejor modelo\n",
    "    mlflow.sklearn.log_model(best_model, \"nyc-taxi-model\")\n",
    "    \n",
    "    # Asignar el alias 'challenger'\n",
    "    client = mlflow.tracking.MlflowClient()\n",
    "    model_version = client.create_model_version(\"nyc-taxi-model\", f\"runs:/{mlflow.active_run().info.run_id}/nyc-taxi-model\")\n",
    "    client.set_registered_model_alias(\"nyc-taxi-model\", \"challenger\", model_version.version)"
   ],
   "id": "cf2ac2aa40ce5d8d",
   "outputs": [],
   "execution_count": null
  },
  {
   "metadata": {},
   "cell_type": "code",
   "source": [
    "import mlflow\n",
    "from mlflow.exceptions import MlflowException\n",
    "from sklearn.metrics import root_mean_squared_error\n",
    "\n",
    "# Función para cargar un modelo de forma segura\n",
    "def safe_load_model(model_name, stage):\n",
    "    try:\n",
    "        return mlflow.sklearn.load_model(f\"models:/{model_name}@{stage}\")\n",
    "    except MlflowException as e:\n",
    "        print(f\"Error loading {stage} model: {e}\")\n",
    "        return None\n",
    "\n",
    "# Evaluar modelos en el conjunto de prueba\n",
    "champion_model = safe_load_model(\"nyc-taxi-model\", \"champion\")\n",
    "challenger_model = safe_load_model(\"nyc-taxi-model\", \"challenger\")\n",
    "\n",
    "if champion_model and challenger_model:\n",
    "    champion_rmse = root_mean_squared_error(y_test, champion_model.predict(X_test))\n",
    "    challenger_rmse = root_mean_squared_error(y_test, challenger_model.predict(X_test))\n",
    "\n",
    "    print(f\"Champion RMSE: {champion_rmse}\")\n",
    "    print(f\"Challenger RMSE: {challenger_rmse}\")\n",
    "\n",
    "    # Decidir si promover el challenger a champion\n",
    "    if challenger_rmse < champion_rmse * 0.95:\n",
    "        print(\"El challenger supera significativamente al champion y debería ser promovido.\")\n",
    "        client.set_registered_model_alias(\"nyc-taxi-model\", \"champion\", model_version.version)\n",
    "    else:\n",
    "        print(\"El challenger no supera significativamente al champion. Mantenemos el champion actual.\")\n",
    "else:\n",
    "    print(\"No se pudieron cargar uno o ambos modelos. Verifica que existan en el Model Registry.\")\n",
    "\n",
    "# Si no hay un modelo champion, podríamos querer promover el challenger automáticamente\n",
    "if not champion_model and challenger_model:\n",
    "    print(\"No existe un modelo champion. Promoviendo el challenger a champion.\")\n",
    "    client.set_registered_model_alias(\"nyc-taxi-model\", \"champion\", model_version.version)\n",
    "\n",
    "# Asegúrate de que el challenger siempre se registre\n",
    "if challenger_model:\n",
    "    client.set_registered_model_alias(\"nyc-taxi-model\", \"challenger\", model_version.version)\n",
    "else:\n",
    "    print(\"No se pudo registrar el modelo challenger. Verifica el proceso de entrenamiento y registro.\")"
   ],
   "id": "45bf6219fbc9c9bf",
   "outputs": [],
   "execution_count": null
  },
  {
   "metadata": {},
   "cell_type": "code",
   "source": [
    "# Decidir si promover el challenger a champion\n",
    "if challenger_rmse < champion_rmse * 0.95:\n",
    "    print(\"El challenger supera significativamente al champion y debería ser promovido.\")\n",
    "    client.set_registered_model_alias(\"nyc-taxi-model\", \"champion\", model_version.version)\n",
    "else:\n",
    "    print(\"El challenger no supera significativamente al champion. Mantenemos el champion actual.\")\n"
   ],
   "id": "75e91d06cc59af0d",
   "outputs": [],
   "execution_count": null
  },
  {
   "metadata": {},
   "cell_type": "code",
   "source": [
    "# Subir datos a DagsHub\n",
    "s3 = get_repo_bucket_client(\"JuanPab2009/nys-taxi-time-prediction\")\n",
    "\n",
    "s3.upload_file(\n",
    "    Bucket=\"nys-taxi-time-prediction\",\n",
    "    Filename=\"../data/green_tripdata_2024-03.parquet\",\n",
    "    Key=\"test_data.parquet\",\n",
    ")"
   ],
   "id": "accc14a48d69e523",
   "outputs": [],
   "execution_count": null
  }
 ],
 "metadata": {
  "kernelspec": {
   "display_name": "Python 3",
   "language": "python",
   "name": "python3"
  },
  "language_info": {
   "codemirror_mode": {
    "name": "ipython",
    "version": 2
   },
   "file_extension": ".py",
   "mimetype": "text/x-python",
   "name": "python",
   "nbconvert_exporter": "python",
   "pygments_lexer": "ipython2",
   "version": "2.7.6"
  }
 },
 "nbformat": 4,
 "nbformat_minor": 5
}
