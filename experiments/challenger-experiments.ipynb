{
 "cells": [
  {
   "cell_type": "code",
   "execution_count": 1,
   "id": "9224edbfa806b342",
   "metadata": {
    "ExecuteTime": {
     "end_time": "2024-10-25T02:49:20.379678Z",
     "start_time": "2024-10-25T02:49:20.375031Z"
    }
   },
   "outputs": [],
   "source": [
    "import dagshub\n",
    "import os\n",
    "import mlflow\n",
    "import mlflow.sklearn\n",
    "from sklearn.ensemble import GradientBoostingRegressor, RandomForestRegressor\n",
    "from sklearn.model_selection import train_test_split\n",
    "from sklearn.metrics import mean_squared_error, root_mean_squared_error\n",
    "import numpy as np\n",
    "import pandas as pd\n",
    "from sklearn.feature_extraction import DictVectorizer\n",
    "from hyperopt import fmin, tpe, hp, STATUS_OK, Trials\n",
    "from hyperopt.pyll import scope\n",
    "from dagshub import get_repo_bucket_client\n"
   ]
  },
  {
   "cell_type": "code",
   "execution_count": 2,
   "id": "78700d0703ca9e37",
   "metadata": {
    "ExecuteTime": {
     "end_time": "2024-10-25T02:51:10.076372Z",
     "start_time": "2024-10-25T02:51:09.631970Z"
    }
   },
   "outputs": [
    {
     "data": {
      "text/html": [
       "<pre style=\"white-space:pre;overflow-x:auto;line-height:normal;font-family:Menlo,'DejaVu Sans Mono',consolas,'Courier New',monospace\">Accessing as colome8\n",
       "</pre>\n"
      ],
      "text/plain": [
       "Accessing as colome8\n"
      ]
     },
     "metadata": {},
     "output_type": "display_data"
    },
    {
     "data": {
      "text/html": [
       "<pre style=\"white-space:pre;overflow-x:auto;line-height:normal;font-family:Menlo,'DejaVu Sans Mono',consolas,'Courier New',monospace\">Initialized MLflow to track repo <span style=\"color: #008000; text-decoration-color: #008000\">\"colome8/nyc-taxi-time-prediction\"</span>\n",
       "</pre>\n"
      ],
      "text/plain": [
       "Initialized MLflow to track repo \u001b[32m\"colome8/nyc-taxi-time-prediction\"\u001b[0m\n"
      ]
     },
     "metadata": {},
     "output_type": "display_data"
    },
    {
     "data": {
      "text/html": [
       "<pre style=\"white-space:pre;overflow-x:auto;line-height:normal;font-family:Menlo,'DejaVu Sans Mono',consolas,'Courier New',monospace\">Repository colome8/nyc-taxi-time-prediction initialized!\n",
       "</pre>\n"
      ],
      "text/plain": [
       "Repository colome8/nyc-taxi-time-prediction initialized!\n"
      ]
     },
     "metadata": {},
     "output_type": "display_data"
    },
    {
     "name": "stdout",
     "output_type": "stream",
     "text": [
      "https://dagshub.com/colome8/nyc-taxi-time-prediction.mlflow\n"
     ]
    },
    {
     "data": {
      "text/plain": [
       "<Experiment: artifact_location='mlflow-artifacts:/52f4281e23894b08be828e86a3d02bc9', creation_time=1726632055317, experiment_id='0', last_update_time=1726632055317, lifecycle_stage='active', name='nyc-taxi-experiment', tags={}>"
      ]
     },
     "execution_count": 2,
     "metadata": {},
     "output_type": "execute_result"
    }
   ],
   "source": [
    "dagshub.init(url=\"https://dagshub.com/colome8/nyc-taxi-time-prediction\", mlflow=True)\n",
    "\n",
    "MLFLOW_TRACKING_URI = mlflow.get_tracking_uri()\n",
    "\n",
    "print(MLFLOW_TRACKING_URI)\n",
    "\n",
    "mlflow.set_tracking_uri(MLFLOW_TRACKING_URI)\n",
    "mlflow.set_experiment(experiment_name=\"nyc-taxi-experiment\")"
   ]
  },
  {
   "cell_type": "code",
   "execution_count": 3,
   "id": "2db33a2071652ef7",
   "metadata": {
    "ExecuteTime": {
     "end_time": "2024-10-25T02:54:13.786923Z",
     "start_time": "2024-10-25T02:54:13.783665Z"
    }
   },
   "outputs": [],
   "source": [
    "def read_dataframe(filename):\n",
    "    df = pd.read_parquet(filename)\n",
    "    df['duration'] = df.lpep_dropoff_datetime - df.lpep_pickup_datetime\n",
    "    df.duration = df.duration.apply(lambda td: td.total_seconds() / 60)\n",
    "    df = df[(df.duration >= 1) & (df.duration <= 60)]\n",
    "    categorical = ['PULocationID', 'DOLocationID']\n",
    "    df[categorical] = df[categorical].astype(str)\n",
    "    df['PU_DO'] = df['PULocationID'] + '_' + df['DOLocationID']\n",
    "    return df"
   ]
  },
  {
   "cell_type": "code",
   "execution_count": 4,
   "id": "61cca856474138af",
   "metadata": {
    "ExecuteTime": {
     "end_time": "2024-10-25T02:54:25.672708Z",
     "start_time": "2024-10-25T02:54:25.489699Z"
    }
   },
   "outputs": [],
   "source": [
    "df_train = read_dataframe('../data/green_tripdata_2024-01.parquet')\n",
    "df_val = read_dataframe('../data/green_tripdata_2024-02.parquet')"
   ]
  },
  {
   "cell_type": "code",
   "execution_count": 5,
   "id": "d4c5c27aced46fdb",
   "metadata": {
    "ExecuteTime": {
     "end_time": "2024-10-25T02:54:59.593883Z",
     "start_time": "2024-10-25T02:54:59.584489Z"
    }
   },
   "outputs": [],
   "source": [
    "df_train['PU_DO'] = df_train['PULocationID'] + '_' + df_train['DOLocationID']\n",
    "df_val['PU_DO'] = df_val['PULocationID'] + '_' + df_val['DOLocationID']"
   ]
  },
  {
   "cell_type": "code",
   "execution_count": 6,
   "id": "964b266e059866dc",
   "metadata": {
    "ExecuteTime": {
     "end_time": "2024-10-25T02:55:04.426324Z",
     "start_time": "2024-10-25T02:55:04.423592Z"
    }
   },
   "outputs": [],
   "source": [
    "categorical = ['PU_DO']\n",
    "numerical = ['trip_distance']\n",
    "target = 'duration'\n"
   ]
  },
  {
   "cell_type": "code",
   "execution_count": 7,
   "id": "7fc04624958ae8ed",
   "metadata": {
    "ExecuteTime": {
     "end_time": "2024-10-25T02:55:47.502080Z",
     "start_time": "2024-10-25T02:55:47.387935Z"
    }
   },
   "outputs": [],
   "source": [
    "dv = DictVectorizer()\n",
    "\n",
    "train_dicts = df_train[categorical + numerical].to_dict(orient='records')\n",
    "X_train = dv.fit_transform(train_dicts)\n",
    "\n",
    "val_dicts = df_val[categorical + numerical].to_dict(orient='records')\n",
    "X_val = dv.transform(val_dicts)"
   ]
  },
  {
   "cell_type": "code",
   "execution_count": 8,
   "id": "841f85f343c49d12",
   "metadata": {
    "ExecuteTime": {
     "end_time": "2024-10-25T02:56:04.084974Z",
     "start_time": "2024-10-25T02:56:04.083115Z"
    }
   },
   "outputs": [],
   "source": [
    "target = 'duration'\n",
    "y_train = df_train[target].values\n",
    "y_val = df_val[target].values"
   ]
  },
  {
   "cell_type": "code",
   "execution_count": 9,
   "id": "e3ae717befe1edbd",
   "metadata": {
    "ExecuteTime": {
     "end_time": "2024-10-25T02:56:16.395190Z",
     "start_time": "2024-10-25T02:56:16.284922Z"
    }
   },
   "outputs": [],
   "source": [
    "training_dataset = mlflow.data.from_numpy(X_train.data, targets=y_train, name=\"green_tripdata_2024-01\")\n",
    "validation_dataset = mlflow.data.from_numpy(X_val.data, targets=y_val, name=\"green_tripdata_2024-02\")"
   ]
  },
  {
   "cell_type": "code",
   "execution_count": 10,
   "id": "12e0cc2e9355339b",
   "metadata": {
    "ExecuteTime": {
     "end_time": "2024-10-25T02:56:29.027794Z",
     "start_time": "2024-10-25T02:56:28.618914Z"
    }
   },
   "outputs": [
    {
     "name": "stderr",
     "output_type": "stream",
     "text": [
      "2024/11/12 21:17:22 WARNING mlflow.utils.autologging_utils: MLflow sklearn autologging is known to be compatible with 0.24.1 <= scikit-learn <= 1.5.1, but the installed version is 1.5.2. If you encounter errors during autologging, try upgrading / downgrading scikit-learn to a compatible version, or try upgrading MLflow.\n"
     ]
    }
   ],
   "source": [
    "mlflow.sklearn.autolog()"
   ]
  },
  {
   "cell_type": "markdown",
   "id": "7ee159ff92282e74",
   "metadata": {},
   "source": [
    "### Gradient Boosting"
   ]
  },
  {
   "cell_type": "code",
   "execution_count": null,
   "id": "6aab0e07b73a2ed0",
   "metadata": {},
   "outputs": [],
   "source": []
  },
  {
   "cell_type": "code",
   "execution_count": null,
   "id": "6e61216f1b17b956",
   "metadata": {},
   "outputs": [],
   "source": []
  },
  {
   "cell_type": "code",
   "execution_count": null,
   "id": "da143b4f337232e4",
   "metadata": {},
   "outputs": [],
   "source": []
  },
  {
   "cell_type": "code",
   "execution_count": null,
   "id": "6037d2fdff8d82f7",
   "metadata": {},
   "outputs": [],
   "source": []
  },
  {
   "cell_type": "code",
   "execution_count": null,
   "id": "b2caba3f35acda90",
   "metadata": {},
   "outputs": [],
   "source": []
  },
  {
   "cell_type": "code",
   "execution_count": null,
   "id": "224089150582b2b9",
   "metadata": {},
   "outputs": [],
   "source": []
  },
  {
   "cell_type": "code",
   "execution_count": null,
   "id": "df7cedf4cad0ed35",
   "metadata": {},
   "outputs": [],
   "source": []
  },
  {
   "cell_type": "code",
   "execution_count": null,
   "id": "ed420570b54f751e",
   "metadata": {},
   "outputs": [],
   "source": []
  },
  {
   "cell_type": "code",
   "execution_count": null,
   "id": "f07867456b4dfd04",
   "metadata": {},
   "outputs": [],
   "source": []
  },
  {
   "cell_type": "code",
   "execution_count": 11,
   "id": "35ba661c8c80222c",
   "metadata": {
    "ExecuteTime": {
     "end_time": "2024-10-25T02:43:51.977882Z",
     "start_time": "2024-10-25T02:43:51.325266Z"
    }
   },
   "outputs": [
    {
     "data": {
      "text/html": [
       "<pre style=\"white-space:pre;overflow-x:auto;line-height:normal;font-family:Menlo,'DejaVu Sans Mono',consolas,'Courier New',monospace\">Initialized MLflow to track repo <span style=\"color: #008000; text-decoration-color: #008000\">\"colome8/nyc-taxi-time-prediction\"</span>\n",
       "</pre>\n"
      ],
      "text/plain": [
       "Initialized MLflow to track repo \u001b[32m\"colome8/nyc-taxi-time-prediction\"\u001b[0m\n"
      ]
     },
     "metadata": {},
     "output_type": "display_data"
    },
    {
     "data": {
      "text/html": [
       "<pre style=\"white-space:pre;overflow-x:auto;line-height:normal;font-family:Menlo,'DejaVu Sans Mono',consolas,'Courier New',monospace\">Repository colome8/nyc-taxi-time-prediction initialized!\n",
       "</pre>\n"
      ],
      "text/plain": [
       "Repository colome8/nyc-taxi-time-prediction initialized!\n"
      ]
     },
     "metadata": {},
     "output_type": "display_data"
    },
    {
     "name": "stdout",
     "output_type": "stream",
     "text": [
      "MLflow Tracking URI: https://dagshub.com/colome8/nyc-taxi-time-prediction.mlflow\n",
      "Experiment ID: 0\n",
      "Artifact Location: mlflow-artifacts:/52f4281e23894b08be828e86a3d02bc9\n"
     ]
    }
   ],
   "source": [
    "import os\n",
    "import mlflow\n",
    "import dagshub\n",
    "from mlflow.tracking import MlflowClient\n",
    "\n",
    "# Configurar DagsHub y MLflow\n",
    "dagshub.init(repo_owner=\"colome8\", repo_name=\"nyc-taxi-time-prediction\", mlflow=True)\n",
    "\n",
    "# Obtener la URI de seguimiento de MLflow\n",
    "mlflow_tracking_uri = mlflow.get_tracking_uri()\n",
    "print(f\"MLflow Tracking URI: {mlflow_tracking_uri}\")\n",
    "\n",
    "# Configurar MLflow para usar la URI de DagsHub\n",
    "mlflow.set_tracking_uri(mlflow_tracking_uri)\n",
    "\n",
    "# Nombre del experimento\n",
    "experiment_name = \"nyc-taxi-experiment\"\n",
    "\n",
    "# Crear o obtener el experimento\n",
    "client = MlflowClient()\n",
    "try:\n",
    "    experiment = client.create_experiment(experiment_name)\n",
    "except mlflow.exceptions.MlflowException:\n",
    "    experiment = client.get_experiment_by_name(experiment_name)\n",
    "\n",
    "if experiment:\n",
    "    print(f\"Experiment ID: {experiment.experiment_id}\")\n",
    "    print(f\"Artifact Location: {experiment.artifact_location}\")\n",
    "    \n",
    "    # Configurar el experimento activo\n",
    "    mlflow.set_experiment(experiment_name)\n",
    "else:\n",
    "    print(\"Failed to create or retrieve the experiment.\")"
   ]
  },
  {
   "cell_type": "code",
   "execution_count": 12,
   "id": "4394755693690a80",
   "metadata": {},
   "outputs": [],
   "source": [
    "# Función para ejecutar experimentos\n",
    "def objective(params, model_class, X_train, y_train, X_val, y_val):\n",
    "    with mlflow.start_run(nested=True):\n",
    "        model = model_class(**params)\n",
    "        model.fit(X_train, y_train)\n",
    "        y_pred = model.predict(X_val)\n",
    "        rmse = root_mean_squared_error(y_val, y_pred)\n",
    "        mlflow.log_params(params)\n",
    "        mlflow.log_metric(\"rmse\", rmse)\n",
    "        return {'loss': rmse, 'status': STATUS_OK}"
   ]
  },
  {
   "cell_type": "code",
   "execution_count": 13,
   "id": "b3816559d454a7a6",
   "metadata": {},
   "outputs": [],
   "source": [
    "# Espacios de búsqueda para hiperparámetros\n",
    "gb_space = {\n",
    "    'n_estimators': scope.int(hp.quniform('n_estimators', 100, 500, 50)),\n",
    "    'learning_rate': hp.loguniform('learning_rate', np.log(0.01), np.log(0.2)),\n",
    "    'max_depth': scope.int(hp.quniform('max_depth', 3, 10, 1))\n",
    "}\n",
    "\n",
    "rf_space = {\n",
    "    'n_estimators': scope.int(hp.quniform('n_estimators', 100, 500, 50)),\n",
    "    'max_depth': scope.int(hp.quniform('max_depth', 3, 20, 1)),\n",
    "    'min_samples_split': scope.int(hp.quniform('min_samples_split', 2, 10, 1))\n",
    "}\n"
   ]
  },
  {
   "cell_type": "code",
   "execution_count": 14,
   "id": "cf2ac2aa40ce5d8d",
   "metadata": {},
   "outputs": [
    {
     "name": "stdout",
     "output_type": "stream",
     "text": [
      "  0%|          | 0/20 [00:00<?, ?trial/s, best loss=?]"
     ]
    },
    {
     "name": "stderr",
     "output_type": "stream",
     "text": [
      "2024/11/12 21:17:28 WARNING mlflow.sklearn: Failed to log training dataset information to MLflow Tracking. Reason: 'numpy.ndarray' object has no attribute 'toarray'\n",
      "\n",
      "2024/11/12 21:19:30 INFO mlflow.tracking._tracking_service.client: 🏃 View run sedate-shark-353 at: https://dagshub.com/colome8/nyc-taxi-time-prediction.mlflow/#/experiments/0/runs/6398fd642654432792c53e220bd6db3e.\n",
      "\n",
      "2024/11/12 21:19:31 INFO mlflow.tracking._tracking_service.client: 🧪 View experiment at: https://dagshub.com/colome8/nyc-taxi-time-prediction.mlflow/#/experiments/0.\n",
      "\n"
     ]
    },
    {
     "name": "stdout",
     "output_type": "stream",
     "text": [
      "  5%|▌         | 1/20 [02:03<39:13, 123.89s/trial, best loss: 5.240192172926639]"
     ]
    },
    {
     "name": "stderr",
     "output_type": "stream",
     "text": [
      "2024/11/12 21:19:31 WARNING mlflow.sklearn: Failed to log training dataset information to MLflow Tracking. Reason: 'numpy.ndarray' object has no attribute 'toarray'\n",
      "\n",
      "2024/11/12 21:20:47 INFO mlflow.tracking._tracking_service.client: 🏃 View run dapper-swan-601 at: https://dagshub.com/colome8/nyc-taxi-time-prediction.mlflow/#/experiments/0/runs/119ffdfd31c140fbaaead3cdf1d64ddc.\n",
      "\n",
      "2024/11/12 21:20:47 INFO mlflow.tracking._tracking_service.client: 🧪 View experiment at: https://dagshub.com/colome8/nyc-taxi-time-prediction.mlflow/#/experiments/0.\n",
      "\n"
     ]
    },
    {
     "name": "stdout",
     "output_type": "stream",
     "text": [
      " 10%|█         | 2/20 [03:20<28:44, 95.83s/trial, best loss: 5.240192172926639] "
     ]
    },
    {
     "name": "stderr",
     "output_type": "stream",
     "text": [
      "2024/11/12 21:20:48 WARNING mlflow.sklearn: Failed to log training dataset information to MLflow Tracking. Reason: 'numpy.ndarray' object has no attribute 'toarray'\n",
      "\n",
      "2024/11/12 21:22:35 INFO mlflow.tracking._tracking_service.client: 🏃 View run luminous-foal-717 at: https://dagshub.com/colome8/nyc-taxi-time-prediction.mlflow/#/experiments/0/runs/c06b65438c4c4a369b24dc0f3643c3cb.\n",
      "\n",
      "2024/11/12 21:22:35 INFO mlflow.tracking._tracking_service.client: 🧪 View experiment at: https://dagshub.com/colome8/nyc-taxi-time-prediction.mlflow/#/experiments/0.\n",
      "\n"
     ]
    },
    {
     "name": "stdout",
     "output_type": "stream",
     "text": [
      " 15%|█▌        | 3/20 [05:08<28:47, 101.64s/trial, best loss: 5.240192172926639]"
     ]
    },
    {
     "name": "stderr",
     "output_type": "stream",
     "text": [
      "2024/11/12 21:22:36 WARNING mlflow.sklearn: Failed to log training dataset information to MLflow Tracking. Reason: 'numpy.ndarray' object has no attribute 'toarray'\n",
      "\n",
      "2024/11/12 21:23:21 INFO mlflow.tracking._tracking_service.client: 🏃 View run overjoyed-swan-25 at: https://dagshub.com/colome8/nyc-taxi-time-prediction.mlflow/#/experiments/0/runs/1261ae8c376544a0b0bf99baffd15c8a.\n",
      "\n",
      "2024/11/12 21:23:21 INFO mlflow.tracking._tracking_service.client: 🧪 View experiment at: https://dagshub.com/colome8/nyc-taxi-time-prediction.mlflow/#/experiments/0.\n",
      "\n"
     ]
    },
    {
     "name": "stdout",
     "output_type": "stream",
     "text": [
      " 20%|██        | 4/20 [05:54<21:13, 79.62s/trial, best loss: 5.240192172926639] "
     ]
    },
    {
     "name": "stderr",
     "output_type": "stream",
     "text": [
      "2024/11/12 21:23:22 WARNING mlflow.sklearn: Failed to log training dataset information to MLflow Tracking. Reason: 'numpy.ndarray' object has no attribute 'toarray'\n",
      "\n",
      "2024/11/12 21:24:48 INFO mlflow.tracking._tracking_service.client: 🏃 View run omniscient-boar-201 at: https://dagshub.com/colome8/nyc-taxi-time-prediction.mlflow/#/experiments/0/runs/86f412b65a944e08a47c45506b909bfb.\n",
      "\n",
      "2024/11/12 21:24:48 INFO mlflow.tracking._tracking_service.client: 🧪 View experiment at: https://dagshub.com/colome8/nyc-taxi-time-prediction.mlflow/#/experiments/0.\n",
      "\n"
     ]
    },
    {
     "name": "stdout",
     "output_type": "stream",
     "text": [
      " 25%|██▌       | 5/20 [07:21<20:35, 82.36s/trial, best loss: 5.240192172926639]"
     ]
    },
    {
     "name": "stderr",
     "output_type": "stream",
     "text": [
      "2024/11/12 21:24:49 WARNING mlflow.sklearn: Failed to log training dataset information to MLflow Tracking. Reason: 'numpy.ndarray' object has no attribute 'toarray'\n",
      "\n",
      "2024/11/12 21:26:44 INFO mlflow.tracking._tracking_service.client: 🏃 View run serious-steed-292 at: https://dagshub.com/colome8/nyc-taxi-time-prediction.mlflow/#/experiments/0/runs/19aecd4842424abebcfd1b5c15c29151.\n",
      "\n",
      "2024/11/12 21:26:44 INFO mlflow.tracking._tracking_service.client: 🧪 View experiment at: https://dagshub.com/colome8/nyc-taxi-time-prediction.mlflow/#/experiments/0.\n",
      "\n"
     ]
    },
    {
     "name": "stdout",
     "output_type": "stream",
     "text": [
      " 30%|███       | 6/20 [09:17<21:52, 93.73s/trial, best loss: 5.240192172926639]"
     ]
    },
    {
     "name": "stderr",
     "output_type": "stream",
     "text": [
      "2024/11/12 21:26:45 WARNING mlflow.sklearn: Failed to log training dataset information to MLflow Tracking. Reason: 'numpy.ndarray' object has no attribute 'toarray'\n",
      "\n",
      "2024/11/12 21:27:52 INFO mlflow.tracking._tracking_service.client: 🏃 View run funny-loon-417 at: https://dagshub.com/colome8/nyc-taxi-time-prediction.mlflow/#/experiments/0/runs/9d5acceca40e43dba2327c6e2f6fcecd.\n",
      "\n",
      "2024/11/12 21:27:52 INFO mlflow.tracking._tracking_service.client: 🧪 View experiment at: https://dagshub.com/colome8/nyc-taxi-time-prediction.mlflow/#/experiments/0.\n",
      "\n"
     ]
    },
    {
     "name": "stdout",
     "output_type": "stream",
     "text": [
      " 35%|███▌      | 7/20 [10:25<18:28, 85.29s/trial, best loss: 5.240192172926639]"
     ]
    },
    {
     "name": "stderr",
     "output_type": "stream",
     "text": [
      "2024/11/12 21:27:53 WARNING mlflow.sklearn: Failed to log training dataset information to MLflow Tracking. Reason: 'numpy.ndarray' object has no attribute 'toarray'\n",
      "\n",
      "2024/11/12 21:28:38 INFO mlflow.tracking._tracking_service.client: 🏃 View run blushing-pug-443 at: https://dagshub.com/colome8/nyc-taxi-time-prediction.mlflow/#/experiments/0/runs/a04112fa874440a79fbe25def7333e3c.\n",
      "\n",
      "2024/11/12 21:28:38 INFO mlflow.tracking._tracking_service.client: 🧪 View experiment at: https://dagshub.com/colome8/nyc-taxi-time-prediction.mlflow/#/experiments/0.\n",
      "\n"
     ]
    },
    {
     "name": "stdout",
     "output_type": "stream",
     "text": [
      " 40%|████      | 8/20 [11:11<14:34, 72.87s/trial, best loss: 5.240192172926639]"
     ]
    },
    {
     "name": "stderr",
     "output_type": "stream",
     "text": [
      "2024/11/12 21:28:39 WARNING mlflow.sklearn: Failed to log training dataset information to MLflow Tracking. Reason: 'numpy.ndarray' object has no attribute 'toarray'\n",
      "\n",
      "2024/11/12 21:30:10 INFO mlflow.tracking._tracking_service.client: 🏃 View run blushing-snail-461 at: https://dagshub.com/colome8/nyc-taxi-time-prediction.mlflow/#/experiments/0/runs/01e3be537cc943ca98714b02a6a4aa48.\n",
      "\n",
      "2024/11/12 21:30:10 INFO mlflow.tracking._tracking_service.client: 🧪 View experiment at: https://dagshub.com/colome8/nyc-taxi-time-prediction.mlflow/#/experiments/0.\n",
      "\n"
     ]
    },
    {
     "name": "stdout",
     "output_type": "stream",
     "text": [
      " 45%|████▌     | 9/20 [12:43<14:25, 78.71s/trial, best loss: 5.240192172926639]"
     ]
    },
    {
     "name": "stderr",
     "output_type": "stream",
     "text": [
      "2024/11/12 21:30:11 WARNING mlflow.sklearn: Failed to log training dataset information to MLflow Tracking. Reason: 'numpy.ndarray' object has no attribute 'toarray'\n",
      "\n",
      "2024/11/12 21:30:42 INFO mlflow.tracking._tracking_service.client: 🏃 View run enthused-jay-189 at: https://dagshub.com/colome8/nyc-taxi-time-prediction.mlflow/#/experiments/0/runs/d6f74c485cc14f9791f90a09913293b2.\n",
      "\n",
      "2024/11/12 21:30:42 INFO mlflow.tracking._tracking_service.client: 🧪 View experiment at: https://dagshub.com/colome8/nyc-taxi-time-prediction.mlflow/#/experiments/0.\n",
      "\n"
     ]
    },
    {
     "name": "stdout",
     "output_type": "stream",
     "text": [
      " 50%|█████     | 10/20 [13:15<10:43, 64.39s/trial, best loss: 5.240192172926639]"
     ]
    },
    {
     "name": "stderr",
     "output_type": "stream",
     "text": [
      "2024/11/12 21:30:43 WARNING mlflow.sklearn: Failed to log training dataset information to MLflow Tracking. Reason: 'numpy.ndarray' object has no attribute 'toarray'\n",
      "\n",
      "2024/11/12 21:31:44 INFO mlflow.tracking._tracking_service.client: 🏃 View run puzzled-ray-145 at: https://dagshub.com/colome8/nyc-taxi-time-prediction.mlflow/#/experiments/0/runs/5533bf59a0e5400486ec21fb5679ddcb.\n",
      "\n",
      "2024/11/12 21:31:44 INFO mlflow.tracking._tracking_service.client: 🧪 View experiment at: https://dagshub.com/colome8/nyc-taxi-time-prediction.mlflow/#/experiments/0.\n",
      "\n"
     ]
    },
    {
     "name": "stdout",
     "output_type": "stream",
     "text": [
      " 55%|█████▌    | 11/20 [14:17<09:33, 63.68s/trial, best loss: 5.240192172926639]"
     ]
    },
    {
     "name": "stderr",
     "output_type": "stream",
     "text": [
      "2024/11/12 21:31:45 WARNING mlflow.sklearn: Failed to log training dataset information to MLflow Tracking. Reason: 'numpy.ndarray' object has no attribute 'toarray'\n",
      "\n",
      "2024/11/12 21:33:01 INFO mlflow.tracking._tracking_service.client: 🏃 View run crawling-shark-622 at: https://dagshub.com/colome8/nyc-taxi-time-prediction.mlflow/#/experiments/0/runs/41c6e75437034a2f8702881841318664.\n",
      "\n",
      "2024/11/12 21:33:01 INFO mlflow.tracking._tracking_service.client: 🧪 View experiment at: https://dagshub.com/colome8/nyc-taxi-time-prediction.mlflow/#/experiments/0.\n",
      "\n"
     ]
    },
    {
     "name": "stdout",
     "output_type": "stream",
     "text": [
      " 60%|██████    | 12/20 [15:34<09:01, 67.75s/trial, best loss: 5.240192172926639]"
     ]
    },
    {
     "name": "stderr",
     "output_type": "stream",
     "text": [
      "2024/11/12 21:33:02 WARNING mlflow.sklearn: Failed to log training dataset information to MLflow Tracking. Reason: 'numpy.ndarray' object has no attribute 'toarray'\n",
      "\n",
      "2024/11/12 21:33:48 INFO mlflow.tracking._tracking_service.client: 🏃 View run fortunate-conch-762 at: https://dagshub.com/colome8/nyc-taxi-time-prediction.mlflow/#/experiments/0/runs/18f15bc6e210450aa2724bb1081316b9.\n",
      "\n",
      "2024/11/12 21:33:48 INFO mlflow.tracking._tracking_service.client: 🧪 View experiment at: https://dagshub.com/colome8/nyc-taxi-time-prediction.mlflow/#/experiments/0.\n",
      "\n"
     ]
    },
    {
     "name": "stdout",
     "output_type": "stream",
     "text": [
      " 65%|██████▌   | 13/20 [16:21<07:09, 61.35s/trial, best loss: 5.240192172926639]"
     ]
    },
    {
     "name": "stderr",
     "output_type": "stream",
     "text": [
      "2024/11/12 21:33:49 WARNING mlflow.sklearn: Failed to log training dataset information to MLflow Tracking. Reason: 'numpy.ndarray' object has no attribute 'toarray'\n",
      "\n",
      "2024/11/12 21:34:25 INFO mlflow.tracking._tracking_service.client: 🏃 View run intrigued-trout-293 at: https://dagshub.com/colome8/nyc-taxi-time-prediction.mlflow/#/experiments/0/runs/e9c95edfa6aa4e74a4a8bb238bd85fdc.\n",
      "\n",
      "2024/11/12 21:34:25 INFO mlflow.tracking._tracking_service.client: 🧪 View experiment at: https://dagshub.com/colome8/nyc-taxi-time-prediction.mlflow/#/experiments/0.\n",
      "\n"
     ]
    },
    {
     "name": "stdout",
     "output_type": "stream",
     "text": [
      " 70%|███████   | 14/20 [16:58<05:23, 53.93s/trial, best loss: 5.240192172926639]"
     ]
    },
    {
     "name": "stderr",
     "output_type": "stream",
     "text": [
      "2024/11/12 21:34:25 WARNING mlflow.sklearn: Failed to log training dataset information to MLflow Tracking. Reason: 'numpy.ndarray' object has no attribute 'toarray'\n",
      "\n",
      "2024/11/12 21:35:32 INFO mlflow.tracking._tracking_service.client: 🏃 View run zealous-hawk-103 at: https://dagshub.com/colome8/nyc-taxi-time-prediction.mlflow/#/experiments/0/runs/9b5bf9241b794b1c8f75c51353e963a2.\n",
      "\n",
      "2024/11/12 21:35:32 INFO mlflow.tracking._tracking_service.client: 🧪 View experiment at: https://dagshub.com/colome8/nyc-taxi-time-prediction.mlflow/#/experiments/0.\n",
      "\n"
     ]
    },
    {
     "name": "stdout",
     "output_type": "stream",
     "text": [
      " 75%|███████▌  | 15/20 [18:05<04:50, 58.04s/trial, best loss: 5.240192172926639]"
     ]
    },
    {
     "name": "stderr",
     "output_type": "stream",
     "text": [
      "2024/11/12 21:35:33 WARNING mlflow.sklearn: Failed to log training dataset information to MLflow Tracking. Reason: 'numpy.ndarray' object has no attribute 'toarray'\n",
      "\n",
      "2024/11/12 21:36:17 INFO mlflow.tracking._tracking_service.client: 🏃 View run angry-grouse-292 at: https://dagshub.com/colome8/nyc-taxi-time-prediction.mlflow/#/experiments/0/runs/2824bc1c48ba4a7fa447bd102bb6d63d.\n",
      "\n",
      "2024/11/12 21:36:17 INFO mlflow.tracking._tracking_service.client: 🧪 View experiment at: https://dagshub.com/colome8/nyc-taxi-time-prediction.mlflow/#/experiments/0.\n",
      "\n"
     ]
    },
    {
     "name": "stdout",
     "output_type": "stream",
     "text": [
      " 80%|████████  | 16/20 [18:50<03:35, 53.99s/trial, best loss: 5.240192172926639]"
     ]
    },
    {
     "name": "stderr",
     "output_type": "stream",
     "text": [
      "2024/11/12 21:36:17 WARNING mlflow.sklearn: Failed to log training dataset information to MLflow Tracking. Reason: 'numpy.ndarray' object has no attribute 'toarray'\n",
      "\n",
      "2024/11/12 21:36:52 INFO mlflow.tracking._tracking_service.client: 🏃 View run big-grub-327 at: https://dagshub.com/colome8/nyc-taxi-time-prediction.mlflow/#/experiments/0/runs/4a93ffa9c153444a8210b887416f5b4a.\n",
      "\n",
      "2024/11/12 21:36:52 INFO mlflow.tracking._tracking_service.client: 🧪 View experiment at: https://dagshub.com/colome8/nyc-taxi-time-prediction.mlflow/#/experiments/0.\n",
      "\n"
     ]
    },
    {
     "name": "stdout",
     "output_type": "stream",
     "text": [
      " 85%|████████▌ | 17/20 [19:24<02:24, 48.19s/trial, best loss: 5.240192172926639]"
     ]
    },
    {
     "name": "stderr",
     "output_type": "stream",
     "text": [
      "2024/11/12 21:36:52 WARNING mlflow.sklearn: Failed to log training dataset information to MLflow Tracking. Reason: 'numpy.ndarray' object has no attribute 'toarray'\n",
      "\n",
      "2024/11/12 21:37:27 INFO mlflow.tracking._tracking_service.client: 🏃 View run adventurous-rat-594 at: https://dagshub.com/colome8/nyc-taxi-time-prediction.mlflow/#/experiments/0/runs/875f6b92e22c4885a7cc4ecda0974beb.\n",
      "\n",
      "2024/11/12 21:37:27 INFO mlflow.tracking._tracking_service.client: 🧪 View experiment at: https://dagshub.com/colome8/nyc-taxi-time-prediction.mlflow/#/experiments/0.\n",
      "\n"
     ]
    },
    {
     "name": "stdout",
     "output_type": "stream",
     "text": [
      " 90%|█████████ | 18/20 [20:00<01:28, 44.46s/trial, best loss: 5.240192172926639]"
     ]
    },
    {
     "name": "stderr",
     "output_type": "stream",
     "text": [
      "2024/11/12 21:37:28 WARNING mlflow.sklearn: Failed to log training dataset information to MLflow Tracking. Reason: 'numpy.ndarray' object has no attribute 'toarray'\n",
      "\n",
      "2024/11/12 21:38:44 INFO mlflow.tracking._tracking_service.client: 🏃 View run funny-gnat-445 at: https://dagshub.com/colome8/nyc-taxi-time-prediction.mlflow/#/experiments/0/runs/ff7ce94f8aa14349ad02439d2618e44f.\n",
      "\n",
      "2024/11/12 21:38:44 INFO mlflow.tracking._tracking_service.client: 🧪 View experiment at: https://dagshub.com/colome8/nyc-taxi-time-prediction.mlflow/#/experiments/0.\n",
      "\n"
     ]
    },
    {
     "name": "stdout",
     "output_type": "stream",
     "text": [
      " 95%|█████████▌| 19/20 [21:17<00:54, 54.07s/trial, best loss: 5.240192172926639]"
     ]
    },
    {
     "name": "stderr",
     "output_type": "stream",
     "text": [
      "2024/11/12 21:38:45 WARNING mlflow.sklearn: Failed to log training dataset information to MLflow Tracking. Reason: 'numpy.ndarray' object has no attribute 'toarray'\n",
      "\n",
      "2024/11/12 21:40:21 INFO mlflow.tracking._tracking_service.client: 🏃 View run brawny-cod-574 at: https://dagshub.com/colome8/nyc-taxi-time-prediction.mlflow/#/experiments/0/runs/443866ae4bf546c782a1e5fbd2092f84.\n",
      "\n",
      "2024/11/12 21:40:21 INFO mlflow.tracking._tracking_service.client: 🧪 View experiment at: https://dagshub.com/colome8/nyc-taxi-time-prediction.mlflow/#/experiments/0.\n",
      "\n"
     ]
    },
    {
     "name": "stdout",
     "output_type": "stream",
     "text": [
      "100%|██████████| 20/20 [22:54<00:00, 68.73s/trial, best loss: 5.240192172926639]\n",
      "  0%|          | 0/20 [00:00<?, ?trial/s, best loss=?]"
     ]
    },
    {
     "name": "stderr",
     "output_type": "stream",
     "text": [
      "2024/11/12 21:40:23 WARNING mlflow.sklearn: Failed to log training dataset information to MLflow Tracking. Reason: 'numpy.ndarray' object has no attribute 'toarray'\n",
      "\n",
      "2024/11/12 21:43:22 INFO mlflow.tracking._tracking_service.client: 🏃 View run legendary-lark-655 at: https://dagshub.com/colome8/nyc-taxi-time-prediction.mlflow/#/experiments/0/runs/ce3c86ba00eb422db41b2393ac443f64.\n",
      "\n",
      "2024/11/12 21:43:22 INFO mlflow.tracking._tracking_service.client: 🧪 View experiment at: https://dagshub.com/colome8/nyc-taxi-time-prediction.mlflow/#/experiments/0.\n",
      "\n"
     ]
    },
    {
     "name": "stdout",
     "output_type": "stream",
     "text": [
      "  5%|▌         | 1/20 [02:59<56:59, 179.95s/trial, best loss: 5.442489763619475]"
     ]
    },
    {
     "name": "stderr",
     "output_type": "stream",
     "text": [
      "2024/11/12 21:43:23 WARNING mlflow.sklearn: Failed to log training dataset information to MLflow Tracking. Reason: 'numpy.ndarray' object has no attribute 'toarray'\n",
      "\n",
      "2024/11/12 21:45:50 INFO mlflow.tracking._tracking_service.client: 🏃 View run hilarious-zebra-14 at: https://dagshub.com/colome8/nyc-taxi-time-prediction.mlflow/#/experiments/0/runs/9d445d26b7ac41c794bc41079c860b00.\n",
      "\n",
      "2024/11/12 21:45:50 INFO mlflow.tracking._tracking_service.client: 🧪 View experiment at: https://dagshub.com/colome8/nyc-taxi-time-prediction.mlflow/#/experiments/0.\n",
      "\n"
     ]
    },
    {
     "name": "stdout",
     "output_type": "stream",
     "text": [
      " 10%|█         | 2/20 [05:28<48:23, 161.33s/trial, best loss: 5.405641239808438]"
     ]
    },
    {
     "name": "stderr",
     "output_type": "stream",
     "text": [
      "2024/11/12 21:45:51 WARNING mlflow.sklearn: Failed to log training dataset information to MLflow Tracking. Reason: 'numpy.ndarray' object has no attribute 'toarray'\n",
      "\n",
      "2024/11/12 21:49:23 INFO mlflow.tracking._tracking_service.client: 🏃 View run rebellious-stag-510 at: https://dagshub.com/colome8/nyc-taxi-time-prediction.mlflow/#/experiments/0/runs/ec063bb34fc0468bb4985c2dd8f68c7a.\n",
      "\n",
      "2024/11/12 21:49:23 INFO mlflow.tracking._tracking_service.client: 🧪 View experiment at: https://dagshub.com/colome8/nyc-taxi-time-prediction.mlflow/#/experiments/0.\n",
      "\n"
     ]
    },
    {
     "name": "stdout",
     "output_type": "stream",
     "text": [
      " 15%|█▌        | 3/20 [09:01<52:25, 185.05s/trial, best loss: 5.405641239808438]"
     ]
    },
    {
     "name": "stderr",
     "output_type": "stream",
     "text": [
      "2024/11/12 21:49:24 WARNING mlflow.sklearn: Failed to log training dataset information to MLflow Tracking. Reason: 'numpy.ndarray' object has no attribute 'toarray'\n",
      "\n",
      "2024/11/12 21:52:23 INFO mlflow.tracking._tracking_service.client: 🏃 View run delightful-cat-380 at: https://dagshub.com/colome8/nyc-taxi-time-prediction.mlflow/#/experiments/0/runs/0950d88a47104bb99be0f93de6abdc69.\n",
      "\n",
      "2024/11/12 21:52:23 INFO mlflow.tracking._tracking_service.client: 🧪 View experiment at: https://dagshub.com/colome8/nyc-taxi-time-prediction.mlflow/#/experiments/0.\n",
      "\n"
     ]
    },
    {
     "name": "stdout",
     "output_type": "stream",
     "text": [
      " 20%|██        | 4/20 [12:00<48:45, 182.83s/trial, best loss: 5.405641239808438]"
     ]
    },
    {
     "name": "stderr",
     "output_type": "stream",
     "text": [
      "2024/11/12 21:52:24 WARNING mlflow.sklearn: Failed to log training dataset information to MLflow Tracking. Reason: 'numpy.ndarray' object has no attribute 'toarray'\n",
      "\n",
      "2024/11/12 21:52:59 INFO mlflow.tracking._tracking_service.client: 🏃 View run nimble-shrike-985 at: https://dagshub.com/colome8/nyc-taxi-time-prediction.mlflow/#/experiments/0/runs/a67b48ee00c0462eb1398fcf021ccc29.\n",
      "\n",
      "2024/11/12 21:52:59 INFO mlflow.tracking._tracking_service.client: 🧪 View experiment at: https://dagshub.com/colome8/nyc-taxi-time-prediction.mlflow/#/experiments/0.\n",
      "\n"
     ]
    },
    {
     "name": "stdout",
     "output_type": "stream",
     "text": [
      " 25%|██▌       | 5/20 [12:36<32:27, 129.83s/trial, best loss: 5.405641239808438]"
     ]
    },
    {
     "name": "stderr",
     "output_type": "stream",
     "text": [
      "2024/11/12 21:52:59 WARNING mlflow.sklearn: Failed to log training dataset information to MLflow Tracking. Reason: 'numpy.ndarray' object has no attribute 'toarray'\n",
      "\n",
      "2024/11/12 21:54:32 INFO mlflow.tracking._tracking_service.client: 🏃 View run shivering-ape-891 at: https://dagshub.com/colome8/nyc-taxi-time-prediction.mlflow/#/experiments/0/runs/809e1c6805254646a9b04b2f323006d3.\n",
      "\n",
      "2024/11/12 21:54:32 INFO mlflow.tracking._tracking_service.client: 🧪 View experiment at: https://dagshub.com/colome8/nyc-taxi-time-prediction.mlflow/#/experiments/0.\n",
      "\n"
     ]
    },
    {
     "name": "stdout",
     "output_type": "stream",
     "text": [
      " 30%|███       | 6/20 [14:10<27:26, 117.63s/trial, best loss: 5.405641239808438]"
     ]
    },
    {
     "name": "stderr",
     "output_type": "stream",
     "text": [
      "2024/11/12 21:54:33 WARNING mlflow.sklearn: Failed to log training dataset information to MLflow Tracking. Reason: 'numpy.ndarray' object has no attribute 'toarray'\n",
      "\n",
      "2024/11/12 21:55:09 INFO mlflow.tracking._tracking_service.client: 🏃 View run likeable-doe-836 at: https://dagshub.com/colome8/nyc-taxi-time-prediction.mlflow/#/experiments/0/runs/c36eb3ae2aca48fea1869541779b5055.\n",
      "\n",
      "2024/11/12 21:55:09 INFO mlflow.tracking._tracking_service.client: 🧪 View experiment at: https://dagshub.com/colome8/nyc-taxi-time-prediction.mlflow/#/experiments/0.\n",
      "\n"
     ]
    },
    {
     "name": "stdout",
     "output_type": "stream",
     "text": [
      " 35%|███▌      | 7/20 [14:47<19:43, 91.05s/trial, best loss: 5.405641239808438] "
     ]
    },
    {
     "name": "stderr",
     "output_type": "stream",
     "text": [
      "2024/11/12 21:55:10 WARNING mlflow.sklearn: Failed to log training dataset information to MLflow Tracking. Reason: 'numpy.ndarray' object has no attribute 'toarray'\n",
      "\n",
      "2024/11/12 21:56:00 INFO mlflow.tracking._tracking_service.client: 🏃 View run bemused-panda-434 at: https://dagshub.com/colome8/nyc-taxi-time-prediction.mlflow/#/experiments/0/runs/3e9e3c59fc5f4a57b3ea873ec6d6ef41.\n",
      "\n",
      "2024/11/12 21:56:00 INFO mlflow.tracking._tracking_service.client: 🧪 View experiment at: https://dagshub.com/colome8/nyc-taxi-time-prediction.mlflow/#/experiments/0.\n",
      "\n"
     ]
    },
    {
     "name": "stdout",
     "output_type": "stream",
     "text": [
      " 40%|████      | 8/20 [15:38<15:40, 78.37s/trial, best loss: 5.405641239808438]"
     ]
    },
    {
     "name": "stderr",
     "output_type": "stream",
     "text": [
      "2024/11/12 21:56:01 WARNING mlflow.sklearn: Failed to log training dataset information to MLflow Tracking. Reason: 'numpy.ndarray' object has no attribute 'toarray'\n",
      "\n",
      "2024/11/12 21:56:53 INFO mlflow.tracking._tracking_service.client: 🏃 View run auspicious-skink-218 at: https://dagshub.com/colome8/nyc-taxi-time-prediction.mlflow/#/experiments/0/runs/23a9348da3164784912b4b63437e7584.\n",
      "\n",
      "2024/11/12 21:56:53 INFO mlflow.tracking._tracking_service.client: 🧪 View experiment at: https://dagshub.com/colome8/nyc-taxi-time-prediction.mlflow/#/experiments/0.\n",
      "\n"
     ]
    },
    {
     "name": "stdout",
     "output_type": "stream",
     "text": [
      " 45%|████▌     | 9/20 [16:30<12:53, 70.34s/trial, best loss: 5.405641239808438]"
     ]
    },
    {
     "name": "stderr",
     "output_type": "stream",
     "text": [
      "2024/11/12 21:56:54 WARNING mlflow.sklearn: Failed to log training dataset information to MLflow Tracking. Reason: 'numpy.ndarray' object has no attribute 'toarray'\n",
      "\n",
      "2024/11/12 21:59:20 INFO mlflow.tracking._tracking_service.client: 🏃 View run tasteful-mink-128 at: https://dagshub.com/colome8/nyc-taxi-time-prediction.mlflow/#/experiments/0/runs/acc23b5ad74544b89372a923c51c1785.\n",
      "\n",
      "2024/11/12 21:59:20 INFO mlflow.tracking._tracking_service.client: 🧪 View experiment at: https://dagshub.com/colome8/nyc-taxi-time-prediction.mlflow/#/experiments/0.\n",
      "\n"
     ]
    },
    {
     "name": "stdout",
     "output_type": "stream",
     "text": [
      " 50%|█████     | 10/20 [18:58<15:41, 94.19s/trial, best loss: 5.405641239808438]"
     ]
    },
    {
     "name": "stderr",
     "output_type": "stream",
     "text": [
      "2024/11/12 21:59:21 WARNING mlflow.sklearn: Failed to log training dataset information to MLflow Tracking. Reason: 'numpy.ndarray' object has no attribute 'toarray'\n",
      "\n",
      "2024/11/13 12:38:31 INFO mlflow.tracking._tracking_service.client: 🏃 View run awesome-steed-976 at: https://dagshub.com/colome8/nyc-taxi-time-prediction.mlflow/#/experiments/0/runs/984f09c77e4b40208c085f1c56a157c0.\n",
      "\n",
      "2024/11/13 12:38:31 INFO mlflow.tracking._tracking_service.client: 🧪 View experiment at: https://dagshub.com/colome8/nyc-taxi-time-prediction.mlflow/#/experiments/0.\n",
      "\n"
     ]
    },
    {
     "name": "stdout",
     "output_type": "stream",
     "text": [
      " 55%|█████▌    | 11/20 [14:58:08<40:31:27, 16209.71s/trial, best loss: 5.405641239808438]"
     ]
    },
    {
     "name": "stderr",
     "output_type": "stream",
     "text": [
      "2024/11/13 12:38:32 WARNING mlflow.sklearn: Failed to log training dataset information to MLflow Tracking. Reason: 'numpy.ndarray' object has no attribute 'toarray'\n",
      "\n",
      "2024/11/13 12:40:22 INFO mlflow.tracking._tracking_service.client: 🏃 View run traveling-snail-96 at: https://dagshub.com/colome8/nyc-taxi-time-prediction.mlflow/#/experiments/0/runs/11d924f41e43404583bb284ab1683a1c.\n",
      "\n",
      "2024/11/13 12:40:22 INFO mlflow.tracking._tracking_service.client: 🧪 View experiment at: https://dagshub.com/colome8/nyc-taxi-time-prediction.mlflow/#/experiments/0.\n",
      "\n"
     ]
    },
    {
     "name": "stdout",
     "output_type": "stream",
     "text": [
      " 60%|██████    | 12/20 [14:59:59<25:08:18, 11312.29s/trial, best loss: 5.405641239808438]"
     ]
    },
    {
     "name": "stderr",
     "output_type": "stream",
     "text": [
      "2024/11/13 12:40:23 WARNING mlflow.sklearn: Failed to log training dataset information to MLflow Tracking. Reason: 'numpy.ndarray' object has no attribute 'toarray'\n",
      "\n",
      "2024/11/13 12:43:12 INFO mlflow.tracking._tracking_service.client: 🏃 View run youthful-dove-371 at: https://dagshub.com/colome8/nyc-taxi-time-prediction.mlflow/#/experiments/0/runs/b2f0040acb0345958fdfea304ef8dddc.\n",
      "\n",
      "2024/11/13 12:43:12 INFO mlflow.tracking._tracking_service.client: 🧪 View experiment at: https://dagshub.com/colome8/nyc-taxi-time-prediction.mlflow/#/experiments/0.\n",
      "\n"
     ]
    },
    {
     "name": "stdout",
     "output_type": "stream",
     "text": [
      " 65%|██████▌   | 13/20 [15:02:50<15:25:59, 7937.05s/trial, best loss: 5.405641239808438] "
     ]
    },
    {
     "name": "stderr",
     "output_type": "stream",
     "text": [
      "2024/11/13 12:43:13 WARNING mlflow.sklearn: Failed to log training dataset information to MLflow Tracking. Reason: 'numpy.ndarray' object has no attribute 'toarray'\n",
      "\n",
      "2024/11/13 12:45:56 INFO mlflow.tracking._tracking_service.client: 🏃 View run abundant-trout-488 at: https://dagshub.com/colome8/nyc-taxi-time-prediction.mlflow/#/experiments/0/runs/549c2ea26fd24d609b6e8e4f435a4c4a.\n",
      "\n",
      "2024/11/13 12:45:56 INFO mlflow.tracking._tracking_service.client: 🧪 View experiment at: https://dagshub.com/colome8/nyc-taxi-time-prediction.mlflow/#/experiments/0.\n",
      "\n"
     ]
    },
    {
     "name": "stdout",
     "output_type": "stream",
     "text": [
      " 70%|███████   | 14/20 [15:05:33<9:18:54, 5589.02s/trial, best loss: 5.39879397171728]  "
     ]
    },
    {
     "name": "stderr",
     "output_type": "stream",
     "text": [
      "2024/11/13 12:45:57 WARNING mlflow.sklearn: Failed to log training dataset information to MLflow Tracking. Reason: 'numpy.ndarray' object has no attribute 'toarray'\n",
      "\n",
      "2024/11/13 12:46:43 INFO mlflow.tracking._tracking_service.client: 🏃 View run puzzled-rat-126 at: https://dagshub.com/colome8/nyc-taxi-time-prediction.mlflow/#/experiments/0/runs/3c02409d6ccd446f9d67ff97834eabf9.\n",
      "\n",
      "2024/11/13 12:46:43 INFO mlflow.tracking._tracking_service.client: 🧪 View experiment at: https://dagshub.com/colome8/nyc-taxi-time-prediction.mlflow/#/experiments/0.\n",
      "\n"
     ]
    },
    {
     "name": "stdout",
     "output_type": "stream",
     "text": [
      " 75%|███████▌  | 15/20 [15:06:21<5:26:33, 3918.73s/trial, best loss: 5.39879397171728]"
     ]
    },
    {
     "name": "stderr",
     "output_type": "stream",
     "text": [
      "2024/11/13 12:46:44 WARNING mlflow.sklearn: Failed to log training dataset information to MLflow Tracking. Reason: 'numpy.ndarray' object has no attribute 'toarray'\n",
      "\n",
      "2024/11/13 12:49:26 INFO mlflow.tracking._tracking_service.client: 🏃 View run aged-skunk-442 at: https://dagshub.com/colome8/nyc-taxi-time-prediction.mlflow/#/experiments/0/runs/9d8a9049ea8e4f25bcd92b23393ed036.\n",
      "\n",
      "2024/11/13 12:49:26 INFO mlflow.tracking._tracking_service.client: 🧪 View experiment at: https://dagshub.com/colome8/nyc-taxi-time-prediction.mlflow/#/experiments/0.\n",
      "\n"
     ]
    },
    {
     "name": "stdout",
     "output_type": "stream",
     "text": [
      " 80%|████████  | 16/20 [15:09:04<3:05:52, 2788.21s/trial, best loss: 5.39879397171728]"
     ]
    },
    {
     "name": "stderr",
     "output_type": "stream",
     "text": [
      "2024/11/13 12:49:27 WARNING mlflow.sklearn: Failed to log training dataset information to MLflow Tracking. Reason: 'numpy.ndarray' object has no attribute 'toarray'\n",
      "\n",
      "2024/11/13 12:51:20 INFO mlflow.tracking._tracking_service.client: 🏃 View run ambitious-ox-729 at: https://dagshub.com/colome8/nyc-taxi-time-prediction.mlflow/#/experiments/0/runs/06c2286b48f4455eb0ed5f12aca16192.\n",
      "\n",
      "2024/11/13 12:51:20 INFO mlflow.tracking._tracking_service.client: 🧪 View experiment at: https://dagshub.com/colome8/nyc-taxi-time-prediction.mlflow/#/experiments/0.\n",
      "\n"
     ]
    },
    {
     "name": "stdout",
     "output_type": "stream",
     "text": [
      " 85%|████████▌ | 17/20 [15:10:58<1:39:12, 1984.07s/trial, best loss: 5.39879397171728]"
     ]
    },
    {
     "name": "stderr",
     "output_type": "stream",
     "text": [
      "2024/11/13 12:51:22 WARNING mlflow.sklearn: Failed to log training dataset information to MLflow Tracking. Reason: 'numpy.ndarray' object has no attribute 'toarray'\n",
      "\n",
      "2024/11/13 12:52:23 INFO mlflow.tracking._tracking_service.client: 🏃 View run likeable-mule-979 at: https://dagshub.com/colome8/nyc-taxi-time-prediction.mlflow/#/experiments/0/runs/817adde0c57940b6893d53dc12967eb7.\n",
      "\n",
      "2024/11/13 12:52:23 INFO mlflow.tracking._tracking_service.client: 🧪 View experiment at: https://dagshub.com/colome8/nyc-taxi-time-prediction.mlflow/#/experiments/0.\n",
      "\n"
     ]
    },
    {
     "name": "stdout",
     "output_type": "stream",
     "text": [
      " 90%|█████████ | 18/20 [15:12:01<46:53, 1406.80s/trial, best loss: 5.39879397171728]  "
     ]
    },
    {
     "name": "stderr",
     "output_type": "stream",
     "text": [
      "2024/11/13 12:52:24 WARNING mlflow.sklearn: Failed to log training dataset information to MLflow Tracking. Reason: 'numpy.ndarray' object has no attribute 'toarray'\n",
      "\n",
      "2024/11/13 12:53:31 INFO mlflow.tracking._tracking_service.client: 🏃 View run unleashed-fowl-208 at: https://dagshub.com/colome8/nyc-taxi-time-prediction.mlflow/#/experiments/0/runs/df57319f127d419bba56ba9937123b4c.\n",
      "\n",
      "2024/11/13 12:53:31 INFO mlflow.tracking._tracking_service.client: 🧪 View experiment at: https://dagshub.com/colome8/nyc-taxi-time-prediction.mlflow/#/experiments/0.\n",
      "\n"
     ]
    },
    {
     "name": "stdout",
     "output_type": "stream",
     "text": [
      " 95%|█████████▌| 19/20 [15:13:09<16:44, 1004.68s/trial, best loss: 5.39879397171728]"
     ]
    },
    {
     "name": "stderr",
     "output_type": "stream",
     "text": [
      "2024/11/13 12:53:32 WARNING mlflow.sklearn: Failed to log training dataset information to MLflow Tracking. Reason: 'numpy.ndarray' object has no attribute 'toarray'\n",
      "\n",
      "2024/11/13 12:54:29 INFO mlflow.tracking._tracking_service.client: 🏃 View run angry-roo-115 at: https://dagshub.com/colome8/nyc-taxi-time-prediction.mlflow/#/experiments/0/runs/46d3cecc573d40909f5e33a372229f09.\n",
      "\n",
      "2024/11/13 12:54:29 INFO mlflow.tracking._tracking_service.client: 🧪 View experiment at: https://dagshub.com/colome8/nyc-taxi-time-prediction.mlflow/#/experiments/0.\n",
      "\n"
     ]
    },
    {
     "name": "stdout",
     "output_type": "stream",
     "text": [
      "100%|██████████| 20/20 [15:14:07<00:00, 2742.38s/trial, best loss: 5.39879397171728]\n"
     ]
    },
    {
     "name": "stderr",
     "output_type": "stream",
     "text": [
      "2024/11/13 12:54:30 WARNING mlflow.sklearn: Failed to log training dataset information to MLflow Tracking. Reason: 'numpy.ndarray' object has no attribute 'toarray'\n",
      "2024/11/13 12:54:31 INFO mlflow.tracking._tracking_service.client: 🏃 View run Parent Experiment at: https://dagshub.com/colome8/nyc-taxi-time-prediction.mlflow/#/experiments/0/runs/8a75041f3c394537ade24a79f0fbcb90.\n",
      "2024/11/13 12:54:31 INFO mlflow.tracking._tracking_service.client: 🧪 View experiment at: https://dagshub.com/colome8/nyc-taxi-time-prediction.mlflow/#/experiments/0.\n"
     ]
    },
    {
     "ename": "InvalidParameterError",
     "evalue": "The 'max_depth' parameter of GradientBoostingRegressor must be an int in the range [1, inf) or None. Got np.float64(9.0) instead.",
     "output_type": "error",
     "traceback": [
      "\u001b[1;31m---------------------------------------------------------------------------\u001b[0m",
      "\u001b[1;31mInvalidParameterError\u001b[0m                     Traceback (most recent call last)",
      "Cell \u001b[1;32mIn[14], line 35\u001b[0m\n\u001b[0;32m     32\u001b[0m     best_model_name \u001b[38;5;241m=\u001b[39m \u001b[38;5;124m\"\u001b[39m\u001b[38;5;124mRandomForest\u001b[39m\u001b[38;5;124m\"\u001b[39m\n\u001b[0;32m     34\u001b[0m \u001b[38;5;66;03m# Entrenar el mejor modelo con todos los datos\u001b[39;00m\n\u001b[1;32m---> 35\u001b[0m \u001b[43mbest_model\u001b[49m\u001b[38;5;241;43m.\u001b[39;49m\u001b[43mfit\u001b[49m\u001b[43m(\u001b[49m\u001b[43mX_train\u001b[49m\u001b[43m,\u001b[49m\u001b[43m \u001b[49m\u001b[43my_train\u001b[49m\u001b[43m)\u001b[49m\n\u001b[0;32m     37\u001b[0m \u001b[38;5;66;03m# Registrar el mejor modelo\u001b[39;00m\n\u001b[0;32m     38\u001b[0m mlflow\u001b[38;5;241m.\u001b[39msklearn\u001b[38;5;241m.\u001b[39mlog_model(best_model, \u001b[38;5;124m\"\u001b[39m\u001b[38;5;124mnyc-taxi-model\u001b[39m\u001b[38;5;124m\"\u001b[39m)\n",
      "File \u001b[1;32mc:\\Users\\colom\\OneDrive - ITESO\\iteso\\5to semestre\\cienciadatos\\nyc-taxi-time-prediction\\venv\\Lib\\site-packages\\mlflow\\utils\\autologging_utils\\safety.py:580\u001b[0m, in \u001b[0;36msafe_patch.<locals>.safe_patch_function\u001b[1;34m(*args, **kwargs)\u001b[0m\n\u001b[0;32m    578\u001b[0m     patch_function\u001b[38;5;241m.\u001b[39mcall(call_original, \u001b[38;5;241m*\u001b[39margs, \u001b[38;5;241m*\u001b[39m\u001b[38;5;241m*\u001b[39mkwargs)\n\u001b[0;32m    579\u001b[0m \u001b[38;5;28;01melse\u001b[39;00m:\n\u001b[1;32m--> 580\u001b[0m     \u001b[43mpatch_function\u001b[49m\u001b[43m(\u001b[49m\u001b[43mcall_original\u001b[49m\u001b[43m,\u001b[49m\u001b[43m \u001b[49m\u001b[38;5;241;43m*\u001b[39;49m\u001b[43margs\u001b[49m\u001b[43m,\u001b[49m\u001b[43m \u001b[49m\u001b[38;5;241;43m*\u001b[39;49m\u001b[38;5;241;43m*\u001b[39;49m\u001b[43mkwargs\u001b[49m\u001b[43m)\u001b[49m\n\u001b[0;32m    582\u001b[0m session\u001b[38;5;241m.\u001b[39mstate \u001b[38;5;241m=\u001b[39m \u001b[38;5;124m\"\u001b[39m\u001b[38;5;124msucceeded\u001b[39m\u001b[38;5;124m\"\u001b[39m\n\u001b[0;32m    584\u001b[0m try_log_autologging_event(\n\u001b[0;32m    585\u001b[0m     AutologgingEventLogger\u001b[38;5;241m.\u001b[39mget_logger()\u001b[38;5;241m.\u001b[39mlog_patch_function_success,\n\u001b[0;32m    586\u001b[0m     session,\n\u001b[1;32m   (...)\u001b[0m\n\u001b[0;32m    590\u001b[0m     kwargs,\n\u001b[0;32m    591\u001b[0m )\n",
      "File \u001b[1;32mc:\\Users\\colom\\OneDrive - ITESO\\iteso\\5to semestre\\cienciadatos\\nyc-taxi-time-prediction\\venv\\Lib\\site-packages\\mlflow\\utils\\autologging_utils\\safety.py:249\u001b[0m, in \u001b[0;36mwith_managed_run.<locals>.patch_with_managed_run\u001b[1;34m(original, *args, **kwargs)\u001b[0m\n\u001b[0;32m    246\u001b[0m     managed_run \u001b[38;5;241m=\u001b[39m create_managed_run()\n\u001b[0;32m    248\u001b[0m \u001b[38;5;28;01mtry\u001b[39;00m:\n\u001b[1;32m--> 249\u001b[0m     result \u001b[38;5;241m=\u001b[39m \u001b[43mpatch_function\u001b[49m\u001b[43m(\u001b[49m\u001b[43moriginal\u001b[49m\u001b[43m,\u001b[49m\u001b[43m \u001b[49m\u001b[38;5;241;43m*\u001b[39;49m\u001b[43margs\u001b[49m\u001b[43m,\u001b[49m\u001b[43m \u001b[49m\u001b[38;5;241;43m*\u001b[39;49m\u001b[38;5;241;43m*\u001b[39;49m\u001b[43mkwargs\u001b[49m\u001b[43m)\u001b[49m\n\u001b[0;32m    250\u001b[0m \u001b[38;5;28;01mexcept\u001b[39;00m (\u001b[38;5;167;01mException\u001b[39;00m, \u001b[38;5;167;01mKeyboardInterrupt\u001b[39;00m):\n\u001b[0;32m    251\u001b[0m     \u001b[38;5;66;03m# In addition to standard Python exceptions, handle keyboard interrupts to ensure\u001b[39;00m\n\u001b[0;32m    252\u001b[0m     \u001b[38;5;66;03m# that runs are terminated if a user prematurely interrupts training execution\u001b[39;00m\n\u001b[0;32m    253\u001b[0m     \u001b[38;5;66;03m# (e.g. via sigint / ctrl-c)\u001b[39;00m\n\u001b[0;32m    254\u001b[0m     \u001b[38;5;28;01mif\u001b[39;00m managed_run:\n",
      "File \u001b[1;32mc:\\Users\\colom\\OneDrive - ITESO\\iteso\\5to semestre\\cienciadatos\\nyc-taxi-time-prediction\\venv\\Lib\\site-packages\\mlflow\\sklearn\\__init__.py:1653\u001b[0m, in \u001b[0;36m_autolog.<locals>.patched_fit\u001b[1;34m(fit_impl, allow_children_patch, original, self, *args, **kwargs)\u001b[0m\n\u001b[0;32m   1649\u001b[0m \u001b[38;5;28;01mif\u001b[39;00m t\u001b[38;5;241m.\u001b[39mshould_log():\n\u001b[0;32m   1650\u001b[0m     \u001b[38;5;66;03m# In `fit_mlflow` call, it will also call metric API for computing training metrics\u001b[39;00m\n\u001b[0;32m   1651\u001b[0m     \u001b[38;5;66;03m# so we need temporarily disable the post_training_metrics patching.\u001b[39;00m\n\u001b[0;32m   1652\u001b[0m     \u001b[38;5;28;01mwith\u001b[39;00m _AUTOLOGGING_METRICS_MANAGER\u001b[38;5;241m.\u001b[39mdisable_log_post_training_metrics():\n\u001b[1;32m-> 1653\u001b[0m         result \u001b[38;5;241m=\u001b[39m \u001b[43mfit_impl\u001b[49m\u001b[43m(\u001b[49m\u001b[43moriginal\u001b[49m\u001b[43m,\u001b[49m\u001b[43m \u001b[49m\u001b[38;5;28;43mself\u001b[39;49m\u001b[43m,\u001b[49m\u001b[43m \u001b[49m\u001b[38;5;241;43m*\u001b[39;49m\u001b[43margs\u001b[49m\u001b[43m,\u001b[49m\u001b[43m \u001b[49m\u001b[38;5;241;43m*\u001b[39;49m\u001b[38;5;241;43m*\u001b[39;49m\u001b[43mkwargs\u001b[49m\u001b[43m)\u001b[49m\n\u001b[0;32m   1654\u001b[0m     \u001b[38;5;28;01mif\u001b[39;00m should_log_post_training_metrics:\n\u001b[0;32m   1655\u001b[0m         _AUTOLOGGING_METRICS_MANAGER\u001b[38;5;241m.\u001b[39mregister_model(\n\u001b[0;32m   1656\u001b[0m             \u001b[38;5;28mself\u001b[39m, mlflow\u001b[38;5;241m.\u001b[39mactive_run()\u001b[38;5;241m.\u001b[39minfo\u001b[38;5;241m.\u001b[39mrun_id\n\u001b[0;32m   1657\u001b[0m         )\n",
      "File \u001b[1;32mc:\\Users\\colom\\OneDrive - ITESO\\iteso\\5to semestre\\cienciadatos\\nyc-taxi-time-prediction\\venv\\Lib\\site-packages\\mlflow\\sklearn\\__init__.py:1428\u001b[0m, in \u001b[0;36m_autolog.<locals>.fit_mlflow\u001b[1;34m(original, self, *args, **kwargs)\u001b[0m\n\u001b[0;32m   1426\u001b[0m _log_pretraining_metadata(autologging_client, \u001b[38;5;28mself\u001b[39m, X, y_true)\n\u001b[0;32m   1427\u001b[0m params_logging_future \u001b[38;5;241m=\u001b[39m autologging_client\u001b[38;5;241m.\u001b[39mflush(synchronous\u001b[38;5;241m=\u001b[39m\u001b[38;5;28;01mFalse\u001b[39;00m)\n\u001b[1;32m-> 1428\u001b[0m fit_output \u001b[38;5;241m=\u001b[39m \u001b[43moriginal\u001b[49m\u001b[43m(\u001b[49m\u001b[38;5;28;43mself\u001b[39;49m\u001b[43m,\u001b[49m\u001b[43m \u001b[49m\u001b[38;5;241;43m*\u001b[39;49m\u001b[43margs\u001b[49m\u001b[43m,\u001b[49m\u001b[43m \u001b[49m\u001b[38;5;241;43m*\u001b[39;49m\u001b[38;5;241;43m*\u001b[39;49m\u001b[43mkwargs\u001b[49m\u001b[43m)\u001b[49m\n\u001b[0;32m   1429\u001b[0m _log_posttraining_metadata(autologging_client, \u001b[38;5;28mself\u001b[39m, X, y_true, sample_weight)\n\u001b[0;32m   1430\u001b[0m autologging_client\u001b[38;5;241m.\u001b[39mflush(synchronous\u001b[38;5;241m=\u001b[39m\u001b[38;5;28;01mTrue\u001b[39;00m)\n",
      "File \u001b[1;32mc:\\Users\\colom\\OneDrive - ITESO\\iteso\\5to semestre\\cienciadatos\\nyc-taxi-time-prediction\\venv\\Lib\\site-packages\\mlflow\\utils\\autologging_utils\\safety.py:561\u001b[0m, in \u001b[0;36msafe_patch.<locals>.safe_patch_function.<locals>.call_original\u001b[1;34m(*og_args, **og_kwargs)\u001b[0m\n\u001b[0;32m    558\u001b[0m         original_result \u001b[38;5;241m=\u001b[39m original(\u001b[38;5;241m*\u001b[39m_og_args, \u001b[38;5;241m*\u001b[39m\u001b[38;5;241m*\u001b[39m_og_kwargs)\n\u001b[0;32m    559\u001b[0m         \u001b[38;5;28;01mreturn\u001b[39;00m original_result\n\u001b[1;32m--> 561\u001b[0m \u001b[38;5;28;01mreturn\u001b[39;00m \u001b[43mcall_original_fn_with_event_logging\u001b[49m\u001b[43m(\u001b[49m\u001b[43m_original_fn\u001b[49m\u001b[43m,\u001b[49m\u001b[43m \u001b[49m\u001b[43mog_args\u001b[49m\u001b[43m,\u001b[49m\u001b[43m \u001b[49m\u001b[43mog_kwargs\u001b[49m\u001b[43m)\u001b[49m\n",
      "File \u001b[1;32mc:\\Users\\colom\\OneDrive - ITESO\\iteso\\5to semestre\\cienciadatos\\nyc-taxi-time-prediction\\venv\\Lib\\site-packages\\mlflow\\utils\\autologging_utils\\safety.py:496\u001b[0m, in \u001b[0;36msafe_patch.<locals>.safe_patch_function.<locals>.call_original_fn_with_event_logging\u001b[1;34m(original_fn, og_args, og_kwargs)\u001b[0m\n\u001b[0;32m    487\u001b[0m \u001b[38;5;28;01mtry\u001b[39;00m:\n\u001b[0;32m    488\u001b[0m     try_log_autologging_event(\n\u001b[0;32m    489\u001b[0m         AutologgingEventLogger\u001b[38;5;241m.\u001b[39mget_logger()\u001b[38;5;241m.\u001b[39mlog_original_function_start,\n\u001b[0;32m    490\u001b[0m         session,\n\u001b[1;32m   (...)\u001b[0m\n\u001b[0;32m    494\u001b[0m         og_kwargs,\n\u001b[0;32m    495\u001b[0m     )\n\u001b[1;32m--> 496\u001b[0m     original_fn_result \u001b[38;5;241m=\u001b[39m \u001b[43moriginal_fn\u001b[49m\u001b[43m(\u001b[49m\u001b[38;5;241;43m*\u001b[39;49m\u001b[43mog_args\u001b[49m\u001b[43m,\u001b[49m\u001b[43m \u001b[49m\u001b[38;5;241;43m*\u001b[39;49m\u001b[38;5;241;43m*\u001b[39;49m\u001b[43mog_kwargs\u001b[49m\u001b[43m)\u001b[49m\n\u001b[0;32m    498\u001b[0m     try_log_autologging_event(\n\u001b[0;32m    499\u001b[0m         AutologgingEventLogger\u001b[38;5;241m.\u001b[39mget_logger()\u001b[38;5;241m.\u001b[39mlog_original_function_success,\n\u001b[0;32m    500\u001b[0m         session,\n\u001b[1;32m   (...)\u001b[0m\n\u001b[0;32m    504\u001b[0m         og_kwargs,\n\u001b[0;32m    505\u001b[0m     )\n\u001b[0;32m    506\u001b[0m     \u001b[38;5;28;01mreturn\u001b[39;00m original_fn_result\n",
      "File \u001b[1;32mc:\\Users\\colom\\OneDrive - ITESO\\iteso\\5to semestre\\cienciadatos\\nyc-taxi-time-prediction\\venv\\Lib\\site-packages\\mlflow\\utils\\autologging_utils\\safety.py:558\u001b[0m, in \u001b[0;36msafe_patch.<locals>.safe_patch_function.<locals>.call_original.<locals>._original_fn\u001b[1;34m(*_og_args, **_og_kwargs)\u001b[0m\n\u001b[0;32m    550\u001b[0m \u001b[38;5;66;03m# Show all non-MLflow warnings as normal (i.e. not as event logs)\u001b[39;00m\n\u001b[0;32m    551\u001b[0m \u001b[38;5;66;03m# during original function execution, even if silent mode is enabled\u001b[39;00m\n\u001b[0;32m    552\u001b[0m \u001b[38;5;66;03m# (`silent=True`), since these warnings originate from the ML framework\u001b[39;00m\n\u001b[0;32m    553\u001b[0m \u001b[38;5;66;03m# or one of its dependencies and are likely relevant to the caller\u001b[39;00m\n\u001b[0;32m    554\u001b[0m \u001b[38;5;28;01mwith\u001b[39;00m set_non_mlflow_warnings_behavior_for_current_thread(\n\u001b[0;32m    555\u001b[0m     disable_warnings\u001b[38;5;241m=\u001b[39m\u001b[38;5;28;01mFalse\u001b[39;00m,\n\u001b[0;32m    556\u001b[0m     reroute_warnings\u001b[38;5;241m=\u001b[39m\u001b[38;5;28;01mFalse\u001b[39;00m,\n\u001b[0;32m    557\u001b[0m ):\n\u001b[1;32m--> 558\u001b[0m     original_result \u001b[38;5;241m=\u001b[39m \u001b[43moriginal\u001b[49m\u001b[43m(\u001b[49m\u001b[38;5;241;43m*\u001b[39;49m\u001b[43m_og_args\u001b[49m\u001b[43m,\u001b[49m\u001b[43m \u001b[49m\u001b[38;5;241;43m*\u001b[39;49m\u001b[38;5;241;43m*\u001b[39;49m\u001b[43m_og_kwargs\u001b[49m\u001b[43m)\u001b[49m\n\u001b[0;32m    559\u001b[0m     \u001b[38;5;28;01mreturn\u001b[39;00m original_result\n",
      "File \u001b[1;32mc:\\Users\\colom\\OneDrive - ITESO\\iteso\\5to semestre\\cienciadatos\\nyc-taxi-time-prediction\\venv\\Lib\\site-packages\\sklearn\\base.py:1466\u001b[0m, in \u001b[0;36m_fit_context.<locals>.decorator.<locals>.wrapper\u001b[1;34m(estimator, *args, **kwargs)\u001b[0m\n\u001b[0;32m   1461\u001b[0m partial_fit_and_fitted \u001b[38;5;241m=\u001b[39m (\n\u001b[0;32m   1462\u001b[0m     fit_method\u001b[38;5;241m.\u001b[39m\u001b[38;5;18m__name__\u001b[39m \u001b[38;5;241m==\u001b[39m \u001b[38;5;124m\"\u001b[39m\u001b[38;5;124mpartial_fit\u001b[39m\u001b[38;5;124m\"\u001b[39m \u001b[38;5;129;01mand\u001b[39;00m _is_fitted(estimator)\n\u001b[0;32m   1463\u001b[0m )\n\u001b[0;32m   1465\u001b[0m \u001b[38;5;28;01mif\u001b[39;00m \u001b[38;5;129;01mnot\u001b[39;00m global_skip_validation \u001b[38;5;129;01mand\u001b[39;00m \u001b[38;5;129;01mnot\u001b[39;00m partial_fit_and_fitted:\n\u001b[1;32m-> 1466\u001b[0m     \u001b[43mestimator\u001b[49m\u001b[38;5;241;43m.\u001b[39;49m\u001b[43m_validate_params\u001b[49m\u001b[43m(\u001b[49m\u001b[43m)\u001b[49m\n\u001b[0;32m   1468\u001b[0m \u001b[38;5;28;01mwith\u001b[39;00m config_context(\n\u001b[0;32m   1469\u001b[0m     skip_parameter_validation\u001b[38;5;241m=\u001b[39m(\n\u001b[0;32m   1470\u001b[0m         prefer_skip_nested_validation \u001b[38;5;129;01mor\u001b[39;00m global_skip_validation\n\u001b[0;32m   1471\u001b[0m     )\n\u001b[0;32m   1472\u001b[0m ):\n\u001b[0;32m   1473\u001b[0m     \u001b[38;5;28;01mreturn\u001b[39;00m fit_method(estimator, \u001b[38;5;241m*\u001b[39margs, \u001b[38;5;241m*\u001b[39m\u001b[38;5;241m*\u001b[39mkwargs)\n",
      "File \u001b[1;32mc:\\Users\\colom\\OneDrive - ITESO\\iteso\\5to semestre\\cienciadatos\\nyc-taxi-time-prediction\\venv\\Lib\\site-packages\\sklearn\\base.py:666\u001b[0m, in \u001b[0;36mBaseEstimator._validate_params\u001b[1;34m(self)\u001b[0m\n\u001b[0;32m    658\u001b[0m \u001b[38;5;28;01mdef\u001b[39;00m \u001b[38;5;21m_validate_params\u001b[39m(\u001b[38;5;28mself\u001b[39m):\n\u001b[0;32m    659\u001b[0m \u001b[38;5;250m    \u001b[39m\u001b[38;5;124;03m\"\"\"Validate types and values of constructor parameters\u001b[39;00m\n\u001b[0;32m    660\u001b[0m \n\u001b[0;32m    661\u001b[0m \u001b[38;5;124;03m    The expected type and values must be defined in the `_parameter_constraints`\u001b[39;00m\n\u001b[1;32m   (...)\u001b[0m\n\u001b[0;32m    664\u001b[0m \u001b[38;5;124;03m    accepted constraints.\u001b[39;00m\n\u001b[0;32m    665\u001b[0m \u001b[38;5;124;03m    \"\"\"\u001b[39;00m\n\u001b[1;32m--> 666\u001b[0m     \u001b[43mvalidate_parameter_constraints\u001b[49m\u001b[43m(\u001b[49m\n\u001b[0;32m    667\u001b[0m \u001b[43m        \u001b[49m\u001b[38;5;28;43mself\u001b[39;49m\u001b[38;5;241;43m.\u001b[39;49m\u001b[43m_parameter_constraints\u001b[49m\u001b[43m,\u001b[49m\n\u001b[0;32m    668\u001b[0m \u001b[43m        \u001b[49m\u001b[38;5;28;43mself\u001b[39;49m\u001b[38;5;241;43m.\u001b[39;49m\u001b[43mget_params\u001b[49m\u001b[43m(\u001b[49m\u001b[43mdeep\u001b[49m\u001b[38;5;241;43m=\u001b[39;49m\u001b[38;5;28;43;01mFalse\u001b[39;49;00m\u001b[43m)\u001b[49m\u001b[43m,\u001b[49m\n\u001b[0;32m    669\u001b[0m \u001b[43m        \u001b[49m\u001b[43mcaller_name\u001b[49m\u001b[38;5;241;43m=\u001b[39;49m\u001b[38;5;28;43mself\u001b[39;49m\u001b[38;5;241;43m.\u001b[39;49m\u001b[38;5;18;43m__class__\u001b[39;49m\u001b[38;5;241;43m.\u001b[39;49m\u001b[38;5;18;43m__name__\u001b[39;49m\u001b[43m,\u001b[49m\n\u001b[0;32m    670\u001b[0m \u001b[43m    \u001b[49m\u001b[43m)\u001b[49m\n",
      "File \u001b[1;32mc:\\Users\\colom\\OneDrive - ITESO\\iteso\\5to semestre\\cienciadatos\\nyc-taxi-time-prediction\\venv\\Lib\\site-packages\\sklearn\\utils\\_param_validation.py:95\u001b[0m, in \u001b[0;36mvalidate_parameter_constraints\u001b[1;34m(parameter_constraints, params, caller_name)\u001b[0m\n\u001b[0;32m     89\u001b[0m \u001b[38;5;28;01melse\u001b[39;00m:\n\u001b[0;32m     90\u001b[0m     constraints_str \u001b[38;5;241m=\u001b[39m (\n\u001b[0;32m     91\u001b[0m         \u001b[38;5;124mf\u001b[39m\u001b[38;5;124m\"\u001b[39m\u001b[38;5;132;01m{\u001b[39;00m\u001b[38;5;124m'\u001b[39m\u001b[38;5;124m, \u001b[39m\u001b[38;5;124m'\u001b[39m\u001b[38;5;241m.\u001b[39mjoin([\u001b[38;5;28mstr\u001b[39m(c)\u001b[38;5;250m \u001b[39m\u001b[38;5;28;01mfor\u001b[39;00m\u001b[38;5;250m \u001b[39mc\u001b[38;5;250m \u001b[39m\u001b[38;5;129;01min\u001b[39;00m\u001b[38;5;250m \u001b[39mconstraints[:\u001b[38;5;241m-\u001b[39m\u001b[38;5;241m1\u001b[39m]])\u001b[38;5;132;01m}\u001b[39;00m\u001b[38;5;124m or\u001b[39m\u001b[38;5;124m\"\u001b[39m\n\u001b[0;32m     92\u001b[0m         \u001b[38;5;124mf\u001b[39m\u001b[38;5;124m\"\u001b[39m\u001b[38;5;124m \u001b[39m\u001b[38;5;132;01m{\u001b[39;00mconstraints[\u001b[38;5;241m-\u001b[39m\u001b[38;5;241m1\u001b[39m]\u001b[38;5;132;01m}\u001b[39;00m\u001b[38;5;124m\"\u001b[39m\n\u001b[0;32m     93\u001b[0m     )\n\u001b[1;32m---> 95\u001b[0m \u001b[38;5;28;01mraise\u001b[39;00m InvalidParameterError(\n\u001b[0;32m     96\u001b[0m     \u001b[38;5;124mf\u001b[39m\u001b[38;5;124m\"\u001b[39m\u001b[38;5;124mThe \u001b[39m\u001b[38;5;132;01m{\u001b[39;00mparam_name\u001b[38;5;132;01m!r}\u001b[39;00m\u001b[38;5;124m parameter of \u001b[39m\u001b[38;5;132;01m{\u001b[39;00mcaller_name\u001b[38;5;132;01m}\u001b[39;00m\u001b[38;5;124m must be\u001b[39m\u001b[38;5;124m\"\u001b[39m\n\u001b[0;32m     97\u001b[0m     \u001b[38;5;124mf\u001b[39m\u001b[38;5;124m\"\u001b[39m\u001b[38;5;124m \u001b[39m\u001b[38;5;132;01m{\u001b[39;00mconstraints_str\u001b[38;5;132;01m}\u001b[39;00m\u001b[38;5;124m. Got \u001b[39m\u001b[38;5;132;01m{\u001b[39;00mparam_val\u001b[38;5;132;01m!r}\u001b[39;00m\u001b[38;5;124m instead.\u001b[39m\u001b[38;5;124m\"\u001b[39m\n\u001b[0;32m     98\u001b[0m )\n",
      "\u001b[1;31mInvalidParameterError\u001b[0m: The 'max_depth' parameter of GradientBoostingRegressor must be an int in the range [1, inf) or None. Got np.float64(9.0) instead."
     ]
    }
   ],
   "source": [
    "# Experimentos\n",
    "with mlflow.start_run(run_name=\"Parent Experiment\"):\n",
    "    # Gradient Boost\n",
    "    gb_trials = Trials()\n",
    "    best_gb = fmin(\n",
    "        fn=lambda params: objective(params, GradientBoostingRegressor, X_train, y_train, X_val, y_val),\n",
    "        space=gb_space,\n",
    "        algo=tpe.suggest,\n",
    "        max_evals=20,\n",
    "        trials=gb_trials\n",
    "    )\n",
    "    \n",
    "    # Random Forest\n",
    "    rf_trials = Trials()\n",
    "    best_rf = fmin(\n",
    "        fn=lambda params: objective(params, RandomForestRegressor, X_train, y_train, X_val, y_val),\n",
    "        space=rf_space,\n",
    "        algo=tpe.suggest,\n",
    "        max_evals=20,\n",
    "        trials=rf_trials\n",
    "    )\n",
    "\n",
    "    # Seleccionar el mejor modelo\n",
    "    gb_rmse = min(trial['result']['loss'] for trial in gb_trials.trials)\n",
    "    rf_rmse = min(trial['result']['loss'] for trial in rf_trials.trials)\n",
    "\n",
    "    if gb_rmse < rf_rmse:\n",
    "        best_model = GradientBoostingRegressor(**best_gb)\n",
    "        best_model_name = \"GradientBoost\"\n",
    "    else:\n",
    "        best_model = RandomForestRegressor(**best_rf)\n",
    "        best_model_name = \"RandomForest\"\n",
    "\n",
    "    # Entrenar el mejor modelo con todos los datos\n",
    "    best_model.fit(X_train, y_train)\n",
    "\n",
    "    # Registrar el mejor modelo\n",
    "    mlflow.sklearn.log_model(best_model, \"nyc-taxi-model\")\n",
    "    \n",
    "    # Asignar el alias 'challenger'\n",
    "    client = mlflow.tracking.MlflowClient()\n",
    "    model_version = client.create_model_version(\"nyc-taxi-model\", f\"runs:/{mlflow.active_run().info.run_id}/nyc-taxi-model\")\n",
    "    client.set_registered_model_alias(\"nyc-taxi-model\", \"challenger\", model_version.version)"
   ]
  },
  {
   "cell_type": "code",
   "execution_count": null,
   "id": "45bf6219fbc9c9bf",
   "metadata": {},
   "outputs": [],
   "source": [
    "import mlflow\n",
    "from mlflow.exceptions import MlflowException\n",
    "from sklearn.metrics import root_mean_squared_error\n",
    "\n",
    "# Función para cargar un modelo de forma segura\n",
    "def safe_load_model(model_name, stage):\n",
    "    try:\n",
    "        return mlflow.sklearn.load_model(f\"models:/{model_name}@{stage}\")\n",
    "    except MlflowException as e:\n",
    "        print(f\"Error loading {stage} model: {e}\")\n",
    "        return None\n",
    "\n",
    "# Evaluar modelos en el conjunto de prueba\n",
    "champion_model = safe_load_model(\"nyc-taxi-model\", \"champion\")\n",
    "challenger_model = safe_load_model(\"nyc-taxi-model\", \"challenger\")\n",
    "\n",
    "if champion_model and challenger_model:\n",
    "    champion_rmse = root_mean_squared_error(y_test, champion_model.predict(X_test))\n",
    "    challenger_rmse = root_mean_squared_error(y_test, challenger_model.predict(X_test))\n",
    "\n",
    "    print(f\"Champion RMSE: {champion_rmse}\")\n",
    "    print(f\"Challenger RMSE: {challenger_rmse}\")\n",
    "\n",
    "    # Decidir si promover el challenger a champion\n",
    "    if challenger_rmse < champion_rmse * 0.95:\n",
    "        print(\"El challenger supera significativamente al champion y debería ser promovido.\")\n",
    "        client.set_registered_model_alias(\"nyc-taxi-model\", \"champion\", model_version.version)\n",
    "    else:\n",
    "        print(\"El challenger no supera significativamente al champion. Mantenemos el champion actual.\")\n",
    "else:\n",
    "    print(\"No se pudieron cargar uno o ambos modelos. Verifica que existan en el Model Registry.\")\n",
    "\n",
    "# Si no hay un modelo champion, podríamos querer promover el challenger automáticamente\n",
    "if not champion_model and challenger_model:\n",
    "    print(\"No existe un modelo champion. Promoviendo el challenger a champion.\")\n",
    "    client.set_registered_model_alias(\"nyc-taxi-model\", \"champion\", model_version.version)\n",
    "\n",
    "# Asegúrate de que el challenger siempre se registre\n",
    "if challenger_model:\n",
    "    client.set_registered_model_alias(\"nyc-taxi-model\", \"challenger\", model_version.version)\n",
    "else:\n",
    "    print(\"No se pudo registrar el modelo challenger. Verifica el proceso de entrenamiento y registro.\")"
   ]
  },
  {
   "cell_type": "code",
   "execution_count": null,
   "id": "75e91d06cc59af0d",
   "metadata": {},
   "outputs": [],
   "source": [
    "# Decidir si promover el challenger a champion\n",
    "if challenger_rmse < champion_rmse * 0.95:\n",
    "    print(\"El challenger supera significativamente al champion y debería ser promovido.\")\n",
    "    client.set_registered_model_alias(\"nyc-taxi-model\", \"champion\", model_version.version)\n",
    "else:\n",
    "    print(\"El challenger no supera significativamente al champion. Mantenemos el champion actual.\")\n"
   ]
  },
  {
   "cell_type": "code",
   "execution_count": null,
   "id": "accc14a48d69e523",
   "metadata": {},
   "outputs": [],
   "source": [
    "# Subir datos a DagsHub\n",
    "s3 = get_repo_bucket_client(\"colome8/nyc-taxi-time-prediction\")\n",
    "\n",
    "s3.upload_file(\n",
    "    Bucket=\"nys-taxi-time-prediction\",\n",
    "    Filename=\"../data/green_tripdata_2024-03.parquet\",\n",
    "    Key=\"test_data.parquet\",\n",
    ")"
   ]
  }
 ],
 "metadata": {
  "kernelspec": {
   "display_name": "venv",
   "language": "python",
   "name": "python3"
  },
  "language_info": {
   "codemirror_mode": {
    "name": "ipython",
    "version": 3
   },
   "file_extension": ".py",
   "mimetype": "text/x-python",
   "name": "python",
   "nbconvert_exporter": "python",
   "pygments_lexer": "ipython3",
   "version": "3.11.8"
  }
 },
 "nbformat": 4,
 "nbformat_minor": 5
}
