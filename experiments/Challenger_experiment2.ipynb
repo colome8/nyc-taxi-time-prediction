{
 "cells": [
  {
   "cell_type": "code",
   "id": "initial_id",
   "metadata": {
    "collapsed": true,
    "ExecuteTime": {
     "end_time": "2024-10-09T01:38:30.495721Z",
     "start_time": "2024-10-09T01:38:30.099124Z"
    }
   },
   "source": [
    "import mlflow\n",
    "import mlflow.sklearn\n",
    "import dagshub\n",
    "import pandas as pd\n",
    "import numpy as np\n",
    "import pickle\n",
    "from sklearn.model_selection import train_test_split\n",
    "from sklearn.metrics import root_mean_squared_error\n",
    "from sklearn.ensemble import GradientBoostingRegressor, RandomForestRegressor\n",
    "from sklearn.feature_extraction import DictVectorizer\n",
    "from hyperopt import fmin, tpe, hp, STATUS_OK, Trials\n",
    "from hyperopt.pyll import scope\n",
    "from mlflow import MlflowClient\n",
    "from datetime import datetime\n",
    "from hyperopt import fmin, tpe, hp, STATUS_OK, Trials\n",
    "from hyperopt.pyll import scope\n",
    "import mlflow\n",
    "from sklearn.ensemble import RandomForestRegressor\n",
    "from sklearn.metrics import root_mean_squared_error\n",
    "from mlflow import MlflowClient\n",
    "\n",
    "\n",
    "# Inicializar DagsHub y MLflow\n",
    "dagshub.init(url=\"https://dagshub.com/JuanPab2009/nys-taxi-time-prediction\", mlflow=True)\n",
    "\n",
    "MLFLOW_TRACKING_URI = mlflow.get_tracking_uri()\n",
    "mlflow.set_tracking_uri(MLFLOW_TRACKING_URI)\n",
    "mlflow.set_experiment(experiment_name=\"nyc-taxi-experiment-challenger\")"
   ],
   "outputs": [
    {
     "data": {
      "text/plain": [
       "Initialized MLflow to track repo \u001B[32m\"JuanPab2009/nys-taxi-time-prediction\"\u001B[0m\n"
      ],
      "text/html": [
       "<pre style=\"white-space:pre;overflow-x:auto;line-height:normal;font-family:Menlo,'DejaVu Sans Mono',consolas,'Courier New',monospace\">Initialized MLflow to track repo <span style=\"color: #008000; text-decoration-color: #008000\">\"JuanPab2009/nys-taxi-time-prediction\"</span>\n",
       "</pre>\n"
      ]
     },
     "metadata": {},
     "output_type": "display_data"
    },
    {
     "data": {
      "text/plain": [
       "Repository JuanPab2009/nys-taxi-time-prediction initialized!\n"
      ],
      "text/html": [
       "<pre style=\"white-space:pre;overflow-x:auto;line-height:normal;font-family:Menlo,'DejaVu Sans Mono',consolas,'Courier New',monospace\">Repository JuanPab2009/nys-taxi-time-prediction initialized!\n",
       "</pre>\n"
      ]
     },
     "metadata": {},
     "output_type": "display_data"
    },
    {
     "data": {
      "text/plain": [
       "<Experiment: artifact_location='mlflow-artifacts:/508414111c7848b9aa19a2969e8ed6c8', creation_time=1728434351137, experiment_id='1', last_update_time=1728434351137, lifecycle_stage='active', name='nyc-taxi-experiment-challenger', tags={}>"
      ]
     },
     "execution_count": 15,
     "metadata": {},
     "output_type": "execute_result"
    }
   ],
   "execution_count": 15
  },
  {
   "metadata": {
    "ExecuteTime": {
     "end_time": "2024-10-09T00:39:39.958439Z",
     "start_time": "2024-10-09T00:39:39.108675Z"
    }
   },
   "cell_type": "code",
   "source": [
    "# Crear el directorio si no existe\n",
    "!mkdir -p ../data\n",
    "\n",
    "# Descargar el archivo de marzo\n",
    "!curl -o ../data/green_tripdata_2024-03.parquet https://d37ci6vzurychx.cloudfront.net/trip-data/green_tripdata_2024-03.parquet"
   ],
   "id": "e90885e1ee7f48c6",
   "outputs": [
    {
     "name": "stdout",
     "output_type": "stream",
     "text": [
      "  % Total    % Received % Xferd  Average Speed   Time    Time     Time  Current\r\n",
      "                                 Dload  Upload   Total   Spent    Left  Speed\r\n",
      "100 1340k  100 1340k    0     0  2281k      0 --:--:-- --:--:-- --:--:-- 2283k\r\n"
     ]
    }
   ],
   "execution_count": 2
  },
  {
   "metadata": {
    "ExecuteTime": {
     "end_time": "2024-10-09T00:39:46.500501Z",
     "start_time": "2024-10-09T00:39:45.066412Z"
    }
   },
   "cell_type": "code",
   "source": [
    "def read_dataframe(filename):\n",
    "    df = pd.read_parquet(filename)\n",
    "    df['duration'] = df.lpep_dropoff_datetime - df.lpep_pickup_datetime\n",
    "    df.duration = df.duration.apply(lambda td: td.total_seconds() / 60)\n",
    "    df = df[(df.duration >= 1) & (df.duration <= 60)]\n",
    "    categorical = ['PULocationID', 'DOLocationID']\n",
    "    df[categorical] = df[categorical].astype(str)\n",
    "    return df\n",
    "\n",
    "# Cargar el nuevo dataset\n",
    "df_marzo = read_dataframe('../data/green_tripdata_2024-03.parquet')\n",
    "\n",
    "# Guardar en MLflow storage\n",
    "training_dataset_marzo = mlflow.data.from_pandas(df_marzo, name=\"green_tripdata_2024-03\")\n",
    "mlflow.log_artifact(\"../data/green_tripdata_2024-03.parquet\", artifact_path=\"data\")"
   ],
   "id": "46e3e22c99364473",
   "outputs": [],
   "execution_count": 3
  },
  {
   "metadata": {
    "ExecuteTime": {
     "end_time": "2024-10-09T00:39:52.572028Z",
     "start_time": "2024-10-09T00:39:52.320621Z"
    }
   },
   "cell_type": "code",
   "source": [
    "# Feature Engineering\n",
    "def feature_engineering(df):\n",
    "    df['PU_DO'] = df['PULocationID'] + '_' + df['DOLocationID']\n",
    "    return df\n",
    "\n",
    "df_train = read_dataframe('../data/green_tripdata_2024-01.parquet')\n",
    "df_val = read_dataframe('../data/green_tripdata_2024-02.parquet')\n",
    "\n",
    "df_train = feature_engineering(df_train)\n",
    "df_val = feature_engineering(df_val)\n",
    "\n",
    "# One Hot Encoding\n",
    "categorical = ['PU_DO']\n",
    "numerical = ['trip_distance']\n",
    "dv = DictVectorizer()\n",
    "\n",
    "train_dicts = df_train[categorical + numerical].to_dict(orient='records')\n",
    "X_train = dv.fit_transform(train_dicts)\n",
    "\n",
    "val_dicts = df_val[categorical + numerical].to_dict(orient='records')\n",
    "X_val = dv.transform(val_dicts)\n",
    "\n",
    "y_train = df_train['duration'].values\n",
    "y_val = df_val['duration'].values"
   ],
   "id": "fa249be3cf886f12",
   "outputs": [],
   "execution_count": 4
  },
  {
   "metadata": {
    "ExecuteTime": {
     "end_time": "2024-10-09T00:39:57.040918Z",
     "start_time": "2024-10-09T00:39:57.038184Z"
    }
   },
   "cell_type": "code",
   "source": [
    "def objective(params, model_type='gb'):\n",
    "    with mlflow.start_run(nested=True):\n",
    "        mlflow.set_tag(\"model_family\", model_type)\n",
    "        mlflow.log_params(params)\n",
    "        \n",
    "        if model_type == 'gb':\n",
    "            model = GradientBoostingRegressor(**params)\n",
    "        elif model_type == 'rf':\n",
    "            model = RandomForestRegressor(**params)\n",
    "        else:\n",
    "            raise ValueError(\"Unsupported model type\")\n",
    "        \n",
    "        model.fit(X_train, y_train)\n",
    "        y_pred = model.predict(X_val)\n",
    "        rmse = root_mean_squared_error(y_val, y_pred)\n",
    "        \n",
    "        mlflow.log_metric(\"rmse\", rmse)\n",
    "        mlflow.sklearn.log_model(model, artifact_path=\"model\")\n",
    "        \n",
    "    return {'loss': rmse, 'status': STATUS_OK}"
   ],
   "id": "294a41119f6c02e3",
   "outputs": [],
   "execution_count": 5
  },
  {
   "metadata": {
    "ExecuteTime": {
     "end_time": "2024-10-09T00:40:01.677036Z",
     "start_time": "2024-10-09T00:40:01.674645Z"
    }
   },
   "cell_type": "code",
   "source": [
    "search_space_gb = {\n",
    "    'n_estimators': scope.int(hp.quniform('n_estimators', 100, 1000, 100)),\n",
    "    'learning_rate': hp.loguniform('learning_rate', -3, 0),\n",
    "    'max_depth': scope.int(hp.quniform('max_depth', 3, 10, 1)),\n",
    "    'min_samples_split': scope.int(hp.quniform('min_samples_split', 2, 10, 1)),\n",
    "    'min_samples_leaf': scope.int(hp.quniform('min_samples_leaf', 1, 4, 1)),\n",
    "    'subsample': hp.uniform('subsample', 0.5, 1.0),\n",
    "    'random_state': 42\n",
    "}"
   ],
   "id": "fd7ef826e6b4f50f",
   "outputs": [],
   "execution_count": 6
  },
  {
   "metadata": {
    "ExecuteTime": {
     "end_time": "2024-10-09T01:39:49.475389Z",
     "start_time": "2024-10-09T01:39:49.471978Z"
    }
   },
   "cell_type": "code",
   "source": [
    "search_space_rf = {\n",
    "    'n_estimators': scope.int(hp.quniform('n_estimators', 100, 1000, 100)),\n",
    "    'max_depth': scope.int(hp.quniform('max_depth', 5, 30, 5)),\n",
    "    'min_samples_split': scope.int(hp.quniform('min_samples_split', 2, 20, 2)),\n",
    "    'min_samples_leaf': scope.int(hp.quniform('min_samples_leaf', 1, 10, 1)),\n",
    "    'max_features': hp.choice('max_features', ['sqrt', 'log2']),\n",
    "    'random_state': 42\n",
    "}"
   ],
   "id": "8af11ffa751d4f24",
   "outputs": [],
   "execution_count": 17
  },
  {
   "metadata": {
    "ExecuteTime": {
     "end_time": "2024-10-09T00:45:45.362014Z",
     "start_time": "2024-10-09T00:40:10.098716Z"
    }
   },
   "cell_type": "code",
   "source": [
    "with mlflow.start_run(run_name=\"GradientBoosting_Hyperopt\", nested=True):\n",
    "    trials_gb = Trials()\n",
    "    best_gb = fmin(\n",
    "        fn=lambda params: objective(params, model_type='gb'),\n",
    "        space=search_space_gb,\n",
    "        algo=tpe.suggest,\n",
    "        max_evals=20,\n",
    "        trials=trials_gb\n",
    "    )\n",
    "    \n",
    "    # Convertir los parámetros óptimos\n",
    "    best_gb['n_estimators'] = int(best_gb['n_estimators'])\n",
    "    best_gb['max_depth'] = int(best_gb['max_depth'])\n",
    "    best_gb['min_samples_split'] = int(best_gb['min_samples_split'])\n",
    "    best_gb['min_samples_leaf'] = int(best_gb['min_samples_leaf'])\n",
    "    best_gb['random_state'] = 42\n",
    "    \n",
    "    mlflow.log_params(best_gb)\n",
    "    \n",
    "    # Entrenar el modelo final\n",
    "    gb_model = GradientBoostingRegressor(**best_gb)\n",
    "    gb_model.fit(X_train, y_train)\n",
    "    y_pred_gb = gb_model.predict(X_val)\n",
    "    rmse_gb = root_mean_squared_error(y_val, y_pred_gb)\n",
    "    mlflow.log_metric(\"rmse_final\", rmse_gb)\n",
    "    mlflow.sklearn.log_model(gb_model, artifact_path=\"gb_model\")"
   ],
   "id": "e57536008ef321e",
   "outputs": [
    {
     "name": "stdout",
     "output_type": "stream",
     "text": [
      "  0%|          | 0/20 [00:00<?, ?trial/s, best loss=?]"
     ]
    },
    {
     "name": "stderr",
     "output_type": "stream",
     "text": [
      "2024/10/08 18:40:26 WARNING mlflow.models.model: Model logged without a signature and input example. Please set `input_example` parameter when logging the model to auto infer the model signature.\n",
      "\n",
      "2024/10/08 18:40:28 INFO mlflow.tracking._tracking_service.client: 🏃 View run salty-doe-263 at: https://dagshub.com/JuanPab2009/nys-taxi-time-prediction.mlflow/#/experiments/1/runs/450500fc3d974a8ead47167cf939736a.\n",
      "\n",
      "2024/10/08 18:40:28 INFO mlflow.tracking._tracking_service.client: 🧪 View experiment at: https://dagshub.com/JuanPab2009/nys-taxi-time-prediction.mlflow/#/experiments/1.\n",
      "\n"
     ]
    },
    {
     "name": "stdout",
     "output_type": "stream",
     "text": [
      "  5%|▌         | 1/20 [00:18<05:58, 18.89s/trial, best loss: 5.193053785948702]"
     ]
    },
    {
     "name": "stderr",
     "output_type": "stream",
     "text": [
      "2024/10/08 18:40:35 WARNING mlflow.models.model: Model logged without a signature and input example. Please set `input_example` parameter when logging the model to auto infer the model signature.\n",
      "\n",
      "2024/10/08 18:40:38 INFO mlflow.tracking._tracking_service.client: 🏃 View run charming-grub-906 at: https://dagshub.com/JuanPab2009/nys-taxi-time-prediction.mlflow/#/experiments/1/runs/adce69ad99e2451dbfd8f2cd50c26f4b.\n",
      "\n",
      "2024/10/08 18:40:38 INFO mlflow.tracking._tracking_service.client: 🧪 View experiment at: https://dagshub.com/JuanPab2009/nys-taxi-time-prediction.mlflow/#/experiments/1.\n",
      "\n"
     ]
    },
    {
     "name": "stdout",
     "output_type": "stream",
     "text": [
      " 10%|█         | 2/20 [00:28<04:00, 13.37s/trial, best loss: 5.193053785948702]"
     ]
    },
    {
     "name": "stderr",
     "output_type": "stream",
     "text": [
      "2024/10/08 18:40:51 WARNING mlflow.models.model: Model logged without a signature and input example. Please set `input_example` parameter when logging the model to auto infer the model signature.\n",
      "\n",
      "2024/10/08 18:40:54 INFO mlflow.tracking._tracking_service.client: 🏃 View run traveling-stoat-970 at: https://dagshub.com/JuanPab2009/nys-taxi-time-prediction.mlflow/#/experiments/1/runs/51af069ae3a64f61bdc4d56e1309ae5a.\n",
      "\n",
      "2024/10/08 18:40:54 INFO mlflow.tracking._tracking_service.client: 🧪 View experiment at: https://dagshub.com/JuanPab2009/nys-taxi-time-prediction.mlflow/#/experiments/1.\n",
      "\n"
     ]
    },
    {
     "name": "stdout",
     "output_type": "stream",
     "text": [
      " 15%|█▌        | 3/20 [00:44<04:07, 14.58s/trial, best loss: 5.193053785948702]"
     ]
    },
    {
     "name": "stderr",
     "output_type": "stream",
     "text": [
      "2024/10/08 18:41:07 WARNING mlflow.models.model: Model logged without a signature and input example. Please set `input_example` parameter when logging the model to auto infer the model signature.\n",
      "\n",
      "2024/10/08 18:41:10 INFO mlflow.tracking._tracking_service.client: 🏃 View run gentle-bee-521 at: https://dagshub.com/JuanPab2009/nys-taxi-time-prediction.mlflow/#/experiments/1/runs/25435a663f4a4cd89b6992d4ad6f0d12.\n",
      "\n",
      "2024/10/08 18:41:10 INFO mlflow.tracking._tracking_service.client: 🧪 View experiment at: https://dagshub.com/JuanPab2009/nys-taxi-time-prediction.mlflow/#/experiments/1.\n",
      "\n"
     ]
    },
    {
     "name": "stdout",
     "output_type": "stream",
     "text": [
      " 20%|██        | 4/20 [01:00<04:01, 15.12s/trial, best loss: 5.193053785948702]"
     ]
    },
    {
     "name": "stderr",
     "output_type": "stream",
     "text": [
      "2024/10/08 18:41:20 WARNING mlflow.models.model: Model logged without a signature and input example. Please set `input_example` parameter when logging the model to auto infer the model signature.\n",
      "\n",
      "2024/10/08 18:41:23 INFO mlflow.tracking._tracking_service.client: 🏃 View run vaunted-ray-379 at: https://dagshub.com/JuanPab2009/nys-taxi-time-prediction.mlflow/#/experiments/1/runs/70d266195e024430a20974c590234705.\n",
      "\n",
      "2024/10/08 18:41:23 INFO mlflow.tracking._tracking_service.client: 🧪 View experiment at: https://dagshub.com/JuanPab2009/nys-taxi-time-prediction.mlflow/#/experiments/1.\n",
      "\n"
     ]
    },
    {
     "name": "stdout",
     "output_type": "stream",
     "text": [
      " 25%|██▌       | 5/20 [01:13<03:34, 14.29s/trial, best loss: 5.193053785948702]"
     ]
    },
    {
     "name": "stderr",
     "output_type": "stream",
     "text": [
      "2024/10/08 18:41:30 WARNING mlflow.models.model: Model logged without a signature and input example. Please set `input_example` parameter when logging the model to auto infer the model signature.\n",
      "\n",
      "2024/10/08 18:41:33 INFO mlflow.tracking._tracking_service.client: 🏃 View run caring-auk-305 at: https://dagshub.com/JuanPab2009/nys-taxi-time-prediction.mlflow/#/experiments/1/runs/afd06602fcad48109c710d34e228c787.\n",
      "\n",
      "2024/10/08 18:41:33 INFO mlflow.tracking._tracking_service.client: 🧪 View experiment at: https://dagshub.com/JuanPab2009/nys-taxi-time-prediction.mlflow/#/experiments/1.\n",
      "\n"
     ]
    },
    {
     "name": "stdout",
     "output_type": "stream",
     "text": [
      " 30%|███       | 6/20 [01:23<03:00, 12.90s/trial, best loss: 5.193053785948702]"
     ]
    },
    {
     "name": "stderr",
     "output_type": "stream",
     "text": [
      "2024/10/08 18:41:54 WARNING mlflow.models.model: Model logged without a signature and input example. Please set `input_example` parameter when logging the model to auto infer the model signature.\n",
      "\n",
      "2024/10/08 18:41:57 INFO mlflow.tracking._tracking_service.client: 🏃 View run whimsical-crow-584 at: https://dagshub.com/JuanPab2009/nys-taxi-time-prediction.mlflow/#/experiments/1/runs/8104992a646243c6898f62feb10c9432.\n",
      "\n",
      "2024/10/08 18:41:57 INFO mlflow.tracking._tracking_service.client: 🧪 View experiment at: https://dagshub.com/JuanPab2009/nys-taxi-time-prediction.mlflow/#/experiments/1.\n",
      "\n"
     ]
    },
    {
     "name": "stdout",
     "output_type": "stream",
     "text": [
      " 35%|███▌      | 7/20 [01:47<03:34, 16.51s/trial, best loss: 5.138932505351716]"
     ]
    },
    {
     "name": "stderr",
     "output_type": "stream",
     "text": [
      "2024/10/08 18:42:09 WARNING mlflow.models.model: Model logged without a signature and input example. Please set `input_example` parameter when logging the model to auto infer the model signature.\n",
      "\n",
      "2024/10/08 18:42:12 INFO mlflow.tracking._tracking_service.client: 🏃 View run gaudy-jay-324 at: https://dagshub.com/JuanPab2009/nys-taxi-time-prediction.mlflow/#/experiments/1/runs/e4847b43dd9e4d88a3397b9e405c9738.\n",
      "\n",
      "2024/10/08 18:42:12 INFO mlflow.tracking._tracking_service.client: 🧪 View experiment at: https://dagshub.com/JuanPab2009/nys-taxi-time-prediction.mlflow/#/experiments/1.\n",
      "\n"
     ]
    },
    {
     "name": "stdout",
     "output_type": "stream",
     "text": [
      " 40%|████      | 8/20 [02:01<03:10, 15.92s/trial, best loss: 5.138932505351716]"
     ]
    },
    {
     "name": "stderr",
     "output_type": "stream",
     "text": [
      "2024/10/08 18:42:16 WARNING mlflow.models.model: Model logged without a signature and input example. Please set `input_example` parameter when logging the model to auto infer the model signature.\n",
      "\n",
      "2024/10/08 18:42:19 INFO mlflow.tracking._tracking_service.client: 🏃 View run caring-sponge-48 at: https://dagshub.com/JuanPab2009/nys-taxi-time-prediction.mlflow/#/experiments/1/runs/13f3702c1db04b86bfc1725469e442a0.\n",
      "\n",
      "2024/10/08 18:42:19 INFO mlflow.tracking._tracking_service.client: 🧪 View experiment at: https://dagshub.com/JuanPab2009/nys-taxi-time-prediction.mlflow/#/experiments/1.\n",
      "\n"
     ]
    },
    {
     "name": "stdout",
     "output_type": "stream",
     "text": [
      " 45%|████▌     | 9/20 [02:09<02:25, 13.25s/trial, best loss: 5.138932505351716]"
     ]
    },
    {
     "name": "stderr",
     "output_type": "stream",
     "text": [
      "2024/10/08 18:42:34 WARNING mlflow.models.model: Model logged without a signature and input example. Please set `input_example` parameter when logging the model to auto infer the model signature.\n",
      "\n",
      "2024/10/08 18:42:37 INFO mlflow.tracking._tracking_service.client: 🏃 View run delightful-fly-964 at: https://dagshub.com/JuanPab2009/nys-taxi-time-prediction.mlflow/#/experiments/1/runs/a6eb099daf2e4c039fb6862ba0cc6e1d.\n",
      "\n",
      "2024/10/08 18:42:37 INFO mlflow.tracking._tracking_service.client: 🧪 View experiment at: https://dagshub.com/JuanPab2009/nys-taxi-time-prediction.mlflow/#/experiments/1.\n",
      "\n"
     ]
    },
    {
     "name": "stdout",
     "output_type": "stream",
     "text": [
      " 50%|█████     | 10/20 [02:27<02:28, 14.81s/trial, best loss: 5.138932505351716]"
     ]
    },
    {
     "name": "stderr",
     "output_type": "stream",
     "text": [
      "2024/10/08 18:42:51 WARNING mlflow.models.model: Model logged without a signature and input example. Please set `input_example` parameter when logging the model to auto infer the model signature.\n",
      "\n",
      "2024/10/08 18:42:54 INFO mlflow.tracking._tracking_service.client: 🏃 View run glamorous-shrew-34 at: https://dagshub.com/JuanPab2009/nys-taxi-time-prediction.mlflow/#/experiments/1/runs/27d4497cf835440e8a19370fc4e168ba.\n",
      "\n",
      "2024/10/08 18:42:54 INFO mlflow.tracking._tracking_service.client: 🧪 View experiment at: https://dagshub.com/JuanPab2009/nys-taxi-time-prediction.mlflow/#/experiments/1.\n",
      "\n"
     ]
    },
    {
     "name": "stdout",
     "output_type": "stream",
     "text": [
      " 55%|█████▌    | 11/20 [02:44<02:17, 15.31s/trial, best loss: 5.138932505351716]"
     ]
    },
    {
     "name": "stderr",
     "output_type": "stream",
     "text": [
      "2024/10/08 18:43:05 WARNING mlflow.models.model: Model logged without a signature and input example. Please set `input_example` parameter when logging the model to auto infer the model signature.\n",
      "\n",
      "2024/10/08 18:43:07 INFO mlflow.tracking._tracking_service.client: 🏃 View run awesome-mole-599 at: https://dagshub.com/JuanPab2009/nys-taxi-time-prediction.mlflow/#/experiments/1/runs/178fb08f735a4058baf343a32fcce26a.\n",
      "\n",
      "2024/10/08 18:43:07 INFO mlflow.tracking._tracking_service.client: 🧪 View experiment at: https://dagshub.com/JuanPab2009/nys-taxi-time-prediction.mlflow/#/experiments/1.\n",
      "\n"
     ]
    },
    {
     "name": "stdout",
     "output_type": "stream",
     "text": [
      " 60%|██████    | 12/20 [02:57<01:58, 14.84s/trial, best loss: 5.138932505351716]"
     ]
    },
    {
     "name": "stderr",
     "output_type": "stream",
     "text": [
      "2024/10/08 18:43:27 WARNING mlflow.models.model: Model logged without a signature and input example. Please set `input_example` parameter when logging the model to auto infer the model signature.\n",
      "\n",
      "2024/10/08 18:43:30 INFO mlflow.tracking._tracking_service.client: 🏃 View run sedate-stoat-656 at: https://dagshub.com/JuanPab2009/nys-taxi-time-prediction.mlflow/#/experiments/1/runs/ad95dcb449824892b079674745f7d331.\n",
      "\n",
      "2024/10/08 18:43:30 INFO mlflow.tracking._tracking_service.client: 🧪 View experiment at: https://dagshub.com/JuanPab2009/nys-taxi-time-prediction.mlflow/#/experiments/1.\n",
      "\n"
     ]
    },
    {
     "name": "stdout",
     "output_type": "stream",
     "text": [
      " 65%|██████▌   | 13/20 [03:20<02:00, 17.19s/trial, best loss: 5.138932505351716]"
     ]
    },
    {
     "name": "stderr",
     "output_type": "stream",
     "text": [
      "2024/10/08 18:43:49 WARNING mlflow.models.model: Model logged without a signature and input example. Please set `input_example` parameter when logging the model to auto infer the model signature.\n",
      "\n",
      "2024/10/08 18:43:52 INFO mlflow.tracking._tracking_service.client: 🏃 View run righteous-sheep-607 at: https://dagshub.com/JuanPab2009/nys-taxi-time-prediction.mlflow/#/experiments/1/runs/ee14b1f05f4b4aa88480e8ec7ab4a0b5.\n",
      "\n",
      "2024/10/08 18:43:52 INFO mlflow.tracking._tracking_service.client: 🧪 View experiment at: https://dagshub.com/JuanPab2009/nys-taxi-time-prediction.mlflow/#/experiments/1.\n",
      "\n"
     ]
    },
    {
     "name": "stdout",
     "output_type": "stream",
     "text": [
      " 70%|███████   | 14/20 [03:42<01:51, 18.62s/trial, best loss: 5.138932505351716]"
     ]
    },
    {
     "name": "stderr",
     "output_type": "stream",
     "text": [
      "2024/10/08 18:44:09 WARNING mlflow.models.model: Model logged without a signature and input example. Please set `input_example` parameter when logging the model to auto infer the model signature.\n",
      "\n",
      "2024/10/08 18:44:11 INFO mlflow.tracking._tracking_service.client: 🏃 View run bedecked-horse-537 at: https://dagshub.com/JuanPab2009/nys-taxi-time-prediction.mlflow/#/experiments/1/runs/de0b0b2687be4700b8383279039fd774.\n",
      "\n",
      "2024/10/08 18:44:11 INFO mlflow.tracking._tracking_service.client: 🧪 View experiment at: https://dagshub.com/JuanPab2009/nys-taxi-time-prediction.mlflow/#/experiments/1.\n",
      "\n"
     ]
    },
    {
     "name": "stdout",
     "output_type": "stream",
     "text": [
      " 75%|███████▌  | 15/20 [04:01<01:34, 18.88s/trial, best loss: 5.138932505351716]"
     ]
    },
    {
     "name": "stderr",
     "output_type": "stream",
     "text": [
      "2024/10/08 18:44:16 WARNING mlflow.models.model: Model logged without a signature and input example. Please set `input_example` parameter when logging the model to auto infer the model signature.\n",
      "\n",
      "2024/10/08 18:44:19 INFO mlflow.tracking._tracking_service.client: 🏃 View run bold-gull-104 at: https://dagshub.com/JuanPab2009/nys-taxi-time-prediction.mlflow/#/experiments/1/runs/f89bfb040ec44be0b16005eac4926550.\n",
      "\n",
      "2024/10/08 18:44:19 INFO mlflow.tracking._tracking_service.client: 🧪 View experiment at: https://dagshub.com/JuanPab2009/nys-taxi-time-prediction.mlflow/#/experiments/1.\n",
      "\n"
     ]
    },
    {
     "name": "stdout",
     "output_type": "stream",
     "text": [
      " 80%|████████  | 16/20 [04:09<01:01, 15.42s/trial, best loss: 5.138932505351716]"
     ]
    },
    {
     "name": "stderr",
     "output_type": "stream",
     "text": [
      "2024/10/08 18:44:31 WARNING mlflow.models.model: Model logged without a signature and input example. Please set `input_example` parameter when logging the model to auto infer the model signature.\n",
      "\n",
      "2024/10/08 18:44:34 INFO mlflow.tracking._tracking_service.client: 🏃 View run abundant-croc-440 at: https://dagshub.com/JuanPab2009/nys-taxi-time-prediction.mlflow/#/experiments/1/runs/e0dfb38da5dd4d68a5947cd55735133d.\n",
      "\n",
      "2024/10/08 18:44:34 INFO mlflow.tracking._tracking_service.client: 🧪 View experiment at: https://dagshub.com/JuanPab2009/nys-taxi-time-prediction.mlflow/#/experiments/1.\n",
      "\n"
     ]
    },
    {
     "name": "stdout",
     "output_type": "stream",
     "text": [
      " 85%|████████▌ | 17/20 [04:24<00:46, 15.42s/trial, best loss: 5.138932505351716]"
     ]
    },
    {
     "name": "stderr",
     "output_type": "stream",
     "text": [
      "2024/10/08 18:44:44 WARNING mlflow.models.model: Model logged without a signature and input example. Please set `input_example` parameter when logging the model to auto infer the model signature.\n",
      "\n",
      "2024/10/08 18:44:47 INFO mlflow.tracking._tracking_service.client: 🏃 View run wise-jay-202 at: https://dagshub.com/JuanPab2009/nys-taxi-time-prediction.mlflow/#/experiments/1/runs/757cbac2dada4c57b944c46cf3db898a.\n",
      "\n",
      "2024/10/08 18:44:47 INFO mlflow.tracking._tracking_service.client: 🧪 View experiment at: https://dagshub.com/JuanPab2009/nys-taxi-time-prediction.mlflow/#/experiments/1.\n",
      "\n"
     ]
    },
    {
     "name": "stdout",
     "output_type": "stream",
     "text": [
      " 90%|█████████ | 18/20 [04:37<00:29, 14.70s/trial, best loss: 5.138932505351716]"
     ]
    },
    {
     "name": "stderr",
     "output_type": "stream",
     "text": [
      "2024/10/08 18:44:54 WARNING mlflow.models.model: Model logged without a signature and input example. Please set `input_example` parameter when logging the model to auto infer the model signature.\n",
      "\n",
      "2024/10/08 18:44:57 INFO mlflow.tracking._tracking_service.client: 🏃 View run melodic-zebra-731 at: https://dagshub.com/JuanPab2009/nys-taxi-time-prediction.mlflow/#/experiments/1/runs/13226cdf306343e2bf4a295be166ba05.\n",
      "\n",
      "2024/10/08 18:44:57 INFO mlflow.tracking._tracking_service.client: 🧪 View experiment at: https://dagshub.com/JuanPab2009/nys-taxi-time-prediction.mlflow/#/experiments/1.\n",
      "\n"
     ]
    },
    {
     "name": "stdout",
     "output_type": "stream",
     "text": [
      " 95%|█████████▌| 19/20 [04:47<00:13, 13.21s/trial, best loss: 5.138932505351716]"
     ]
    },
    {
     "name": "stderr",
     "output_type": "stream",
     "text": [
      "2024/10/08 18:45:18 WARNING mlflow.models.model: Model logged without a signature and input example. Please set `input_example` parameter when logging the model to auto infer the model signature.\n",
      "\n",
      "2024/10/08 18:45:22 INFO mlflow.tracking._tracking_service.client: 🏃 View run thundering-gnat-206 at: https://dagshub.com/JuanPab2009/nys-taxi-time-prediction.mlflow/#/experiments/1/runs/9f1921131c76410db02f3d78b53fdb87.\n",
      "\n",
      "2024/10/08 18:45:22 INFO mlflow.tracking._tracking_service.client: 🧪 View experiment at: https://dagshub.com/JuanPab2009/nys-taxi-time-prediction.mlflow/#/experiments/1.\n",
      "\n"
     ]
    },
    {
     "name": "stdout",
     "output_type": "stream",
     "text": [
      "100%|██████████| 20/20 [05:11<00:00, 15.60s/trial, best loss: 5.138932505351716]\n"
     ]
    },
    {
     "name": "stderr",
     "output_type": "stream",
     "text": [
      "2024/10/08 18:45:42 WARNING mlflow.models.model: Model logged without a signature and input example. Please set `input_example` parameter when logging the model to auto infer the model signature.\n",
      "2024/10/08 18:45:45 INFO mlflow.tracking._tracking_service.client: 🏃 View run GradientBoosting_Hyperopt at: https://dagshub.com/JuanPab2009/nys-taxi-time-prediction.mlflow/#/experiments/1/runs/ed99dc745da54b18b609cac224202bc1.\n",
      "2024/10/08 18:45:45 INFO mlflow.tracking._tracking_service.client: 🧪 View experiment at: https://dagshub.com/JuanPab2009/nys-taxi-time-prediction.mlflow/#/experiments/1.\n"
     ]
    }
   ],
   "execution_count": 8
  },
  {
   "metadata": {
    "ExecuteTime": {
     "end_time": "2024-10-09T01:37:02.038515Z",
     "start_time": "2024-10-09T01:34:06.294011Z"
    }
   },
   "cell_type": "code",
   "source": [
    "with mlflow.start_run(run_name=\"RandomForest_Hyperopt\", nested=True):\n",
    "    trials_rf = Trials()\n",
    "    best_rf = fmin(\n",
    "        fn=lambda params: objective(params, model_type='rf'),\n",
    "        space=search_space_rf,\n",
    "        algo=tpe.suggest,\n",
    "        max_evals=20,\n",
    "        trials=trials_rf\n",
    "    )\n",
    "    \n",
    "    # Convertir los parámetros óptimos\n",
    "    best_rf['n_estimators'] = int(best_rf['n_estimators'])\n",
    "    best_rf['max_depth'] = int(best_rf['max_depth'])\n",
    "    best_rf['min_samples_split'] = int(best_rf['min_samples_split'])\n",
    "    best_rf['min_samples_leaf'] = int(best_rf['min_samples_leaf'])\n",
    "    best_rf['max_features'] = ['auto', 'sqrt', 'log2'][best_rf['max_features']]\n",
    "    best_rf['random_state'] = 42\n",
    "    \n",
    "    mlflow.log_params(best_rf)\n",
    "    \n",
    "    # Entrenar el modelo final\n",
    "    rf_model = RandomForestRegressor(**best_rf)\n",
    "    rf_model.fit(X_train, y_train)\n",
    "    y_pred_rf = rf_model.predict(X_val)\n",
    "    rmse_rf = root_mean_squared_error(y_val, y_pred_rf)\n",
    "    mlflow.log_metric(\"rmse_final\", rmse_rf)\n",
    "    mlflow.sklearn.log_model(rf_model, artifact_path=\"rf_model\")"
   ],
   "id": "504b6969f81a7376",
   "outputs": [
    {
     "name": "stdout",
     "output_type": "stream",
     "text": [
      "  0%|          | 0/20 [00:00<?, ?trial/s, best loss=?]"
     ]
    },
    {
     "name": "stderr",
     "output_type": "stream",
     "text": [
      "2024/10/08 19:34:11 WARNING mlflow.models.model: Model logged without a signature and input example. Please set `input_example` parameter when logging the model to auto infer the model signature.\n",
      "\n",
      "2024/10/08 19:34:14 INFO mlflow.tracking._tracking_service.client: 🏃 View run blushing-gnu-638 at: https://dagshub.com/JuanPab2009/nys-taxi-time-prediction.mlflow/#/experiments/1/runs/03bd95386abb41f6a12ce705fe6280cb.\n",
      "\n",
      "2024/10/08 19:34:14 INFO mlflow.tracking._tracking_service.client: 🧪 View experiment at: https://dagshub.com/JuanPab2009/nys-taxi-time-prediction.mlflow/#/experiments/1.\n",
      "\n"
     ]
    },
    {
     "name": "stdout",
     "output_type": "stream",
     "text": [
      "  5%|▌         | 1/20 [00:08<02:41,  8.50s/trial, best loss: 7.998198875703363]"
     ]
    },
    {
     "name": "stderr",
     "output_type": "stream",
     "text": [
      "2024/10/08 19:34:19 WARNING mlflow.models.model: Model logged without a signature and input example. Please set `input_example` parameter when logging the model to auto infer the model signature.\n",
      "\n",
      "2024/10/08 19:34:22 INFO mlflow.tracking._tracking_service.client: 🏃 View run illustrious-eel-339 at: https://dagshub.com/JuanPab2009/nys-taxi-time-prediction.mlflow/#/experiments/1/runs/845f5ffbd6dd4fb7b6cd697d82373b67.\n",
      "\n",
      "2024/10/08 19:34:22 INFO mlflow.tracking._tracking_service.client: 🧪 View experiment at: https://dagshub.com/JuanPab2009/nys-taxi-time-prediction.mlflow/#/experiments/1.\n",
      "\n"
     ]
    },
    {
     "name": "stdout",
     "output_type": "stream",
     "text": [
      " 10%|█         | 2/20 [00:16<02:27,  8.20s/trial, best loss: 7.998198875703363]"
     ]
    },
    {
     "name": "stderr",
     "output_type": "stream",
     "text": [
      "2024/10/08 19:34:31 WARNING mlflow.models.model: Model logged without a signature and input example. Please set `input_example` parameter when logging the model to auto infer the model signature.\n",
      "\n",
      "2024/10/08 19:34:35 INFO mlflow.tracking._tracking_service.client: 🏃 View run stately-hound-852 at: https://dagshub.com/JuanPab2009/nys-taxi-time-prediction.mlflow/#/experiments/1/runs/07f3aa727b6b4488b3bf1c2fc8df8fe4.\n",
      "\n",
      "2024/10/08 19:34:35 INFO mlflow.tracking._tracking_service.client: 🧪 View experiment at: https://dagshub.com/JuanPab2009/nys-taxi-time-prediction.mlflow/#/experiments/1.\n",
      "\n"
     ]
    },
    {
     "name": "stdout",
     "output_type": "stream",
     "text": [
      " 15%|█▌        | 3/20 [00:28<02:51, 10.11s/trial, best loss: 7.620519328718083]"
     ]
    },
    {
     "name": "stderr",
     "output_type": "stream",
     "text": [
      "2024/10/08 19:34:37 WARNING mlflow.models.model: Model logged without a signature and input example. Please set `input_example` parameter when logging the model to auto infer the model signature.\n",
      "\n",
      "2024/10/08 19:34:40 INFO mlflow.tracking._tracking_service.client: 🏃 View run stately-sloth-723 at: https://dagshub.com/JuanPab2009/nys-taxi-time-prediction.mlflow/#/experiments/1/runs/d16e0a70329a4cdfaeb675931f8427ee.\n",
      "\n",
      "2024/10/08 19:34:40 INFO mlflow.tracking._tracking_service.client: 🧪 View experiment at: https://dagshub.com/JuanPab2009/nys-taxi-time-prediction.mlflow/#/experiments/1.\n",
      "\n"
     ]
    },
    {
     "name": "stdout",
     "output_type": "stream",
     "text": [
      " 20%|██        | 4/20 [00:33<02:10,  8.13s/trial, best loss: 7.620519328718083]"
     ]
    },
    {
     "name": "stderr",
     "output_type": "stream",
     "text": [
      "2024/10/08 19:34:43 WARNING mlflow.models.model: Model logged without a signature and input example. Please set `input_example` parameter when logging the model to auto infer the model signature.\n",
      "\n",
      "2024/10/08 19:34:46 INFO mlflow.tracking._tracking_service.client: 🏃 View run dapper-grub-171 at: https://dagshub.com/JuanPab2009/nys-taxi-time-prediction.mlflow/#/experiments/1/runs/8b8343bce791470492c990480e19d21d.\n",
      "\n",
      "2024/10/08 19:34:46 INFO mlflow.tracking._tracking_service.client: 🧪 View experiment at: https://dagshub.com/JuanPab2009/nys-taxi-time-prediction.mlflow/#/experiments/1.\n",
      "\n"
     ]
    },
    {
     "name": "stdout",
     "output_type": "stream",
     "text": [
      " 25%|██▌       | 5/20 [00:40<01:53,  7.55s/trial, best loss: 7.620519328718083]"
     ]
    },
    {
     "name": "stderr",
     "output_type": "stream",
     "text": [
      "2024/10/08 19:34:51 WARNING mlflow.models.model: Model logged without a signature and input example. Please set `input_example` parameter when logging the model to auto infer the model signature.\n",
      "\n",
      "2024/10/08 19:34:54 INFO mlflow.tracking._tracking_service.client: 🏃 View run flawless-midge-715 at: https://dagshub.com/JuanPab2009/nys-taxi-time-prediction.mlflow/#/experiments/1/runs/bac9baf2724046e0ae98eb25e9f42828.\n",
      "\n",
      "2024/10/08 19:34:54 INFO mlflow.tracking._tracking_service.client: 🧪 View experiment at: https://dagshub.com/JuanPab2009/nys-taxi-time-prediction.mlflow/#/experiments/1.\n",
      "\n"
     ]
    },
    {
     "name": "stdout",
     "output_type": "stream",
     "text": [
      " 30%|███       | 6/20 [00:47<01:44,  7.49s/trial, best loss: 7.620519328718083]"
     ]
    },
    {
     "name": "stderr",
     "output_type": "stream",
     "text": [
      "2024/10/08 19:35:01 WARNING mlflow.models.model: Model logged without a signature and input example. Please set `input_example` parameter when logging the model to auto infer the model signature.\n",
      "\n",
      "2024/10/08 19:35:04 INFO mlflow.tracking._tracking_service.client: 🏃 View run melodic-steed-563 at: https://dagshub.com/JuanPab2009/nys-taxi-time-prediction.mlflow/#/experiments/1/runs/621a1efd4f0f40d18dec60889a585dcb.\n",
      "\n",
      "2024/10/08 19:35:04 INFO mlflow.tracking._tracking_service.client: 🧪 View experiment at: https://dagshub.com/JuanPab2009/nys-taxi-time-prediction.mlflow/#/experiments/1.\n",
      "\n"
     ]
    },
    {
     "name": "stdout",
     "output_type": "stream",
     "text": [
      " 35%|███▌      | 7/20 [00:57<01:48,  8.35s/trial, best loss: 7.620519328718083]"
     ]
    },
    {
     "name": "stderr",
     "output_type": "stream",
     "text": [
      "2024/10/08 19:35:11 WARNING mlflow.models.model: Model logged without a signature and input example. Please set `input_example` parameter when logging the model to auto infer the model signature.\n",
      "\n",
      "2024/10/08 19:35:14 INFO mlflow.tracking._tracking_service.client: 🏃 View run able-horse-213 at: https://dagshub.com/JuanPab2009/nys-taxi-time-prediction.mlflow/#/experiments/1/runs/16d328e426fe451ca18e5577b05af400.\n",
      "\n",
      "2024/10/08 19:35:14 INFO mlflow.tracking._tracking_service.client: 🧪 View experiment at: https://dagshub.com/JuanPab2009/nys-taxi-time-prediction.mlflow/#/experiments/1.\n",
      "\n"
     ]
    },
    {
     "name": "stdout",
     "output_type": "stream",
     "text": [
      " 40%|████      | 8/20 [01:08<01:47,  8.98s/trial, best loss: 7.620519328718083]"
     ]
    },
    {
     "name": "stderr",
     "output_type": "stream",
     "text": [
      "2024/10/08 19:35:25 WARNING mlflow.models.model: Model logged without a signature and input example. Please set `input_example` parameter when logging the model to auto infer the model signature.\n",
      "\n",
      "2024/10/08 19:35:29 INFO mlflow.tracking._tracking_service.client: 🏃 View run angry-dolphin-69 at: https://dagshub.com/JuanPab2009/nys-taxi-time-prediction.mlflow/#/experiments/1/runs/b509a1801a074dd19cf15dbe2300dfed.\n",
      "\n",
      "2024/10/08 19:35:29 INFO mlflow.tracking._tracking_service.client: 🧪 View experiment at: https://dagshub.com/JuanPab2009/nys-taxi-time-prediction.mlflow/#/experiments/1.\n",
      "\n"
     ]
    },
    {
     "name": "stdout",
     "output_type": "stream",
     "text": [
      " 45%|████▌     | 9/20 [01:23<01:58, 10.78s/trial, best loss: 7.587753344825549]"
     ]
    },
    {
     "name": "stderr",
     "output_type": "stream",
     "text": [
      "2024/10/08 19:35:32 WARNING mlflow.models.model: Model logged without a signature and input example. Please set `input_example` parameter when logging the model to auto infer the model signature.\n",
      "\n",
      "2024/10/08 19:35:35 INFO mlflow.tracking._tracking_service.client: 🏃 View run wise-foal-40 at: https://dagshub.com/JuanPab2009/nys-taxi-time-prediction.mlflow/#/experiments/1/runs/1f81f3dde26149f8870f7e6e544132f7.\n",
      "\n",
      "2024/10/08 19:35:35 INFO mlflow.tracking._tracking_service.client: 🧪 View experiment at: https://dagshub.com/JuanPab2009/nys-taxi-time-prediction.mlflow/#/experiments/1.\n",
      "\n"
     ]
    },
    {
     "name": "stdout",
     "output_type": "stream",
     "text": [
      " 50%|█████     | 10/20 [01:28<01:32,  9.26s/trial, best loss: 7.587753344825549]"
     ]
    },
    {
     "name": "stderr",
     "output_type": "stream",
     "text": [
      "2024/10/08 19:35:47 WARNING mlflow.models.model: Model logged without a signature and input example. Please set `input_example` parameter when logging the model to auto infer the model signature.\n",
      "\n",
      "2024/10/08 19:35:50 INFO mlflow.tracking._tracking_service.client: 🏃 View run efficient-fish-84 at: https://dagshub.com/JuanPab2009/nys-taxi-time-prediction.mlflow/#/experiments/1/runs/4fe733d967c24866a4a951c52da50831.\n",
      "\n",
      "2024/10/08 19:35:50 INFO mlflow.tracking._tracking_service.client: 🧪 View experiment at: https://dagshub.com/JuanPab2009/nys-taxi-time-prediction.mlflow/#/experiments/1.\n",
      "\n"
     ]
    },
    {
     "name": "stdout",
     "output_type": "stream",
     "text": [
      " 55%|█████▌    | 11/20 [01:44<01:40, 11.12s/trial, best loss: 7.587753344825549]"
     ]
    },
    {
     "name": "stderr",
     "output_type": "stream",
     "text": [
      "2024/10/08 19:35:53 WARNING mlflow.models.model: Model logged without a signature and input example. Please set `input_example` parameter when logging the model to auto infer the model signature.\n",
      "\n",
      "2024/10/08 19:35:56 INFO mlflow.tracking._tracking_service.client: 🏃 View run unique-dove-350 at: https://dagshub.com/JuanPab2009/nys-taxi-time-prediction.mlflow/#/experiments/1/runs/916b053327fd4a8ba67adb96736e9f88.\n",
      "\n",
      "2024/10/08 19:35:56 INFO mlflow.tracking._tracking_service.client: 🧪 View experiment at: https://dagshub.com/JuanPab2009/nys-taxi-time-prediction.mlflow/#/experiments/1.\n",
      "\n"
     ]
    },
    {
     "name": "stdout",
     "output_type": "stream",
     "text": [
      " 60%|██████    | 12/20 [01:49<01:15,  9.42s/trial, best loss: 7.587753344825549]"
     ]
    },
    {
     "name": "stderr",
     "output_type": "stream",
     "text": [
      "2024/10/08 19:35:59 WARNING mlflow.models.model: Model logged without a signature and input example. Please set `input_example` parameter when logging the model to auto infer the model signature.\n",
      "\n",
      "2024/10/08 19:36:02 INFO mlflow.tracking._tracking_service.client: 🏃 View run powerful-ox-759 at: https://dagshub.com/JuanPab2009/nys-taxi-time-prediction.mlflow/#/experiments/1/runs/901b9e76d382445a959ed50fbdb06ef9.\n",
      "\n",
      "2024/10/08 19:36:02 INFO mlflow.tracking._tracking_service.client: 🧪 View experiment at: https://dagshub.com/JuanPab2009/nys-taxi-time-prediction.mlflow/#/experiments/1.\n",
      "\n"
     ]
    },
    {
     "name": "stdout",
     "output_type": "stream",
     "text": [
      " 65%|██████▌   | 13/20 [01:56<00:59,  8.55s/trial, best loss: 7.587753344825549]"
     ]
    },
    {
     "name": "stderr",
     "output_type": "stream",
     "text": [
      "2024/10/08 19:36:06 WARNING mlflow.models.model: Model logged without a signature and input example. Please set `input_example` parameter when logging the model to auto infer the model signature.\n",
      "\n",
      "2024/10/08 19:36:08 INFO mlflow.tracking._tracking_service.client: 🏃 View run capable-squirrel-764 at: https://dagshub.com/JuanPab2009/nys-taxi-time-prediction.mlflow/#/experiments/1/runs/0219b269cffd487cba45e9745407624f.\n",
      "\n",
      "2024/10/08 19:36:08 INFO mlflow.tracking._tracking_service.client: 🧪 View experiment at: https://dagshub.com/JuanPab2009/nys-taxi-time-prediction.mlflow/#/experiments/1.\n",
      "\n"
     ]
    },
    {
     "name": "stdout",
     "output_type": "stream",
     "text": [
      " 70%|███████   | 14/20 [02:02<00:47,  7.88s/trial, best loss: 7.587753344825549]"
     ]
    },
    {
     "name": "stderr",
     "output_type": "stream",
     "text": [
      "2024/10/08 19:36:11 WARNING mlflow.models.model: Model logged without a signature and input example. Please set `input_example` parameter when logging the model to auto infer the model signature.\n",
      "\n",
      "2024/10/08 19:36:14 INFO mlflow.tracking._tracking_service.client: 🏃 View run salty-sheep-714 at: https://dagshub.com/JuanPab2009/nys-taxi-time-prediction.mlflow/#/experiments/1/runs/0ec92772603d414bbddfede0b8181120.\n",
      "\n",
      "2024/10/08 19:36:14 INFO mlflow.tracking._tracking_service.client: 🧪 View experiment at: https://dagshub.com/JuanPab2009/nys-taxi-time-prediction.mlflow/#/experiments/1.\n",
      "\n"
     ]
    },
    {
     "name": "stdout",
     "output_type": "stream",
     "text": [
      " 75%|███████▌  | 15/20 [02:08<00:35,  7.15s/trial, best loss: 7.587753344825549]"
     ]
    },
    {
     "name": "stderr",
     "output_type": "stream",
     "text": [
      "2024/10/08 19:36:17 WARNING mlflow.models.model: Model logged without a signature and input example. Please set `input_example` parameter when logging the model to auto infer the model signature.\n",
      "\n",
      "2024/10/08 19:36:20 INFO mlflow.tracking._tracking_service.client: 🏃 View run bustling-cub-674 at: https://dagshub.com/JuanPab2009/nys-taxi-time-prediction.mlflow/#/experiments/1/runs/63d34b6946e04854894e8f1215f46a3d.\n",
      "\n",
      "2024/10/08 19:36:20 INFO mlflow.tracking._tracking_service.client: 🧪 View experiment at: https://dagshub.com/JuanPab2009/nys-taxi-time-prediction.mlflow/#/experiments/1.\n",
      "\n"
     ]
    },
    {
     "name": "stdout",
     "output_type": "stream",
     "text": [
      " 80%|████████  | 16/20 [02:13<00:27,  6.75s/trial, best loss: 7.587753344825549]"
     ]
    },
    {
     "name": "stderr",
     "output_type": "stream",
     "text": [
      "2024/10/08 19:36:25 WARNING mlflow.models.model: Model logged without a signature and input example. Please set `input_example` parameter when logging the model to auto infer the model signature.\n",
      "\n",
      "2024/10/08 19:36:28 INFO mlflow.tracking._tracking_service.client: 🏃 View run burly-midge-674 at: https://dagshub.com/JuanPab2009/nys-taxi-time-prediction.mlflow/#/experiments/1/runs/da8baf5d6c164375a20e0e396ab3a82f.\n",
      "\n",
      "2024/10/08 19:36:28 INFO mlflow.tracking._tracking_service.client: 🧪 View experiment at: https://dagshub.com/JuanPab2009/nys-taxi-time-prediction.mlflow/#/experiments/1.\n",
      "\n"
     ]
    },
    {
     "name": "stdout",
     "output_type": "stream",
     "text": [
      " 85%|████████▌ | 17/20 [02:22<00:21,  7.16s/trial, best loss: 7.587753344825549]"
     ]
    },
    {
     "name": "stderr",
     "output_type": "stream",
     "text": [
      "2024/10/08 19:36:31 WARNING mlflow.models.model: Model logged without a signature and input example. Please set `input_example` parameter when logging the model to auto infer the model signature.\n",
      "\n",
      "2024/10/08 19:36:33 INFO mlflow.tracking._tracking_service.client: 🏃 View run secretive-flea-78 at: https://dagshub.com/JuanPab2009/nys-taxi-time-prediction.mlflow/#/experiments/1/runs/f97e1405799840db9ca82d13f8fcbc9a.\n",
      "\n",
      "2024/10/08 19:36:33 INFO mlflow.tracking._tracking_service.client: 🧪 View experiment at: https://dagshub.com/JuanPab2009/nys-taxi-time-prediction.mlflow/#/experiments/1.\n",
      "\n"
     ]
    },
    {
     "name": "stdout",
     "output_type": "stream",
     "text": [
      " 90%|█████████ | 18/20 [02:27<00:13,  6.70s/trial, best loss: 7.587753344825549]"
     ]
    },
    {
     "name": "stderr",
     "output_type": "stream",
     "text": [
      "2024/10/08 19:36:50 WARNING mlflow.models.model: Model logged without a signature and input example. Please set `input_example` parameter when logging the model to auto infer the model signature.\n",
      "\n",
      "2024/10/08 19:36:54 INFO mlflow.tracking._tracking_service.client: 🏃 View run bald-crow-814 at: https://dagshub.com/JuanPab2009/nys-taxi-time-prediction.mlflow/#/experiments/1/runs/cea8b73c99b44cfdabebd84ed1cf41c5.\n",
      "\n",
      "2024/10/08 19:36:54 INFO mlflow.tracking._tracking_service.client: 🧪 View experiment at: https://dagshub.com/JuanPab2009/nys-taxi-time-prediction.mlflow/#/experiments/1.\n",
      "\n"
     ]
    },
    {
     "name": "stdout",
     "output_type": "stream",
     "text": [
      " 95%|█████████▌| 19/20 [02:48<00:10, 10.96s/trial, best loss: 7.537639066755954]"
     ]
    },
    {
     "name": "stderr",
     "output_type": "stream",
     "text": [
      "2024/10/08 19:36:58 WARNING mlflow.models.model: Model logged without a signature and input example. Please set `input_example` parameter when logging the model to auto infer the model signature.\n",
      "\n",
      "2024/10/08 19:37:01 INFO mlflow.tracking._tracking_service.client: 🏃 View run valuable-gnat-27 at: https://dagshub.com/JuanPab2009/nys-taxi-time-prediction.mlflow/#/experiments/1/runs/ef312375951c47569d5727913ca4e31e.\n",
      "\n",
      "2024/10/08 19:37:01 INFO mlflow.tracking._tracking_service.client: 🧪 View experiment at: https://dagshub.com/JuanPab2009/nys-taxi-time-prediction.mlflow/#/experiments/1.\n",
      "\n"
     ]
    },
    {
     "name": "stdout",
     "output_type": "stream",
     "text": [
      "100%|██████████| 20/20 [02:54<00:00,  8.75s/trial, best loss: 7.537639066755954]\n"
     ]
    },
    {
     "name": "stderr",
     "output_type": "stream",
     "text": [
      "2024/10/08 19:37:01 INFO mlflow.tracking._tracking_service.client: 🏃 View run RandomForest_Hyperopt at: https://dagshub.com/JuanPab2009/nys-taxi-time-prediction.mlflow/#/experiments/1/runs/989a9d704c5a4d11ba9fe3fed3bc5bc8.\n",
      "2024/10/08 19:37:01 INFO mlflow.tracking._tracking_service.client: 🧪 View experiment at: https://dagshub.com/JuanPab2009/nys-taxi-time-prediction.mlflow/#/experiments/1.\n"
     ]
    },
    {
     "ename": "InvalidParameterError",
     "evalue": "The 'max_features' parameter of RandomForestRegressor must be an int in the range [1, inf), a float in the range (0.0, 1.0], a str among {'sqrt', 'log2'} or None. Got 'auto' instead.",
     "output_type": "error",
     "traceback": [
      "\u001B[0;31m---------------------------------------------------------------------------\u001B[0m",
      "\u001B[0;31mInvalidParameterError\u001B[0m                     Traceback (most recent call last)",
      "Cell \u001B[0;32mIn[13], line 23\u001B[0m\n\u001B[1;32m     21\u001B[0m \u001B[38;5;66;03m# Entrenar el modelo final\u001B[39;00m\n\u001B[1;32m     22\u001B[0m rf_model \u001B[38;5;241m=\u001B[39m RandomForestRegressor(\u001B[38;5;241m*\u001B[39m\u001B[38;5;241m*\u001B[39mbest_rf)\n\u001B[0;32m---> 23\u001B[0m \u001B[43mrf_model\u001B[49m\u001B[38;5;241;43m.\u001B[39;49m\u001B[43mfit\u001B[49m\u001B[43m(\u001B[49m\u001B[43mX_train\u001B[49m\u001B[43m,\u001B[49m\u001B[43m \u001B[49m\u001B[43my_train\u001B[49m\u001B[43m)\u001B[49m\n\u001B[1;32m     24\u001B[0m y_pred_rf \u001B[38;5;241m=\u001B[39m rf_model\u001B[38;5;241m.\u001B[39mpredict(X_val)\n\u001B[1;32m     25\u001B[0m rmse_rf \u001B[38;5;241m=\u001B[39m root_mean_squared_error(y_val, y_pred_rf)\n",
      "File \u001B[0;32m~/Documents/nys-taxi-time-prediction/.venv/lib/python3.11/site-packages/sklearn/base.py:1466\u001B[0m, in \u001B[0;36m_fit_context.<locals>.decorator.<locals>.wrapper\u001B[0;34m(estimator, *args, **kwargs)\u001B[0m\n\u001B[1;32m   1461\u001B[0m partial_fit_and_fitted \u001B[38;5;241m=\u001B[39m (\n\u001B[1;32m   1462\u001B[0m     fit_method\u001B[38;5;241m.\u001B[39m\u001B[38;5;18m__name__\u001B[39m \u001B[38;5;241m==\u001B[39m \u001B[38;5;124m\"\u001B[39m\u001B[38;5;124mpartial_fit\u001B[39m\u001B[38;5;124m\"\u001B[39m \u001B[38;5;129;01mand\u001B[39;00m _is_fitted(estimator)\n\u001B[1;32m   1463\u001B[0m )\n\u001B[1;32m   1465\u001B[0m \u001B[38;5;28;01mif\u001B[39;00m \u001B[38;5;129;01mnot\u001B[39;00m global_skip_validation \u001B[38;5;129;01mand\u001B[39;00m \u001B[38;5;129;01mnot\u001B[39;00m partial_fit_and_fitted:\n\u001B[0;32m-> 1466\u001B[0m     \u001B[43mestimator\u001B[49m\u001B[38;5;241;43m.\u001B[39;49m\u001B[43m_validate_params\u001B[49m\u001B[43m(\u001B[49m\u001B[43m)\u001B[49m\n\u001B[1;32m   1468\u001B[0m \u001B[38;5;28;01mwith\u001B[39;00m config_context(\n\u001B[1;32m   1469\u001B[0m     skip_parameter_validation\u001B[38;5;241m=\u001B[39m(\n\u001B[1;32m   1470\u001B[0m         prefer_skip_nested_validation \u001B[38;5;129;01mor\u001B[39;00m global_skip_validation\n\u001B[1;32m   1471\u001B[0m     )\n\u001B[1;32m   1472\u001B[0m ):\n\u001B[1;32m   1473\u001B[0m     \u001B[38;5;28;01mreturn\u001B[39;00m fit_method(estimator, \u001B[38;5;241m*\u001B[39margs, \u001B[38;5;241m*\u001B[39m\u001B[38;5;241m*\u001B[39mkwargs)\n",
      "File \u001B[0;32m~/Documents/nys-taxi-time-prediction/.venv/lib/python3.11/site-packages/sklearn/base.py:666\u001B[0m, in \u001B[0;36mBaseEstimator._validate_params\u001B[0;34m(self)\u001B[0m\n\u001B[1;32m    658\u001B[0m \u001B[38;5;28;01mdef\u001B[39;00m \u001B[38;5;21m_validate_params\u001B[39m(\u001B[38;5;28mself\u001B[39m):\n\u001B[1;32m    659\u001B[0m \u001B[38;5;250m    \u001B[39m\u001B[38;5;124;03m\"\"\"Validate types and values of constructor parameters\u001B[39;00m\n\u001B[1;32m    660\u001B[0m \n\u001B[1;32m    661\u001B[0m \u001B[38;5;124;03m    The expected type and values must be defined in the `_parameter_constraints`\u001B[39;00m\n\u001B[0;32m   (...)\u001B[0m\n\u001B[1;32m    664\u001B[0m \u001B[38;5;124;03m    accepted constraints.\u001B[39;00m\n\u001B[1;32m    665\u001B[0m \u001B[38;5;124;03m    \"\"\"\u001B[39;00m\n\u001B[0;32m--> 666\u001B[0m     \u001B[43mvalidate_parameter_constraints\u001B[49m\u001B[43m(\u001B[49m\n\u001B[1;32m    667\u001B[0m \u001B[43m        \u001B[49m\u001B[38;5;28;43mself\u001B[39;49m\u001B[38;5;241;43m.\u001B[39;49m\u001B[43m_parameter_constraints\u001B[49m\u001B[43m,\u001B[49m\n\u001B[1;32m    668\u001B[0m \u001B[43m        \u001B[49m\u001B[38;5;28;43mself\u001B[39;49m\u001B[38;5;241;43m.\u001B[39;49m\u001B[43mget_params\u001B[49m\u001B[43m(\u001B[49m\u001B[43mdeep\u001B[49m\u001B[38;5;241;43m=\u001B[39;49m\u001B[38;5;28;43;01mFalse\u001B[39;49;00m\u001B[43m)\u001B[49m\u001B[43m,\u001B[49m\n\u001B[1;32m    669\u001B[0m \u001B[43m        \u001B[49m\u001B[43mcaller_name\u001B[49m\u001B[38;5;241;43m=\u001B[39;49m\u001B[38;5;28;43mself\u001B[39;49m\u001B[38;5;241;43m.\u001B[39;49m\u001B[38;5;18;43m__class__\u001B[39;49m\u001B[38;5;241;43m.\u001B[39;49m\u001B[38;5;18;43m__name__\u001B[39;49m\u001B[43m,\u001B[49m\n\u001B[1;32m    670\u001B[0m \u001B[43m    \u001B[49m\u001B[43m)\u001B[49m\n",
      "File \u001B[0;32m~/Documents/nys-taxi-time-prediction/.venv/lib/python3.11/site-packages/sklearn/utils/_param_validation.py:95\u001B[0m, in \u001B[0;36mvalidate_parameter_constraints\u001B[0;34m(parameter_constraints, params, caller_name)\u001B[0m\n\u001B[1;32m     89\u001B[0m \u001B[38;5;28;01melse\u001B[39;00m:\n\u001B[1;32m     90\u001B[0m     constraints_str \u001B[38;5;241m=\u001B[39m (\n\u001B[1;32m     91\u001B[0m         \u001B[38;5;124mf\u001B[39m\u001B[38;5;124m\"\u001B[39m\u001B[38;5;132;01m{\u001B[39;00m\u001B[38;5;124m'\u001B[39m\u001B[38;5;124m, \u001B[39m\u001B[38;5;124m'\u001B[39m\u001B[38;5;241m.\u001B[39mjoin([\u001B[38;5;28mstr\u001B[39m(c)\u001B[38;5;250m \u001B[39m\u001B[38;5;28;01mfor\u001B[39;00m\u001B[38;5;250m \u001B[39mc\u001B[38;5;250m \u001B[39m\u001B[38;5;129;01min\u001B[39;00m\u001B[38;5;250m \u001B[39mconstraints[:\u001B[38;5;241m-\u001B[39m\u001B[38;5;241m1\u001B[39m]])\u001B[38;5;132;01m}\u001B[39;00m\u001B[38;5;124m or\u001B[39m\u001B[38;5;124m\"\u001B[39m\n\u001B[1;32m     92\u001B[0m         \u001B[38;5;124mf\u001B[39m\u001B[38;5;124m\"\u001B[39m\u001B[38;5;124m \u001B[39m\u001B[38;5;132;01m{\u001B[39;00mconstraints[\u001B[38;5;241m-\u001B[39m\u001B[38;5;241m1\u001B[39m]\u001B[38;5;132;01m}\u001B[39;00m\u001B[38;5;124m\"\u001B[39m\n\u001B[1;32m     93\u001B[0m     )\n\u001B[0;32m---> 95\u001B[0m \u001B[38;5;28;01mraise\u001B[39;00m InvalidParameterError(\n\u001B[1;32m     96\u001B[0m     \u001B[38;5;124mf\u001B[39m\u001B[38;5;124m\"\u001B[39m\u001B[38;5;124mThe \u001B[39m\u001B[38;5;132;01m{\u001B[39;00mparam_name\u001B[38;5;132;01m!r}\u001B[39;00m\u001B[38;5;124m parameter of \u001B[39m\u001B[38;5;132;01m{\u001B[39;00mcaller_name\u001B[38;5;132;01m}\u001B[39;00m\u001B[38;5;124m must be\u001B[39m\u001B[38;5;124m\"\u001B[39m\n\u001B[1;32m     97\u001B[0m     \u001B[38;5;124mf\u001B[39m\u001B[38;5;124m\"\u001B[39m\u001B[38;5;124m \u001B[39m\u001B[38;5;132;01m{\u001B[39;00mconstraints_str\u001B[38;5;132;01m}\u001B[39;00m\u001B[38;5;124m. Got \u001B[39m\u001B[38;5;132;01m{\u001B[39;00mparam_val\u001B[38;5;132;01m!r}\u001B[39;00m\u001B[38;5;124m instead.\u001B[39m\u001B[38;5;124m\"\u001B[39m\n\u001B[1;32m     98\u001B[0m )\n",
      "\u001B[0;31mInvalidParameterError\u001B[0m: The 'max_features' parameter of RandomForestRegressor must be an int in the range [1, inf), a float in the range (0.0, 1.0], a str among {'sqrt', 'log2'} or None. Got 'auto' instead."
     ]
    }
   ],
   "execution_count": 13
  },
  {
   "metadata": {
    "ExecuteTime": {
     "end_time": "2024-10-09T01:42:16.921112Z",
     "start_time": "2024-10-09T01:42:16.074384Z"
    }
   },
   "cell_type": "code",
   "source": [
    "from mlflow.tracking import MlflowClient\n",
    "from mlflow.entities import ViewType\n",
    "\n",
    "# Inicializar el cliente de MLflow\n",
    "client = MlflowClient(tracking_uri=MLFLOW_TRACKING_URI)\n",
    "\n",
    "# Nombre del experimento\n",
    "experiment_name = \"nyc-taxi-experiment-challenger\"\n",
    "\n",
    "# Obtener el experimento\n",
    "experiment = client.get_experiment_by_name(experiment_name)\n",
    "\n",
    "if not experiment:\n",
    "    print(f\"El experimento '{experiment_name}' no existe.\")\n",
    "else:\n",
    "    print(f\"Experiment ID: {experiment.experiment_id}\")\n",
    "    \n",
    "    # Buscar runs principales (sin parent_id)\n",
    "    runs = client.search_runs(\n",
    "        experiment_ids=experiment.experiment_id,\n",
    "        filter_string=\"\",\n",
    "        run_view_type=ViewType.ACTIVE_ONLY,\n",
    "        max_results=1000\n",
    "    )\n",
    "    \n",
    "    # Filtrar runs que no tienen parent_id y tienen 'rmse_final'\n",
    "    primary_runs = [\n",
    "        run for run in runs \n",
    "        if run.info.parent_run_id is None and 'rmse_final' in run.data.metrics\n",
    "    ]\n",
    "    \n",
    "    if not primary_runs:\n",
    "        print(\"No hay runs principales con la métrica 'rmse_final'.\")\n",
    "    else:\n",
    "        # Encontrar el run con el menor RMSE\n",
    "        best_run = min(primary_runs, key=lambda run: run.data.metrics[\"rmse_final\"])\n",
    "        best_run_id = best_run.info.run_id\n",
    "        best_model_uri = f\"runs:/{best_run_id}/model\"\n",
    "        \n",
    "        print(f\"El mejor run ID es: {best_run_id} con rmse_final: {best_run.data.metrics['rmse_final']}\")\n",
    "        print(f\"Modelo registrado en: {best_model_uri}\")"
   ],
   "id": "54f5506d0a8be016",
   "outputs": [
    {
     "name": "stdout",
     "output_type": "stream",
     "text": [
      "Experiment ID: 1\n"
     ]
    },
    {
     "ename": "AttributeError",
     "evalue": "'RunInfo' object has no attribute 'parent_run_id'",
     "output_type": "error",
     "traceback": [
      "\u001B[0;31m---------------------------------------------------------------------------\u001B[0m",
      "\u001B[0;31mAttributeError\u001B[0m                            Traceback (most recent call last)",
      "Cell \u001B[0;32mIn[19], line 27\u001B[0m\n\u001B[1;32m     19\u001B[0m runs \u001B[38;5;241m=\u001B[39m client\u001B[38;5;241m.\u001B[39msearch_runs(\n\u001B[1;32m     20\u001B[0m     experiment_ids\u001B[38;5;241m=\u001B[39mexperiment\u001B[38;5;241m.\u001B[39mexperiment_id,\n\u001B[1;32m     21\u001B[0m     filter_string\u001B[38;5;241m=\u001B[39m\u001B[38;5;124m\"\u001B[39m\u001B[38;5;124m\"\u001B[39m,\n\u001B[1;32m     22\u001B[0m     run_view_type\u001B[38;5;241m=\u001B[39mViewType\u001B[38;5;241m.\u001B[39mACTIVE_ONLY,\n\u001B[1;32m     23\u001B[0m     max_results\u001B[38;5;241m=\u001B[39m\u001B[38;5;241m1000\u001B[39m\n\u001B[1;32m     24\u001B[0m )\n\u001B[1;32m     26\u001B[0m \u001B[38;5;66;03m# Filtrar runs que no tienen parent_id y tienen 'rmse_final'\u001B[39;00m\n\u001B[0;32m---> 27\u001B[0m primary_runs \u001B[38;5;241m=\u001B[39m \u001B[43m[\u001B[49m\n\u001B[1;32m     28\u001B[0m \u001B[43m    \u001B[49m\u001B[43mrun\u001B[49m\u001B[43m \u001B[49m\u001B[38;5;28;43;01mfor\u001B[39;49;00m\u001B[43m \u001B[49m\u001B[43mrun\u001B[49m\u001B[43m \u001B[49m\u001B[38;5;129;43;01min\u001B[39;49;00m\u001B[43m \u001B[49m\u001B[43mruns\u001B[49m\u001B[43m \u001B[49m\n\u001B[1;32m     29\u001B[0m \u001B[43m    \u001B[49m\u001B[38;5;28;43;01mif\u001B[39;49;00m\u001B[43m \u001B[49m\u001B[43mrun\u001B[49m\u001B[38;5;241;43m.\u001B[39;49m\u001B[43minfo\u001B[49m\u001B[38;5;241;43m.\u001B[39;49m\u001B[43mparent_run_id\u001B[49m\u001B[43m \u001B[49m\u001B[38;5;129;43;01mis\u001B[39;49;00m\u001B[43m \u001B[49m\u001B[38;5;28;43;01mNone\u001B[39;49;00m\u001B[43m \u001B[49m\u001B[38;5;129;43;01mand\u001B[39;49;00m\u001B[43m \u001B[49m\u001B[38;5;124;43m'\u001B[39;49m\u001B[38;5;124;43mrmse_final\u001B[39;49m\u001B[38;5;124;43m'\u001B[39;49m\u001B[43m \u001B[49m\u001B[38;5;129;43;01min\u001B[39;49;00m\u001B[43m \u001B[49m\u001B[43mrun\u001B[49m\u001B[38;5;241;43m.\u001B[39;49m\u001B[43mdata\u001B[49m\u001B[38;5;241;43m.\u001B[39;49m\u001B[43mmetrics\u001B[49m\n\u001B[1;32m     30\u001B[0m \u001B[43m\u001B[49m\u001B[43m]\u001B[49m\n\u001B[1;32m     32\u001B[0m \u001B[38;5;28;01mif\u001B[39;00m \u001B[38;5;129;01mnot\u001B[39;00m primary_runs:\n\u001B[1;32m     33\u001B[0m     \u001B[38;5;28mprint\u001B[39m(\u001B[38;5;124m\"\u001B[39m\u001B[38;5;124mNo hay runs principales con la métrica \u001B[39m\u001B[38;5;124m'\u001B[39m\u001B[38;5;124mrmse_final\u001B[39m\u001B[38;5;124m'\u001B[39m\u001B[38;5;124m.\u001B[39m\u001B[38;5;124m\"\u001B[39m)\n",
      "Cell \u001B[0;32mIn[19], line 29\u001B[0m, in \u001B[0;36m<listcomp>\u001B[0;34m(.0)\u001B[0m\n\u001B[1;32m     19\u001B[0m runs \u001B[38;5;241m=\u001B[39m client\u001B[38;5;241m.\u001B[39msearch_runs(\n\u001B[1;32m     20\u001B[0m     experiment_ids\u001B[38;5;241m=\u001B[39mexperiment\u001B[38;5;241m.\u001B[39mexperiment_id,\n\u001B[1;32m     21\u001B[0m     filter_string\u001B[38;5;241m=\u001B[39m\u001B[38;5;124m\"\u001B[39m\u001B[38;5;124m\"\u001B[39m,\n\u001B[1;32m     22\u001B[0m     run_view_type\u001B[38;5;241m=\u001B[39mViewType\u001B[38;5;241m.\u001B[39mACTIVE_ONLY,\n\u001B[1;32m     23\u001B[0m     max_results\u001B[38;5;241m=\u001B[39m\u001B[38;5;241m1000\u001B[39m\n\u001B[1;32m     24\u001B[0m )\n\u001B[1;32m     26\u001B[0m \u001B[38;5;66;03m# Filtrar runs que no tienen parent_id y tienen 'rmse_final'\u001B[39;00m\n\u001B[1;32m     27\u001B[0m primary_runs \u001B[38;5;241m=\u001B[39m [\n\u001B[1;32m     28\u001B[0m     run \u001B[38;5;28;01mfor\u001B[39;00m run \u001B[38;5;129;01min\u001B[39;00m runs \n\u001B[0;32m---> 29\u001B[0m     \u001B[38;5;28;01mif\u001B[39;00m \u001B[43mrun\u001B[49m\u001B[38;5;241;43m.\u001B[39;49m\u001B[43minfo\u001B[49m\u001B[38;5;241;43m.\u001B[39;49m\u001B[43mparent_run_id\u001B[49m \u001B[38;5;129;01mis\u001B[39;00m \u001B[38;5;28;01mNone\u001B[39;00m \u001B[38;5;129;01mand\u001B[39;00m \u001B[38;5;124m'\u001B[39m\u001B[38;5;124mrmse_final\u001B[39m\u001B[38;5;124m'\u001B[39m \u001B[38;5;129;01min\u001B[39;00m run\u001B[38;5;241m.\u001B[39mdata\u001B[38;5;241m.\u001B[39mmetrics\n\u001B[1;32m     30\u001B[0m ]\n\u001B[1;32m     32\u001B[0m \u001B[38;5;28;01mif\u001B[39;00m \u001B[38;5;129;01mnot\u001B[39;00m primary_runs:\n\u001B[1;32m     33\u001B[0m     \u001B[38;5;28mprint\u001B[39m(\u001B[38;5;124m\"\u001B[39m\u001B[38;5;124mNo hay runs principales con la métrica \u001B[39m\u001B[38;5;124m'\u001B[39m\u001B[38;5;124mrmse_final\u001B[39m\u001B[38;5;124m'\u001B[39m\u001B[38;5;124m.\u001B[39m\u001B[38;5;124m\"\u001B[39m)\n",
      "\u001B[0;31mAttributeError\u001B[0m: 'RunInfo' object has no attribute 'parent_run_id'"
     ]
    }
   ],
   "execution_count": 19
  },
  {
   "metadata": {},
   "cell_type": "code",
   "outputs": [],
   "execution_count": null,
   "source": [
    "result = mlflow.register_model(\n",
    "    model_uri=best_model_uri,\n",
    "    name=\"nyc-taxi-model\"\n",
    ")"
   ],
   "id": "99edab02e4e1c6eb"
  },
  {
   "metadata": {},
   "cell_type": "code",
   "outputs": [],
   "execution_count": null,
   "source": [
    "from mlflow import MlflowClient\n",
    "from datetime import datetime\n",
    "\n",
    "client = MlflowClient(tracking_uri=MLFLOW_TRACKING_URI)\n",
    "\n",
    "# Obtener la versión del modelo registrado\n",
    "model_version = result.version\n",
    "\n",
    "# Asignar el alias \"challenger\"\n",
    "client.set_registered_model_alias(\n",
    "    name=\"nyc-taxi-model\",\n",
    "    alias=\"challenger\",\n",
    "    version=model_version\n",
    ")\n",
    "\n",
    "# Actualizar la descripción de la versión\n",
    "date = datetime.today()\n",
    "client.update_model_version(\n",
    "    name=\"nyc-taxi-model\",\n",
    "    version=model_version,\n",
    "    description=f\"The model version {model_version} was set as challenger on {date}\"\n",
    ")"
   ],
   "id": "a40c965661fdacb6"
  },
  {
   "metadata": {
    "ExecuteTime": {
     "end_time": "2024-10-09T01:47:59.323124Z",
     "start_time": "2024-10-09T01:45:39.843444Z"
    }
   },
   "cell_type": "code",
   "source": [
    "import mlflow\n",
    "from mlflow import MlflowClient\n",
    "from sklearn.ensemble import RandomForestRegressor\n",
    "from sklearn.metrics import mean_squared_error\n",
    "from hyperopt import fmin, tpe, hp, STATUS_OK, Trials\n",
    "from hyperopt.pyll import scope\n",
    "import pickle\n",
    "import pathlib\n",
    "\n",
    "# Definir la función objetivo para Random Forest\n",
    "def objective_rf(params):\n",
    "    with mlflow.start_run(nested=True):\n",
    "        mlflow.set_tag(\"model_family\", \"random_forest\")\n",
    "        mlflow.log_params(params)\n",
    "        \n",
    "        # Crear el modelo con los parámetros actuales\n",
    "        model = RandomForestRegressor(\n",
    "            n_estimators=params['n_estimators'],\n",
    "            max_depth=params['max_depth'],\n",
    "            min_samples_split=params['min_samples_split'],\n",
    "            min_samples_leaf=params['min_samples_leaf'],\n",
    "            max_features=params['max_features'],\n",
    "            random_state=params['random_state'],\n",
    "            n_jobs=-1\n",
    "        )\n",
    "        \n",
    "        # Entrenar el modelo\n",
    "        model.fit(X_train, y_train)\n",
    "        \n",
    "        # Predecir en el conjunto de validación\n",
    "        y_pred = model.predict(X_val)\n",
    "        \n",
    "        # Calcular el RMSE\n",
    "        rmse = mean_squared_error(y_val, y_pred, squared=False)\n",
    "        \n",
    "        # Loguear la métrica intermedia\n",
    "        mlflow.log_metric(\"rmse\", rmse)\n",
    "        \n",
    "        # Loguear el modelo\n",
    "        mlflow.sklearn.log_model(model, artifact_path=\"rf_model\")\n",
    "        \n",
    "    return {'loss': rmse, 'status': STATUS_OK}\n",
    "\n",
    "# Definir el espacio de búsqueda sin 'auto'\n",
    "search_space_rf = {\n",
    "    'n_estimators': scope.int(hp.quniform('n_estimators', 100, 1000, 100)),\n",
    "    'max_depth': scope.int(hp.quniform('max_depth', 5, 30, 5)),\n",
    "    'min_samples_split': scope.int(hp.quniform('min_samples_split', 2, 20, 2)),\n",
    "    'min_samples_leaf': scope.int(hp.quniform('min_samples_leaf', 1, 10, 1)),\n",
    "    'max_features': hp.choice('max_features', ['sqrt', 'log2']),\n",
    "    'random_state': 42\n",
    "}\n",
    "\n",
    "# Ejecutar la optimización\n",
    "with mlflow.start_run(run_name=\"RandomForest_Hyperopt\", nested=True):\n",
    "    trials_rf = Trials()\n",
    "    best_rf = fmin(\n",
    "        fn=objective_rf,\n",
    "        space=search_space_rf,\n",
    "        algo=tpe.suggest,\n",
    "        max_evals=20,\n",
    "        trials=trials_rf\n",
    "    )\n",
    "    \n",
    "    # Convertir los parámetros óptimos\n",
    "    best_rf['n_estimators'] = int(best_rf['n_estimators'])\n",
    "    best_rf['max_depth'] = int(best_rf['max_depth'])\n",
    "    best_rf['min_samples_split'] = int(best_rf['min_samples_split'])\n",
    "    best_rf['min_samples_leaf'] = int(best_rf['min_samples_leaf'])\n",
    "    best_rf['random_state'] = 42  # Ya está definido\n",
    "    \n",
    "    # Obtener el valor seleccionado para 'max_features'\n",
    "    max_features_options = ['sqrt', 'log2']\n",
    "    best_rf['max_features'] = max_features_options[best_rf['max_features']]\n",
    "    \n",
    "    # Loguear los mejores parámetros\n",
    "    mlflow.log_params(best_rf)\n",
    "    \n",
    "    # Entrenar el modelo final con los mejores parámetros\n",
    "    final_rf_model = RandomForestRegressor(\n",
    "        n_estimators=best_rf['n_estimators'],\n",
    "        max_depth=best_rf['max_depth'],\n",
    "        min_samples_split=best_rf['min_samples_split'],\n",
    "        min_samples_leaf=best_rf['min_samples_leaf'],\n",
    "        max_features=best_rf['max_features'],\n",
    "        random_state=best_rf['random_state'],\n",
    "        n_jobs=-1\n",
    "    )\n",
    "    \n",
    "    final_rf_model.fit(X_train, y_train)\n",
    "    y_pred_rf = final_rf_model.predict(X_val)\n",
    "    rmse_rf = mean_squared_error(y_val, y_pred_rf, squared=False)\n",
    "    \n",
    "    # Loguear la métrica final\n",
    "    mlflow.log_metric(\"rmse_final\", rmse_rf)\n",
    "    \n",
    "    # Loguear el modelo final\n",
    "    mlflow.sklearn.log_model(final_rf_model, artifact_path=\"rf_final_model\")\n",
    "    \n",
    "    print(f\"Mejores parámetros para Random Forest: {best_rf}\")\n",
    "    print(f\"RMSE final para Random Forest: {rmse_rf}\")\n",
    "\n",
    "# Seleccionar el mejor run basado en 'rmse_final'\n",
    "client = MlflowClient(tracking_uri=MLFLOW_TRACKING_URI)\n",
    "\n",
    "experiment_name = \"nyc-taxi-experiment-challenger\"\n",
    "\n",
    "experiment = client.get_experiment_by_name(experiment_name)\n",
    "\n",
    "if not experiment:\n",
    "    print(f\"El experimento '{experiment_name}' no existe.\")\n",
    "else:\n",
    "    print(f\"Experiment ID: {experiment.experiment_id}\")\n",
    "    \n",
    "    runs = client.search_runs(\n",
    "        experiment_ids=experiment.experiment_id,\n",
    "        filter_string=\"\",\n",
    "        run_view_type=ViewType.ACTIVE_ONLY,\n",
    "        max_results=1000\n",
    "    )\n",
    "    \n",
    "    runs_with_rmse_final = [run for run in runs if 'rmse_final' in run.data.metrics]\n",
    "    \n",
    "    if not runs_with_rmse_final:\n",
    "        print(\"No hay runs con la métrica 'rmse_final'.\")\n",
    "    else:\n",
    "        try:\n",
    "            best_run = min(runs_with_rmse_final, key=lambda run: run.data.metrics[\"rmse_final\"])\n",
    "            best_run_id = best_run.info.run_id\n",
    "            best_model_uri = f\"runs:/{best_run_id}/rf_final_model\"\n",
    "            \n",
    "            print(f\"El mejor run ID es: {best_run_id} con rmse_final: {best_run.data.metrics['rmse_final']}\")\n",
    "            print(f\"Modelo registrado en: {best_model_uri}\")\n",
    "        except ValueError:\n",
    "            print(\"No se pudo determinar el mejor run debido a valores inválidos.\")"
   ],
   "id": "2b6573a49a55677b",
   "outputs": [
    {
     "name": "stdout",
     "output_type": "stream",
     "text": [
      "  0%|          | 0/20 [00:00<?, ?trial/s, best loss=?]"
     ]
    },
    {
     "name": "stderr",
     "output_type": "stream",
     "text": [
      "/Users/juanpabloblanco/Documents/nys-taxi-time-prediction/.venv/lib/python3.11/site-packages/sklearn/metrics/_regression.py:492: FutureWarning: 'squared' is deprecated in version 1.4 and will be removed in 1.6. To calculate the root mean squared error, use the function'root_mean_squared_error'.\n",
      "  warnings.warn(\n",
      "\n",
      "2024/10/08 19:45:42 WARNING mlflow.models.model: Model logged without a signature and input example. Please set `input_example` parameter when logging the model to auto infer the model signature.\n",
      "\n",
      "2024/10/08 19:45:46 INFO mlflow.tracking._tracking_service.client: 🏃 View run chill-fish-217 at: https://dagshub.com/JuanPab2009/nys-taxi-time-prediction.mlflow/#/experiments/1/runs/8a8440125a6e434b837676cf217f373f.\n",
      "\n",
      "2024/10/08 19:45:46 INFO mlflow.tracking._tracking_service.client: 🧪 View experiment at: https://dagshub.com/JuanPab2009/nys-taxi-time-prediction.mlflow/#/experiments/1.\n",
      "\n"
     ]
    },
    {
     "name": "stdout",
     "output_type": "stream",
     "text": [
      "  5%|▌         | 1/20 [00:06<02:03,  6.47s/trial, best loss: 8.43474804615386]"
     ]
    },
    {
     "name": "stderr",
     "output_type": "stream",
     "text": [
      "/Users/juanpabloblanco/Documents/nys-taxi-time-prediction/.venv/lib/python3.11/site-packages/sklearn/metrics/_regression.py:492: FutureWarning: 'squared' is deprecated in version 1.4 and will be removed in 1.6. To calculate the root mean squared error, use the function'root_mean_squared_error'.\n",
      "  warnings.warn(\n",
      "\n",
      "2024/10/08 19:45:48 WARNING mlflow.models.model: Model logged without a signature and input example. Please set `input_example` parameter when logging the model to auto infer the model signature.\n",
      "\n",
      "2024/10/08 19:45:51 INFO mlflow.tracking._tracking_service.client: 🏃 View run abrasive-crab-904 at: https://dagshub.com/JuanPab2009/nys-taxi-time-prediction.mlflow/#/experiments/1/runs/0f8750a1c59e435896eec8bd8e887b09.\n",
      "\n",
      "2024/10/08 19:45:51 INFO mlflow.tracking._tracking_service.client: 🧪 View experiment at: https://dagshub.com/JuanPab2009/nys-taxi-time-prediction.mlflow/#/experiments/1.\n",
      "\n"
     ]
    },
    {
     "name": "stdout",
     "output_type": "stream",
     "text": [
      " 10%|█         | 2/20 [00:11<01:43,  5.76s/trial, best loss: 8.43474804615386]"
     ]
    },
    {
     "name": "stderr",
     "output_type": "stream",
     "text": [
      "/Users/juanpabloblanco/Documents/nys-taxi-time-prediction/.venv/lib/python3.11/site-packages/sklearn/metrics/_regression.py:492: FutureWarning: 'squared' is deprecated in version 1.4 and will be removed in 1.6. To calculate the root mean squared error, use the function'root_mean_squared_error'.\n",
      "  warnings.warn(\n",
      "\n",
      "2024/10/08 19:45:53 WARNING mlflow.models.model: Model logged without a signature and input example. Please set `input_example` parameter when logging the model to auto infer the model signature.\n",
      "\n",
      "2024/10/08 19:45:57 INFO mlflow.tracking._tracking_service.client: 🏃 View run marvelous-mink-216 at: https://dagshub.com/JuanPab2009/nys-taxi-time-prediction.mlflow/#/experiments/1/runs/a5a0ea2bf55846c89e8de23e057fc46f.\n",
      "\n",
      "2024/10/08 19:45:57 INFO mlflow.tracking._tracking_service.client: 🧪 View experiment at: https://dagshub.com/JuanPab2009/nys-taxi-time-prediction.mlflow/#/experiments/1.\n",
      "\n"
     ]
    },
    {
     "name": "stdout",
     "output_type": "stream",
     "text": [
      " 15%|█▌        | 3/20 [00:17<01:39,  5.82s/trial, best loss: 8.43474804615386]"
     ]
    },
    {
     "name": "stderr",
     "output_type": "stream",
     "text": [
      "/Users/juanpabloblanco/Documents/nys-taxi-time-prediction/.venv/lib/python3.11/site-packages/sklearn/metrics/_regression.py:492: FutureWarning: 'squared' is deprecated in version 1.4 and will be removed in 1.6. To calculate the root mean squared error, use the function'root_mean_squared_error'.\n",
      "  warnings.warn(\n",
      "\n",
      "2024/10/08 19:46:00 WARNING mlflow.models.model: Model logged without a signature and input example. Please set `input_example` parameter when logging the model to auto infer the model signature.\n",
      "\n",
      "2024/10/08 19:46:04 INFO mlflow.tracking._tracking_service.client: 🏃 View run abundant-conch-437 at: https://dagshub.com/JuanPab2009/nys-taxi-time-prediction.mlflow/#/experiments/1/runs/23bfe86b7de54ebd8da04dced63a957b.\n",
      "\n",
      "2024/10/08 19:46:04 INFO mlflow.tracking._tracking_service.client: 🧪 View experiment at: https://dagshub.com/JuanPab2009/nys-taxi-time-prediction.mlflow/#/experiments/1.\n",
      "\n"
     ]
    },
    {
     "name": "stdout",
     "output_type": "stream",
     "text": [
      " 20%|██        | 4/20 [00:24<01:37,  6.12s/trial, best loss: 7.742734626942062]"
     ]
    },
    {
     "name": "stderr",
     "output_type": "stream",
     "text": [
      "/Users/juanpabloblanco/Documents/nys-taxi-time-prediction/.venv/lib/python3.11/site-packages/sklearn/metrics/_regression.py:492: FutureWarning: 'squared' is deprecated in version 1.4 and will be removed in 1.6. To calculate the root mean squared error, use the function'root_mean_squared_error'.\n",
      "  warnings.warn(\n",
      "\n",
      "2024/10/08 19:46:07 WARNING mlflow.models.model: Model logged without a signature and input example. Please set `input_example` parameter when logging the model to auto infer the model signature.\n",
      "\n",
      "2024/10/08 19:46:11 INFO mlflow.tracking._tracking_service.client: 🏃 View run charming-frog-350 at: https://dagshub.com/JuanPab2009/nys-taxi-time-prediction.mlflow/#/experiments/1/runs/25611aa75a5b49ebadc66c99b38432f4.\n",
      "\n",
      "2024/10/08 19:46:11 INFO mlflow.tracking._tracking_service.client: 🧪 View experiment at: https://dagshub.com/JuanPab2009/nys-taxi-time-prediction.mlflow/#/experiments/1.\n",
      "\n"
     ]
    },
    {
     "name": "stdout",
     "output_type": "stream",
     "text": [
      " 25%|██▌       | 5/20 [00:31<01:40,  6.68s/trial, best loss: 7.720505470964235]"
     ]
    },
    {
     "name": "stderr",
     "output_type": "stream",
     "text": [
      "/Users/juanpabloblanco/Documents/nys-taxi-time-prediction/.venv/lib/python3.11/site-packages/sklearn/metrics/_regression.py:492: FutureWarning: 'squared' is deprecated in version 1.4 and will be removed in 1.6. To calculate the root mean squared error, use the function'root_mean_squared_error'.\n",
      "  warnings.warn(\n",
      "\n",
      "2024/10/08 19:46:13 WARNING mlflow.models.model: Model logged without a signature and input example. Please set `input_example` parameter when logging the model to auto infer the model signature.\n",
      "\n",
      "2024/10/08 19:46:16 INFO mlflow.tracking._tracking_service.client: 🏃 View run handsome-wolf-849 at: https://dagshub.com/JuanPab2009/nys-taxi-time-prediction.mlflow/#/experiments/1/runs/1ab126e8a3784325805cada2073f9bf0.\n",
      "\n",
      "2024/10/08 19:46:16 INFO mlflow.tracking._tracking_service.client: 🧪 View experiment at: https://dagshub.com/JuanPab2009/nys-taxi-time-prediction.mlflow/#/experiments/1.\n",
      "\n"
     ]
    },
    {
     "name": "stdout",
     "output_type": "stream",
     "text": [
      " 30%|███       | 6/20 [00:37<01:26,  6.18s/trial, best loss: 7.720505470964235]"
     ]
    },
    {
     "name": "stderr",
     "output_type": "stream",
     "text": [
      "/Users/juanpabloblanco/Documents/nys-taxi-time-prediction/.venv/lib/python3.11/site-packages/sklearn/metrics/_regression.py:492: FutureWarning: 'squared' is deprecated in version 1.4 and will be removed in 1.6. To calculate the root mean squared error, use the function'root_mean_squared_error'.\n",
      "  warnings.warn(\n",
      "\n",
      "2024/10/08 19:46:19 WARNING mlflow.models.model: Model logged without a signature and input example. Please set `input_example` parameter when logging the model to auto infer the model signature.\n",
      "\n",
      "2024/10/08 19:46:23 INFO mlflow.tracking._tracking_service.client: 🏃 View run incongruous-rat-725 at: https://dagshub.com/JuanPab2009/nys-taxi-time-prediction.mlflow/#/experiments/1/runs/dbc8fb5c661d43c0ae1b3962441c69aa.\n",
      "\n",
      "2024/10/08 19:46:23 INFO mlflow.tracking._tracking_service.client: 🧪 View experiment at: https://dagshub.com/JuanPab2009/nys-taxi-time-prediction.mlflow/#/experiments/1.\n",
      "\n"
     ]
    },
    {
     "name": "stdout",
     "output_type": "stream",
     "text": [
      " 35%|███▌      | 7/20 [00:43<01:21,  6.30s/trial, best loss: 7.720505470964235]"
     ]
    },
    {
     "name": "stderr",
     "output_type": "stream",
     "text": [
      "/Users/juanpabloblanco/Documents/nys-taxi-time-prediction/.venv/lib/python3.11/site-packages/sklearn/metrics/_regression.py:492: FutureWarning: 'squared' is deprecated in version 1.4 and will be removed in 1.6. To calculate the root mean squared error, use the function'root_mean_squared_error'.\n",
      "  warnings.warn(\n",
      "\n",
      "2024/10/08 19:46:26 WARNING mlflow.models.model: Model logged without a signature and input example. Please set `input_example` parameter when logging the model to auto infer the model signature.\n",
      "\n",
      "2024/10/08 19:46:29 INFO mlflow.tracking._tracking_service.client: 🏃 View run kindly-mink-219 at: https://dagshub.com/JuanPab2009/nys-taxi-time-prediction.mlflow/#/experiments/1/runs/a08dfe6d894f4239a7e0d0a3869aa048.\n",
      "\n",
      "2024/10/08 19:46:29 INFO mlflow.tracking._tracking_service.client: 🧪 View experiment at: https://dagshub.com/JuanPab2009/nys-taxi-time-prediction.mlflow/#/experiments/1.\n",
      "\n"
     ]
    },
    {
     "name": "stdout",
     "output_type": "stream",
     "text": [
      " 40%|████      | 8/20 [00:49<01:12,  6.07s/trial, best loss: 7.720505470964235]"
     ]
    },
    {
     "name": "stderr",
     "output_type": "stream",
     "text": [
      "/Users/juanpabloblanco/Documents/nys-taxi-time-prediction/.venv/lib/python3.11/site-packages/sklearn/metrics/_regression.py:492: FutureWarning: 'squared' is deprecated in version 1.4 and will be removed in 1.6. To calculate the root mean squared error, use the function'root_mean_squared_error'.\n",
      "  warnings.warn(\n",
      "\n",
      "2024/10/08 19:46:31 WARNING mlflow.models.model: Model logged without a signature and input example. Please set `input_example` parameter when logging the model to auto infer the model signature.\n",
      "\n",
      "2024/10/08 19:46:34 INFO mlflow.tracking._tracking_service.client: 🏃 View run bold-frog-50 at: https://dagshub.com/JuanPab2009/nys-taxi-time-prediction.mlflow/#/experiments/1/runs/e6999fe5cedb46daa0867f4b3d24c1f0.\n",
      "\n",
      "2024/10/08 19:46:34 INFO mlflow.tracking._tracking_service.client: 🧪 View experiment at: https://dagshub.com/JuanPab2009/nys-taxi-time-prediction.mlflow/#/experiments/1.\n",
      "\n"
     ]
    },
    {
     "name": "stdout",
     "output_type": "stream",
     "text": [
      " 45%|████▌     | 9/20 [00:54<01:04,  5.89s/trial, best loss: 7.720505470964235]"
     ]
    },
    {
     "name": "stderr",
     "output_type": "stream",
     "text": [
      "/Users/juanpabloblanco/Documents/nys-taxi-time-prediction/.venv/lib/python3.11/site-packages/sklearn/metrics/_regression.py:492: FutureWarning: 'squared' is deprecated in version 1.4 and will be removed in 1.6. To calculate the root mean squared error, use the function'root_mean_squared_error'.\n",
      "  warnings.warn(\n",
      "\n",
      "2024/10/08 19:46:38 WARNING mlflow.models.model: Model logged without a signature and input example. Please set `input_example` parameter when logging the model to auto infer the model signature.\n",
      "\n",
      "2024/10/08 19:46:43 INFO mlflow.tracking._tracking_service.client: 🏃 View run incongruous-koi-522 at: https://dagshub.com/JuanPab2009/nys-taxi-time-prediction.mlflow/#/experiments/1/runs/6446bfd65bb0428bbf23fe8d15dabe93.\n",
      "\n",
      "2024/10/08 19:46:43 INFO mlflow.tracking._tracking_service.client: 🧪 View experiment at: https://dagshub.com/JuanPab2009/nys-taxi-time-prediction.mlflow/#/experiments/1.\n",
      "\n"
     ]
    },
    {
     "name": "stdout",
     "output_type": "stream",
     "text": [
      " 50%|█████     | 10/20 [01:03<01:08,  6.85s/trial, best loss: 7.720505470964235]"
     ]
    },
    {
     "name": "stderr",
     "output_type": "stream",
     "text": [
      "/Users/juanpabloblanco/Documents/nys-taxi-time-prediction/.venv/lib/python3.11/site-packages/sklearn/metrics/_regression.py:492: FutureWarning: 'squared' is deprecated in version 1.4 and will be removed in 1.6. To calculate the root mean squared error, use the function'root_mean_squared_error'.\n",
      "  warnings.warn(\n",
      "\n",
      "2024/10/08 19:46:45 WARNING mlflow.models.model: Model logged without a signature and input example. Please set `input_example` parameter when logging the model to auto infer the model signature.\n",
      "\n",
      "2024/10/08 19:46:48 INFO mlflow.tracking._tracking_service.client: 🏃 View run caring-elk-518 at: https://dagshub.com/JuanPab2009/nys-taxi-time-prediction.mlflow/#/experiments/1/runs/25d490deea9f44d09365ba105f99c5a4.\n",
      "\n",
      "2024/10/08 19:46:48 INFO mlflow.tracking._tracking_service.client: 🧪 View experiment at: https://dagshub.com/JuanPab2009/nys-taxi-time-prediction.mlflow/#/experiments/1.\n",
      "\n"
     ]
    },
    {
     "name": "stdout",
     "output_type": "stream",
     "text": [
      " 55%|█████▌    | 11/20 [01:09<00:57,  6.42s/trial, best loss: 7.720505470964235]"
     ]
    },
    {
     "name": "stderr",
     "output_type": "stream",
     "text": [
      "/Users/juanpabloblanco/Documents/nys-taxi-time-prediction/.venv/lib/python3.11/site-packages/sklearn/metrics/_regression.py:492: FutureWarning: 'squared' is deprecated in version 1.4 and will be removed in 1.6. To calculate the root mean squared error, use the function'root_mean_squared_error'.\n",
      "  warnings.warn(\n",
      "\n",
      "2024/10/08 19:46:51 WARNING mlflow.models.model: Model logged without a signature and input example. Please set `input_example` parameter when logging the model to auto infer the model signature.\n",
      "\n",
      "2024/10/08 19:46:54 INFO mlflow.tracking._tracking_service.client: 🏃 View run rare-auk-107 at: https://dagshub.com/JuanPab2009/nys-taxi-time-prediction.mlflow/#/experiments/1/runs/3db5d525f33c480287df41961de16b14.\n",
      "\n",
      "2024/10/08 19:46:54 INFO mlflow.tracking._tracking_service.client: 🧪 View experiment at: https://dagshub.com/JuanPab2009/nys-taxi-time-prediction.mlflow/#/experiments/1.\n",
      "\n"
     ]
    },
    {
     "name": "stdout",
     "output_type": "stream",
     "text": [
      " 60%|██████    | 12/20 [01:14<00:49,  6.16s/trial, best loss: 7.720505470964235]"
     ]
    },
    {
     "name": "stderr",
     "output_type": "stream",
     "text": [
      "/Users/juanpabloblanco/Documents/nys-taxi-time-prediction/.venv/lib/python3.11/site-packages/sklearn/metrics/_regression.py:492: FutureWarning: 'squared' is deprecated in version 1.4 and will be removed in 1.6. To calculate the root mean squared error, use the function'root_mean_squared_error'.\n",
      "  warnings.warn(\n",
      "\n",
      "2024/10/08 19:46:59 WARNING mlflow.models.model: Model logged without a signature and input example. Please set `input_example` parameter when logging the model to auto infer the model signature.\n",
      "\n",
      "2024/10/08 19:47:04 INFO mlflow.tracking._tracking_service.client: 🏃 View run adorable-vole-729 at: https://dagshub.com/JuanPab2009/nys-taxi-time-prediction.mlflow/#/experiments/1/runs/741b7173f85c4e318edb51356f8e2192.\n",
      "\n",
      "2024/10/08 19:47:04 INFO mlflow.tracking._tracking_service.client: 🧪 View experiment at: https://dagshub.com/JuanPab2009/nys-taxi-time-prediction.mlflow/#/experiments/1.\n",
      "\n"
     ]
    },
    {
     "name": "stdout",
     "output_type": "stream",
     "text": [
      " 65%|██████▌   | 13/20 [01:24<00:50,  7.26s/trial, best loss: 7.546235282965409]"
     ]
    },
    {
     "name": "stderr",
     "output_type": "stream",
     "text": [
      "/Users/juanpabloblanco/Documents/nys-taxi-time-prediction/.venv/lib/python3.11/site-packages/sklearn/metrics/_regression.py:492: FutureWarning: 'squared' is deprecated in version 1.4 and will be removed in 1.6. To calculate the root mean squared error, use the function'root_mean_squared_error'.\n",
      "  warnings.warn(\n",
      "\n",
      "2024/10/08 19:47:06 WARNING mlflow.models.model: Model logged without a signature and input example. Please set `input_example` parameter when logging the model to auto infer the model signature.\n",
      "\n",
      "2024/10/08 19:47:09 INFO mlflow.tracking._tracking_service.client: 🏃 View run charming-elk-564 at: https://dagshub.com/JuanPab2009/nys-taxi-time-prediction.mlflow/#/experiments/1/runs/ef4164d718dc43dda1d5000aba5b2f9f.\n",
      "\n",
      "2024/10/08 19:47:09 INFO mlflow.tracking._tracking_service.client: 🧪 View experiment at: https://dagshub.com/JuanPab2009/nys-taxi-time-prediction.mlflow/#/experiments/1.\n",
      "\n"
     ]
    },
    {
     "name": "stdout",
     "output_type": "stream",
     "text": [
      " 70%|███████   | 14/20 [01:29<00:40,  6.67s/trial, best loss: 7.546235282965409]"
     ]
    },
    {
     "name": "stderr",
     "output_type": "stream",
     "text": [
      "/Users/juanpabloblanco/Documents/nys-taxi-time-prediction/.venv/lib/python3.11/site-packages/sklearn/metrics/_regression.py:492: FutureWarning: 'squared' is deprecated in version 1.4 and will be removed in 1.6. To calculate the root mean squared error, use the function'root_mean_squared_error'.\n",
      "  warnings.warn(\n",
      "\n",
      "2024/10/08 19:47:12 WARNING mlflow.models.model: Model logged without a signature and input example. Please set `input_example` parameter when logging the model to auto infer the model signature.\n",
      "\n",
      "2024/10/08 19:47:15 INFO mlflow.tracking._tracking_service.client: 🏃 View run languid-shrimp-441 at: https://dagshub.com/JuanPab2009/nys-taxi-time-prediction.mlflow/#/experiments/1/runs/a6b42e10793645159b284dbea7feb033.\n",
      "\n",
      "2024/10/08 19:47:15 INFO mlflow.tracking._tracking_service.client: 🧪 View experiment at: https://dagshub.com/JuanPab2009/nys-taxi-time-prediction.mlflow/#/experiments/1.\n",
      "\n"
     ]
    },
    {
     "name": "stdout",
     "output_type": "stream",
     "text": [
      " 75%|███████▌  | 15/20 [01:35<00:31,  6.30s/trial, best loss: 7.546235282965409]"
     ]
    },
    {
     "name": "stderr",
     "output_type": "stream",
     "text": [
      "/Users/juanpabloblanco/Documents/nys-taxi-time-prediction/.venv/lib/python3.11/site-packages/sklearn/metrics/_regression.py:492: FutureWarning: 'squared' is deprecated in version 1.4 and will be removed in 1.6. To calculate the root mean squared error, use the function'root_mean_squared_error'.\n",
      "  warnings.warn(\n",
      "\n",
      "2024/10/08 19:47:17 WARNING mlflow.models.model: Model logged without a signature and input example. Please set `input_example` parameter when logging the model to auto infer the model signature.\n",
      "\n",
      "2024/10/08 19:47:21 INFO mlflow.tracking._tracking_service.client: 🏃 View run stylish-ant-572 at: https://dagshub.com/JuanPab2009/nys-taxi-time-prediction.mlflow/#/experiments/1/runs/00c9c760a9ce47ae9079e21feb35157c.\n",
      "\n",
      "2024/10/08 19:47:21 INFO mlflow.tracking._tracking_service.client: 🧪 View experiment at: https://dagshub.com/JuanPab2009/nys-taxi-time-prediction.mlflow/#/experiments/1.\n",
      "\n"
     ]
    },
    {
     "name": "stdout",
     "output_type": "stream",
     "text": [
      " 80%|████████  | 16/20 [01:41<00:25,  6.25s/trial, best loss: 7.546235282965409]"
     ]
    },
    {
     "name": "stderr",
     "output_type": "stream",
     "text": [
      "/Users/juanpabloblanco/Documents/nys-taxi-time-prediction/.venv/lib/python3.11/site-packages/sklearn/metrics/_regression.py:492: FutureWarning: 'squared' is deprecated in version 1.4 and will be removed in 1.6. To calculate the root mean squared error, use the function'root_mean_squared_error'.\n",
      "  warnings.warn(\n",
      "\n",
      "2024/10/08 19:47:23 WARNING mlflow.models.model: Model logged without a signature and input example. Please set `input_example` parameter when logging the model to auto infer the model signature.\n",
      "\n",
      "2024/10/08 19:47:26 INFO mlflow.tracking._tracking_service.client: 🏃 View run bright-stoat-171 at: https://dagshub.com/JuanPab2009/nys-taxi-time-prediction.mlflow/#/experiments/1/runs/6725f6d85f804e97a2815c01c763a0c9.\n",
      "\n",
      "2024/10/08 19:47:26 INFO mlflow.tracking._tracking_service.client: 🧪 View experiment at: https://dagshub.com/JuanPab2009/nys-taxi-time-prediction.mlflow/#/experiments/1.\n",
      "\n"
     ]
    },
    {
     "name": "stdout",
     "output_type": "stream",
     "text": [
      " 85%|████████▌ | 17/20 [01:46<00:17,  5.97s/trial, best loss: 7.546235282965409]"
     ]
    },
    {
     "name": "stderr",
     "output_type": "stream",
     "text": [
      "/Users/juanpabloblanco/Documents/nys-taxi-time-prediction/.venv/lib/python3.11/site-packages/sklearn/metrics/_regression.py:492: FutureWarning: 'squared' is deprecated in version 1.4 and will be removed in 1.6. To calculate the root mean squared error, use the function'root_mean_squared_error'.\n",
      "  warnings.warn(\n",
      "\n",
      "2024/10/08 19:47:30 WARNING mlflow.models.model: Model logged without a signature and input example. Please set `input_example` parameter when logging the model to auto infer the model signature.\n",
      "\n",
      "2024/10/08 19:47:34 INFO mlflow.tracking._tracking_service.client: 🏃 View run adaptable-mare-484 at: https://dagshub.com/JuanPab2009/nys-taxi-time-prediction.mlflow/#/experiments/1/runs/a7d9157cb761447ca8719db9ae186926.\n",
      "\n",
      "2024/10/08 19:47:34 INFO mlflow.tracking._tracking_service.client: 🧪 View experiment at: https://dagshub.com/JuanPab2009/nys-taxi-time-prediction.mlflow/#/experiments/1.\n",
      "\n"
     ]
    },
    {
     "name": "stdout",
     "output_type": "stream",
     "text": [
      " 90%|█████████ | 18/20 [01:55<00:13,  6.70s/trial, best loss: 7.546235282965409]"
     ]
    },
    {
     "name": "stderr",
     "output_type": "stream",
     "text": [
      "/Users/juanpabloblanco/Documents/nys-taxi-time-prediction/.venv/lib/python3.11/site-packages/sklearn/metrics/_regression.py:492: FutureWarning: 'squared' is deprecated in version 1.4 and will be removed in 1.6. To calculate the root mean squared error, use the function'root_mean_squared_error'.\n",
      "  warnings.warn(\n",
      "\n",
      "2024/10/08 19:47:39 WARNING mlflow.models.model: Model logged without a signature and input example. Please set `input_example` parameter when logging the model to auto infer the model signature.\n",
      "\n",
      "2024/10/08 19:47:43 INFO mlflow.tracking._tracking_service.client: 🏃 View run languid-mole-773 at: https://dagshub.com/JuanPab2009/nys-taxi-time-prediction.mlflow/#/experiments/1/runs/df703042372341b9bc1f9b2ecab08d48.\n",
      "\n",
      "2024/10/08 19:47:43 INFO mlflow.tracking._tracking_service.client: 🧪 View experiment at: https://dagshub.com/JuanPab2009/nys-taxi-time-prediction.mlflow/#/experiments/1.\n",
      "\n"
     ]
    },
    {
     "name": "stdout",
     "output_type": "stream",
     "text": [
      " 95%|█████████▌| 19/20 [02:03<00:07,  7.33s/trial, best loss: 7.546235282965409]"
     ]
    },
    {
     "name": "stderr",
     "output_type": "stream",
     "text": [
      "/Users/juanpabloblanco/Documents/nys-taxi-time-prediction/.venv/lib/python3.11/site-packages/sklearn/metrics/_regression.py:492: FutureWarning: 'squared' is deprecated in version 1.4 and will be removed in 1.6. To calculate the root mean squared error, use the function'root_mean_squared_error'.\n",
      "  warnings.warn(\n",
      "\n",
      "2024/10/08 19:47:46 WARNING mlflow.models.model: Model logged without a signature and input example. Please set `input_example` parameter when logging the model to auto infer the model signature.\n",
      "\n",
      "2024/10/08 19:47:49 INFO mlflow.tracking._tracking_service.client: 🏃 View run salty-shark-498 at: https://dagshub.com/JuanPab2009/nys-taxi-time-prediction.mlflow/#/experiments/1/runs/2f065044cd7a43539851604091fe3d76.\n",
      "\n",
      "2024/10/08 19:47:49 INFO mlflow.tracking._tracking_service.client: 🧪 View experiment at: https://dagshub.com/JuanPab2009/nys-taxi-time-prediction.mlflow/#/experiments/1.\n",
      "\n"
     ]
    },
    {
     "name": "stdout",
     "output_type": "stream",
     "text": [
      "100%|██████████| 20/20 [02:09<00:00,  6.47s/trial, best loss: 7.546235282965409]\n"
     ]
    },
    {
     "name": "stderr",
     "output_type": "stream",
     "text": [
      "/Users/juanpabloblanco/Documents/nys-taxi-time-prediction/.venv/lib/python3.11/site-packages/sklearn/metrics/_regression.py:492: FutureWarning: 'squared' is deprecated in version 1.4 and will be removed in 1.6. To calculate the root mean squared error, use the function'root_mean_squared_error'.\n",
      "  warnings.warn(\n",
      "2024/10/08 19:47:53 WARNING mlflow.models.model: Model logged without a signature and input example. Please set `input_example` parameter when logging the model to auto infer the model signature.\n",
      "2024/10/08 19:47:58 INFO mlflow.tracking._tracking_service.client: 🏃 View run RandomForest_Hyperopt at: https://dagshub.com/JuanPab2009/nys-taxi-time-prediction.mlflow/#/experiments/1/runs/e0b149d7af644caf8dee7736ccb252a8.\n",
      "2024/10/08 19:47:58 INFO mlflow.tracking._tracking_service.client: 🧪 View experiment at: https://dagshub.com/JuanPab2009/nys-taxi-time-prediction.mlflow/#/experiments/1.\n"
     ]
    },
    {
     "name": "stdout",
     "output_type": "stream",
     "text": [
      "Mejores parámetros para Random Forest: {'max_depth': 30, 'max_features': 'sqrt', 'min_samples_leaf': 4, 'min_samples_split': 10, 'n_estimators': 800, 'random_state': 42}\n",
      "RMSE final para Random Forest: 7.546235282965409\n",
      "Experiment ID: 1\n",
      "El mejor run ID es: ed99dc745da54b18b609cac224202bc1 con rmse_final: 5.138932505351716\n",
      "Modelo registrado en: runs:/ed99dc745da54b18b609cac224202bc1/rf_final_model\n"
     ]
    }
   ],
   "execution_count": 20
  },
  {
   "metadata": {},
   "cell_type": "code",
   "outputs": [],
   "execution_count": null,
   "source": "",
   "id": "d39ed0fbf83dc33e"
  },
  {
   "metadata": {},
   "cell_type": "code",
   "outputs": [],
   "execution_count": null,
   "source": "",
   "id": "eb44225668d3e9db"
  },
  {
   "metadata": {},
   "cell_type": "code",
   "outputs": [],
   "execution_count": null,
   "source": "",
   "id": "ec7c620550166fd7"
  },
  {
   "metadata": {},
   "cell_type": "code",
   "outputs": [],
   "execution_count": null,
   "source": "",
   "id": "cb2d01207e906bc3"
  },
  {
   "metadata": {},
   "cell_type": "code",
   "outputs": [],
   "execution_count": null,
   "source": [
    "import mlflow.pyfunc\n",
    "\n",
    "# Cargar el modelo champion\n",
    "model_champion = mlflow.pyfunc.load_model(\"models:/nyc-taxi-model@champion\")\n",
    "\n",
    "# Cargar el modelo challenger\n",
    "model_challenger = mlflow.pyfunc.load_model(\"models:/nyc-taxi-model@challenger\")"
   ],
   "id": "fca88d5961aa765e"
  }
 ],
 "metadata": {
  "kernelspec": {
   "display_name": "Python 3",
   "language": "python",
   "name": "python3"
  },
  "language_info": {
   "codemirror_mode": {
    "name": "ipython",
    "version": 2
   },
   "file_extension": ".py",
   "mimetype": "text/x-python",
   "name": "python",
   "nbconvert_exporter": "python",
   "pygments_lexer": "ipython2",
   "version": "2.7.6"
  }
 },
 "nbformat": 4,
 "nbformat_minor": 5
}
